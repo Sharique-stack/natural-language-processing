{
  "nbformat": 4,
  "nbformat_minor": 0,
  "metadata": {
    "colab": {
      "name": "Data Science Illumu Internship.ipynb",
      "provenance": [],
      "authorship_tag": "ABX9TyPNhz4jpL5D0b7peZz9NkGC",
      "include_colab_link": true
    },
    "kernelspec": {
      "name": "python3",
      "display_name": "Python 3"
    },
    "language_info": {
      "name": "python"
    }
  },
  "cells": [
    {
      "cell_type": "markdown",
      "metadata": {
        "id": "view-in-github",
        "colab_type": "text"
      },
      "source": [
        "<a href=\"https://colab.research.google.com/github/Sharique-stack/natural-language-processing/blob/master/Data_Science_Illumu_Internship.ipynb\" target=\"_parent\"><img src=\"https://colab.research.google.com/assets/colab-badge.svg\" alt=\"Open In Colab\"/></a>"
      ]
    },
    {
      "cell_type": "code",
      "metadata": {
        "colab": {
          "base_uri": "https://localhost:8080/"
        },
        "id": "m9NjQPx0BhtP",
        "outputId": "7d7b1e30-dd8b-4318-d6e2-6e2047e5bb4f"
      },
      "source": [
        "pip install praw"
      ],
      "execution_count": 98,
      "outputs": [
        {
          "output_type": "stream",
          "name": "stdout",
          "text": [
            "Requirement already satisfied: praw in /usr/local/lib/python3.7/dist-packages (7.4.0)\n",
            "Requirement already satisfied: update-checker>=0.18 in /usr/local/lib/python3.7/dist-packages (from praw) (0.18.0)\n",
            "Requirement already satisfied: prawcore<3,>=2.1 in /usr/local/lib/python3.7/dist-packages (from praw) (2.3.0)\n",
            "Requirement already satisfied: websocket-client>=0.54.0 in /usr/local/lib/python3.7/dist-packages (from praw) (1.2.1)\n",
            "Requirement already satisfied: requests<3.0,>=2.6.0 in /usr/local/lib/python3.7/dist-packages (from prawcore<3,>=2.1->praw) (2.23.0)\n",
            "Requirement already satisfied: chardet<4,>=3.0.2 in /usr/local/lib/python3.7/dist-packages (from requests<3.0,>=2.6.0->prawcore<3,>=2.1->praw) (3.0.4)\n",
            "Requirement already satisfied: certifi>=2017.4.17 in /usr/local/lib/python3.7/dist-packages (from requests<3.0,>=2.6.0->prawcore<3,>=2.1->praw) (2021.5.30)\n",
            "Requirement already satisfied: idna<3,>=2.5 in /usr/local/lib/python3.7/dist-packages (from requests<3.0,>=2.6.0->prawcore<3,>=2.1->praw) (2.10)\n",
            "Requirement already satisfied: urllib3!=1.25.0,!=1.25.1,<1.26,>=1.21.1 in /usr/local/lib/python3.7/dist-packages (from requests<3.0,>=2.6.0->prawcore<3,>=2.1->praw) (1.24.3)\n"
          ]
        }
      ]
    },
    {
      "cell_type": "code",
      "metadata": {
        "colab": {
          "base_uri": "https://localhost:8080/"
        },
        "id": "XoJWc01dAxtv",
        "outputId": "874d01c3-7358-44a1-ac8c-790c5a2c215a"
      },
      "source": [
        "pip install psaw"
      ],
      "execution_count": 99,
      "outputs": [
        {
          "output_type": "stream",
          "name": "stdout",
          "text": [
            "Requirement already satisfied: psaw in /usr/local/lib/python3.7/dist-packages (0.1.0)\n",
            "Requirement already satisfied: Click in /usr/local/lib/python3.7/dist-packages (from psaw) (7.1.2)\n",
            "Requirement already satisfied: requests in /usr/local/lib/python3.7/dist-packages (from psaw) (2.23.0)\n",
            "Requirement already satisfied: idna<3,>=2.5 in /usr/local/lib/python3.7/dist-packages (from requests->psaw) (2.10)\n",
            "Requirement already satisfied: certifi>=2017.4.17 in /usr/local/lib/python3.7/dist-packages (from requests->psaw) (2021.5.30)\n",
            "Requirement already satisfied: chardet<4,>=3.0.2 in /usr/local/lib/python3.7/dist-packages (from requests->psaw) (3.0.4)\n",
            "Requirement already satisfied: urllib3!=1.25.0,!=1.25.1,<1.26,>=1.21.1 in /usr/local/lib/python3.7/dist-packages (from requests->psaw) (1.24.3)\n"
          ]
        }
      ]
    },
    {
      "cell_type": "code",
      "metadata": {
        "id": "CgXOIHiFEY_0"
      },
      "source": [
        "import praw\n",
        "import time\n",
        "from psaw import PushshiftAPI\n",
        "\n",
        "api = PushshiftAPI()"
      ],
      "execution_count": 100,
      "outputs": []
    },
    {
      "cell_type": "code",
      "metadata": {
        "id": "xQ9cTTf8FEEZ"
      },
      "source": [
        "reddit = praw.Reddit(client_id='SOZAOZdlRYDAmLVvEMObyw', client_secret='JqqVvCk8P0p5VcvU_mu3g3pDv4kxKA', user_agent='WebScraping')\n",
        "api = PushshiftAPI(reddit)"
      ],
      "execution_count": 101,
      "outputs": []
    },
    {
      "cell_type": "code",
      "metadata": {
        "colab": {
          "base_uri": "https://localhost:8080/"
        },
        "id": "WQE9yzFLKkrQ",
        "outputId": "ba022e3b-e693-4ee1-8ef0-dc60c03dd984"
      },
      "source": [
        "import datetime as dt\n",
        "\n",
        "start_epoch=int(dt.datetime(2021, 6, 27).timestamp())\n",
        "\n",
        "posts=list(api.search_submissions(after=start_epoch,\n",
        "                            subreddit='Anxiety',limit=500))\n",
        "list_=[]\n",
        "for post in posts:\n",
        "  list_.append(post.selftext)\n"
      ],
      "execution_count": 102,
      "outputs": [
        {
          "output_type": "stream",
          "name": "stderr",
          "text": [
            "It appears that you are using PRAW in an asynchronous environment.\n",
            "It is strongly recommended to use Async PRAW: https://asyncpraw.readthedocs.io.\n",
            "See https://praw.readthedocs.io/en/latest/getting_started/multiple_instances.html#discord-bots-and-asynchronous-environments for more info.\n",
            "\n",
            "It appears that you are using PRAW in an asynchronous environment.\n",
            "It is strongly recommended to use Async PRAW: https://asyncpraw.readthedocs.io.\n",
            "See https://praw.readthedocs.io/en/latest/getting_started/multiple_instances.html#discord-bots-and-asynchronous-environments for more info.\n",
            "\n",
            "It appears that you are using PRAW in an asynchronous environment.\n",
            "It is strongly recommended to use Async PRAW: https://asyncpraw.readthedocs.io.\n",
            "See https://praw.readthedocs.io/en/latest/getting_started/multiple_instances.html#discord-bots-and-asynchronous-environments for more info.\n",
            "\n",
            "It appears that you are using PRAW in an asynchronous environment.\n",
            "It is strongly recommended to use Async PRAW: https://asyncpraw.readthedocs.io.\n",
            "See https://praw.readthedocs.io/en/latest/getting_started/multiple_instances.html#discord-bots-and-asynchronous-environments for more info.\n",
            "\n",
            "It appears that you are using PRAW in an asynchronous environment.\n",
            "It is strongly recommended to use Async PRAW: https://asyncpraw.readthedocs.io.\n",
            "See https://praw.readthedocs.io/en/latest/getting_started/multiple_instances.html#discord-bots-and-asynchronous-environments for more info.\n",
            "\n"
          ]
        }
      ]
    },
    {
      "cell_type": "code",
      "metadata": {
        "colab": {
          "base_uri": "https://localhost:8080/"
        },
        "id": "ons1fQZeNBN4",
        "outputId": "60c9fb3c-5344-4a34-8946-302cef91b9de"
      },
      "source": [
        "import nltk\n",
        "nltk.download('punkt')\n",
        "from nltk.tokenize import sent_tokenize\n",
        "sentences=list()\n",
        "for lis in list_:\n",
        "  for l in sent_tokenize(lis):\n",
        "    sentences.append(l)   "
      ],
      "execution_count": 107,
      "outputs": [
        {
          "output_type": "stream",
          "name": "stdout",
          "text": [
            "[nltk_data] Downloading package punkt to /root/nltk_data...\n",
            "[nltk_data]   Package punkt is already up-to-date!\n"
          ]
        }
      ]
    },
    {
      "cell_type": "code",
      "metadata": {
        "colab": {
          "base_uri": "https://localhost:8080/"
        },
        "id": "0oGgFDWlON3d",
        "outputId": "b154c647-e747-428a-e180-88b102ff8207"
      },
      "source": [
        "print(sentences[0],sentences[1],sentences[2])"
      ],
      "execution_count": 106,
      "outputs": [
        {
          "output_type": "stream",
          "name": "stdout",
          "text": [
            "This physical pain. It's like there's a boulder on my chest. There is a knot in my stomach.\n"
          ]
        }
      ]
    },
    {
      "cell_type": "code",
      "metadata": {
        "id": "1Y95mquROY4e"
      },
      "source": [
        "#sentences_train=sentences[:200]\n",
        "#sentences_test=sentences[201:500]"
      ],
      "execution_count": 105,
      "outputs": []
    },
    {
      "cell_type": "code",
      "metadata": {
        "colab": {
          "base_uri": "https://localhost:8080/"
        },
        "id": "F22peJO7LMf5",
        "outputId": "5af97f29-5b61-4a8c-a4fb-92f7447d5ccb"
      },
      "source": [
        "!pip install nltk"
      ],
      "execution_count": 108,
      "outputs": [
        {
          "output_type": "stream",
          "name": "stdout",
          "text": [
            "Requirement already satisfied: nltk in /usr/local/lib/python3.7/dist-packages (3.2.5)\n",
            "Requirement already satisfied: six in /usr/local/lib/python3.7/dist-packages (from nltk) (1.15.0)\n"
          ]
        }
      ]
    },
    {
      "cell_type": "code",
      "metadata": {
        "colab": {
          "base_uri": "https://localhost:8080/"
        },
        "id": "1A1glL-2O_B9",
        "outputId": "6dd3b788-6bc3-49fb-dd11-309574fb2088"
      },
      "source": [
        "!pip install wordcloud"
      ],
      "execution_count": 109,
      "outputs": [
        {
          "output_type": "stream",
          "name": "stdout",
          "text": [
            "Requirement already satisfied: wordcloud in /usr/local/lib/python3.7/dist-packages (1.5.0)\n",
            "Requirement already satisfied: pillow in /usr/local/lib/python3.7/dist-packages (from wordcloud) (7.1.2)\n",
            "Requirement already satisfied: numpy>=1.6.1 in /usr/local/lib/python3.7/dist-packages (from wordcloud) (1.19.5)\n"
          ]
        }
      ]
    },
    {
      "cell_type": "code",
      "metadata": {
        "id": "zfHVxsTqQExX"
      },
      "source": [
        "# General packages\n",
        "import numpy as np\n",
        "import pandas as pd\n",
        "import seaborn as sns\n",
        "import matplotlib.pyplot as plt\n",
        "import os\n",
        "\n",
        "# NLP packages\n",
        "import nltk\n",
        "from nltk import word_tokenize\n",
        "from sklearn.feature_extraction.text import CountVectorizer\n",
        "from sklearn.feature_extraction.text import TfidfVectorizer\n",
        "from collections import Counter\n",
        "from wordcloud import WordCloud\n",
        "\n",
        "# Modeling packages\n",
        "from sklearn.model_selection import train_test_split\n",
        "from sklearn.linear_model import LogisticRegression\n",
        "from sklearn.ensemble import RandomForestClassifier\n",
        "from sklearn.metrics import accuracy_score\n",
        "from sklearn.metrics import f1_score\n",
        "\n",
        "from pylab import rcParams\n",
        "import warnings\n",
        "warnings.filterwarnings(\"ignore\")\n",
        "rcParams['figure.figsize']=14,6\n",
        "plt.style.use('ggplot')"
      ],
      "execution_count": 110,
      "outputs": []
    },
    {
      "cell_type": "code",
      "metadata": {
        "id": "RZju7wnjempA"
      },
      "source": [
        "# utilities\n",
        "import re\n",
        "import numpy as np\n",
        "import pandas as pd\n",
        "# plotting\n",
        "import seaborn as sns\n",
        "from wordcloud import WordCloud\n",
        "import matplotlib.pyplot as plt\n",
        "# nltk\n",
        "from nltk.stem import WordNetLemmatizer\n",
        "# sklearn\n",
        "from sklearn.svm import LinearSVC\n",
        "from sklearn.naive_bayes import BernoulliNB\n",
        "from sklearn.linear_model import LogisticRegression\n",
        "from sklearn.model_selection import train_test_split\n",
        "from sklearn.feature_extraction.text import TfidfVectorizer\n",
        "from sklearn.metrics import confusion_matrix, classification_report"
      ],
      "execution_count": 253,
      "outputs": []
    },
    {
      "cell_type": "code",
      "metadata": {
        "id": "6WgwwurPeoxP"
      },
      "source": [
        ""
      ],
      "execution_count": null,
      "outputs": []
    },
    {
      "cell_type": "code",
      "metadata": {
        "colab": {
          "base_uri": "https://localhost:8080/"
        },
        "id": "KNUsfAlrUhNv",
        "outputId": "0df35306-28e2-4914-c2b5-d453c8eade31"
      },
      "source": [
        "nltk.download('punkt')"
      ],
      "execution_count": 111,
      "outputs": [
        {
          "output_type": "stream",
          "name": "stdout",
          "text": [
            "[nltk_data] Downloading package punkt to /root/nltk_data...\n",
            "[nltk_data]   Package punkt is already up-to-date!\n"
          ]
        },
        {
          "output_type": "execute_result",
          "data": {
            "text/plain": [
              "True"
            ]
          },
          "metadata": {},
          "execution_count": 111
        }
      ]
    },
    {
      "cell_type": "code",
      "metadata": {
        "id": "KsZHH7H8ZxS_",
        "colab": {
          "base_uri": "https://localhost:8080/"
        },
        "outputId": "42f35b34-cc1d-4613-9e61-b62a24c465ad"
      },
      "source": [
        "import csv\n",
        "sentences"
      ],
      "execution_count": 113,
      "outputs": [
        {
          "output_type": "execute_result",
          "data": {
            "text/plain": [
              "['This physical pain.',\n",
              " \"It's like there's a boulder on my chest.\",\n",
              " 'There is a knot in my stomach.',\n",
              " \"I don't know how to make it go away, I'm so exhausted.\",\n",
              " \"I can't cry.\",\n",
              " 'I have forgotten how to breathe properly.',\n",
              " \"I can't, I just can't anymore.\",\n",
              " 'Do anyone else feel like there is an \"air bubble\" in your throat?',\n",
              " 'And when you swallow saliva, it feels like it is going up then down.',\n",
              " 'Is this anxiety related?',\n",
              " 'Hyperacidity and acid reflux runs down in my family both sides and I have it too.',\n",
              " 'I also suffer from anxiety and panic attacks.',\n",
              " 'Can this be caused by anxiety or acid reflux?',\n",
              " 'I also had been in an anxious situation a while ago.',\n",
              " 'Any tips or techniques to get rid of this sensation?',\n",
              " 'Title.',\n",
              " 'And guess what?',\n",
              " 'Went to the ER everything checked out.',\n",
              " 'I am actually a little bit thankful that I did have these two attacks in a row because it really tells me that after all these physical symptoms and me thinking it’s a heart attack that it is quite literally me just getting myself worked up.',\n",
              " 'Onwards and upwards!',\n",
              " \"I'm about to go out and I don't know how to deal with it, i already have stomachache i dont know what to do\",\n",
              " 'Hey everybody!',\n",
              " 'I went to my doctor on Monday and he gave me some etifoxine (stresam) to take in the morning and the evening to help with my anxiety and help me sleep.',\n",
              " \"Once I got home I started researching this on the internet and I've read a lot about how it doesn't do much and gave people very bad (and quite dangerous) side effects.\",\n",
              " \"Now I'm scared to try it in case it makes me sick.\",\n",
              " 'What should I do?',\n",
              " \"That's all.\",\n",
              " 'I’m 18 years old.',\n",
              " 'For the last 9 months I’ve woken up in a shear panic attack that would last for a few hours if I was lucky.',\n",
              " 'Within the time I wake up to when it’s over, I sit on the bathroom floor and violently throw up.',\n",
              " 'I’m balling my eyes out, not wanting to be here, not wanting to continue on with it.',\n",
              " 'I can’t breathe or talk, and I’ve been getting help.',\n",
              " 'I was put through c-pep a month ago and shit just doesn’t get better.',\n",
              " 'I’m finally trying to open up again, meet someone new.',\n",
              " 'And I have, in fact I’m supposed to be seeing her tmr and stay the night.',\n",
              " 'But all I fucking do when I think about it is throw up.',\n",
              " 'Which makes no sense considering I want this more than anything.',\n",
              " 'It’s completely ruining my life and I just need someone else, who also vomits from too much of one feeling to just help me out.',\n",
              " 'Please tell me something I don’t know.',\n",
              " 'I’m just exhausted..',\n",
              " \"I don't know if anyone else suffers from this.\",\n",
              " \"But I will look in the mirror on some days and think 'geez you look like your dying' I've lost weight these last few months (not underweight) and I think I look paler....\\n\\nMy weight just shocks me cause I haven't been this weight in almost 4 years!\",\n",
              " \"And I'm already super pale to begin with, and I haven't been going outside ever...\",\n",
              " \"BUT my anxiety is a bitch and when I'm looking at myself, it repeatedly tells me 'your dying.\",\n",
              " \"Google it I bet it will tell you the same thing'\\n\\nAnd it makes me even more anxious when my family randomly shows up at my house and all I can worry about is 'oh god they are going to think something serious is wrong with me' (which they never do.\",\n",
              " 'They always tell me I look the same lol) \\n\\nI just wish for a break.',\n",
              " 'A normal day would be wonderful.',\n",
              " 'Does anyone else get dizzy?',\n",
              " 'And does it come on before anxiety??',\n",
              " 'Or during?',\n",
              " '?',\n",
              " 'My anxiety started in in August and has progressively gotten worse.',\n",
              " 'I always feel a rush of adrenaline in my chest when lying down.',\n",
              " \"Now, I've been told I suffer from depression as well.\",\n",
              " 'My sleep disturbances started late August waking up a few times but able to go back to sleep.',\n",
              " 'a couple of weeks ago I having trouble falling asleep.',\n",
              " 'When I start to doze off my body would experience hypnic jerks and I would jolt awake.',\n",
              " 'I would end up staying awake the whole night.',\n",
              " 'I am unable to nap.',\n",
              " 'I use a sleep aid so I can sleep and function during the day.',\n",
              " 'I meditate daily, practice living in the present, exercise.',\n",
              " 'Nothing seems to help.',\n",
              " 'My doctor prescribed Lexapro to treat my anxiety and depression.',\n",
              " 'Would the insomnia subside if I can get my anxiety ad depression under control?',\n",
              " 'Or do I need to see a sleep specialist?',\n",
              " 'Literally 3 minutes ago I was about to sleep then all the sudden my legs randomly started to feel weird.',\n",
              " 'Like electricity was running through them.',\n",
              " 'And I feel a weird needle like pain on my feet.',\n",
              " 'That sensation lasted for about 10 seconds.',\n",
              " 'The needle pain happened twice.',\n",
              " 'It’s scary to me.',\n",
              " 'Yesterday I had an okay day so now after this happened I’m feeling like I’ll just be anxious for the next couple days.',\n",
              " 'It’s 5:42am for me now.',\n",
              " 'I have health anxiety so anything weird happening in my body I automatically think I have something wrong with me.',\n",
              " 'I’m very scared it’s something bad.',\n",
              " 'I also am scared of doctors.',\n",
              " 'I’m just scared 🥺🥺🥺 why are my legs feeling weird.',\n",
              " 'Imma cry',\n",
              " 'My anxiety has been so horrible this week.',\n",
              " 'I had to quit therapy b/c I found out my Medicare type doesn’t cover it.',\n",
              " 'I thought it would be a smooth transition but I’ve never felt so much horrible anxiety.',\n",
              " 'That and other factors of life are making me so anxious to the point where I can’t leave my house.',\n",
              " 'I can’t go to school because the thought of being anywhere that isn’t my house sets me off.',\n",
              " 'This morning I was crying and hyperventilating because I was about to leave the house and walk to the bus stop but I felt paralyzed.',\n",
              " 'Like even the thought of touching the door handle scared me.',\n",
              " 'I know it’s my brain making the world seem scarier than it is and I know it’s irrational but I can’t.',\n",
              " 'I can’t explain it well.',\n",
              " 'I can’t imagine existing outside the world I’ve already made for myself inside home.',\n",
              " 'My dad asked what I was wrong he was practically begging me to tell him what was wrong but I couldn’t tell him.',\n",
              " 'I, myself, can’t even pinpoint it.',\n",
              " 'I’ve missed school yesterday and im missing today as well .',\n",
              " 'I feel pathetic.',\n",
              " 'I feel burnt out to where I don’t even want to speak.',\n",
              " 'I feel horrible.',\n",
              " '[deleted]',\n",
              " 'I was told beforehand that they are likely to make things worse before they make them better, so this isn’t a surprise.',\n",
              " 'But I’m now on my third consecutive sick day from work staying underneath my covers because I can’t handle thinking about anything else.',\n",
              " 'I’m freaking out and I hate it.',\n",
              " \"I'd like to say that most days my anxiety is under control, or low.\",\n",
              " 'But then there are those days where EVERYTHING makes me a worried wreck.',\n",
              " \"Right now I'm stressing myself out over a Dj-gig I have together with a friend in three weeks.\",\n",
              " 'Yesterday my brain also decided to remember a few stupid things the bf told me years back, which makes me feel insecure today for some reason.',\n",
              " 'Never mind why, right?',\n",
              " \"It doesn't really matter what it is, the anxiety pops up regardless how small or insignificant.\",\n",
              " \"I'm just not quite sure what to do with it.\",\n",
              " 'What do you guys do?',\n",
              " 'Do you shut yourself off from the world for the evening and just try to stabilize?',\n",
              " 'I tried to meditate, but yeah, still sitting here with anxiety.',\n",
              " '\"This too shall pass\", I just get so angry at my brain when it does this.',\n",
              " 'What could possibly be the purpose of grabbing onto one of the few mean things the bf has told me during our 8 years and obsess about it?',\n",
              " \"(I'm sure he didn't mean for it to be mean, hes a good guy.\",\n",
              " 'Its just another example of a mind obsessing about some random thing in the past really.)',\n",
              " 'And I KNOW the gig will be fun, just got to suffer through the three weeks of agony beforehand?',\n",
              " 'Fucking sucks.',\n",
              " \"I'm suffering anxiety and my SSRIs finally started working, I feel normal again and able to keep up with my daily tasks.\",\n",
              " 'Except one thing, I really cannot push myself into stuff I love doing.',\n",
              " \"I draw, and I'm also pursuing masters degree at Academy of Fine arts.\",\n",
              " 'Drawing is a must for me and also my biggest passion.',\n",
              " \"But ever since my panic disorder and anxiety kicked in, I've been avoiding it to the point I cannot even be in the same room as my working tech (I'm a digital artist).\",\n",
              " \"I push myself everyday, but only after couple of minutes drawing something I'd otherwise enjoy, I start getting nauseous and my heart is going crazy.\",\n",
              " \"At this point I'm literally doing everything else beside that, I read, clean, and interact with friends and my partner, but cannot get myself to engage with my real passion.\",\n",
              " 'Does anyone has thoughs on that?',\n",
              " ':)',\n",
              " '[deleted]',\n",
              " 'I took my first sertraline pill last night at 7pm.',\n",
              " '50mg.',\n",
              " 'This morning I randomly woke up around 2am to the most intense panic attack of my life.',\n",
              " 'I was so stressed and anxious she heard me say \"I want to die\" loudly as a way to expell what I was feeling from me.',\n",
              " \"I've spent the morning hyper ventilating, legs weak with a migraine and an intense weight in my chest.\",\n",
              " 'I called the doctor who said this should go away after a few days, but my family is concerned for me.',\n",
              " \"Here's the thing, I don't have anxiety all the time, I only get it in certain situations where my life isn't going well, yesterday I was feeling great, and this morning I feel worse than I've ever felt in a long time.\",\n",
              " \"My family said I shouldn't take any more medication,  I'm inclined to agree, I have studies to complete and this is getting in the way.\",\n",
              " \"Right now I'm laying in bed trying to insulate myself from how cold I feel, I'm thinking all the worst thoughts about myself whereas yesterday I was fine.\",\n",
              " 'What should I do?',\n",
              " 'This is much more intense than I was expecting',\n",
              " '[removed]',\n",
              " 'Yeah, so.',\n",
              " 'Imma tell you.',\n",
              " 'I have this nice combination of anxiety and add and all my life, my parents and teachers got/get super mad at me, because I forgot to do something they told me 5 minutes, or even 30 seconds ago and I get super anxious about it and in the end of the day I feel like I\\'m gonna colapse xddd \\nBut most of the time Its just this funny \"I...wanted to say something...I forgot what it was...oh my god...wtf did I want to...Aaaaaaaaa....AAAAAAA\" and it actually makes some people laugh, so I don\\'t mind it that much xddd But yeah, it\\'s a fun combination that I wasn\\'t aware of until recently, when my friend pointed out that I show all the symptoms of ADD and she was right it seems xddd\\n\\nSo yeah, just wanted to tell this to y\\'all, hope you have a nice day and remember, that I love you all!',\n",
              " 'I can’t focus on anything, eat, drink, sleep.',\n",
              " 'I try to read something and this horrible feeling comes over me of complete sadness and like something bad is going to happen.',\n",
              " 'I am so desperate for someone to talk to I don’t even understand it 🥺',\n",
              " \"I didn't really experience real anxiety or stress until I was like 19.\",\n",
              " 'I had a good upbringing with no traumatic incidents and had parents who were very lax, so I feel like there was literally nothing for me to care about.',\n",
              " 'I had no concept of the future or responsibility.',\n",
              " 'I remember my best friend had anxiety and I couldn\\'t even comprehend what that meant and when my friends would talk about how stressed they were I\\'d be like \"why?',\n",
              " 'just stop caring?\".',\n",
              " 'Then when I was 19 I moved to a city and started living alone and had to get a job of course.',\n",
              " \"I feel like the reality of life hit me all at once and since then (I'm 23 now) it's never been the same.\",\n",
              " \"It's been particularly bad the past couple years.\",\n",
              " \"I can't smoke weed anymore cause I have panic attacks every time.\",\n",
              " \"I've not been drinking very much for months cause it sends me into an unbearable depression &amp; gives me anxiety.\",\n",
              " 'I just miss how stress free my life used to.',\n",
              " 'Sometimes I think back to how my brain used to think about things and process stuff and I wish I could go back to bring able to think the same way and not worry so much about everything.',\n",
              " 'Bums me out sometimes.',\n",
              " \"Feels like this is just life now and I'm gonna have to live with this forever and I won't ever get back to the way it used to be.\",\n",
              " \"In a way I'm grateful that I at least got to experience those 19 anxiety free years, but I just want it back so bad.\",\n",
              " \"Hi all,\\n\\nSo I've experienced brain zaps before, when I've been coming off of antidepressants or missed doses but I'm currently on antidepressants and I haven't missed any doses.\",\n",
              " \"Yesterday when I returned home, I noticed that the back garden gate was open which isn't possible because its bolt locked.\",\n",
              " 'When I saw this, my body instantly starting having zaps up and down my body.',\n",
              " 'I know that I had a rush of adrenaline, but when I turned my head or heard a noise or was coming around a corner, my whole body shocked from my brain to my feet.',\n",
              " 'It was absolutely awful.',\n",
              " \"It didn't feel like a normal fear response, like I said there was zaps up and down my body, it felt like the jerks you get when you're falling asleep and your body jolts.\",\n",
              " \"Does this happen to anyone else when they're faced with a scary situation or threat?\",\n",
              " \"I've been feeling really depressed and anxious for the past week or so.\",\n",
              " 'I truly feel awful and i am always on the verge f crying because i have that much stress.',\n",
              " 'I always feel like this when a minor inconvenience  happens in my life and it throws me right into a worrying-overthinking-spiral that i cannot escape.',\n",
              " \"Especially if i don't have the any control over these situations.\",\n",
              " \"For example, my bf's wisdom teeth need to be removed in 2 weeks and for some reason i have been a total mess since i knew.\",\n",
              " \"I really don't know why but i just can't stop worrying about things that could go wrong and i don't want to see him in pain.\",\n",
              " 'I know it sounds ridiculous but my anxious brain is making such a big thing out of it.',\n",
              " \"I've had 3 panic attacks in the last few days just because i cannot get it out of my head.\",\n",
              " \"It makes me feel weak and ashamed tbh 😅\\nIt's not that big of a deal and what about people who actually are dealing with much greater issues and worries?\",\n",
              " \"What must they think of me...\\nAnd If i can't handle this then what if something really major happens in the future?\",\n",
              " 'It makes me even more afraid, like if my bf ever got in a serious accident i would just die i guess.',\n",
              " 'Is this even normal?',\n",
              " 'Am i the only one?',\n",
              " 'And how do i deal with these feelings?',\n",
              " 'I know my thoughts are irrational but my feelings are still real.',\n",
              " \"His surgery isn't for two more weeks but i don't want to feel like this for two more weeks.\",\n",
              " \"I also don't think that is the only reason why i am feeling so shitty but that was the triggering event i guess.\",\n",
              " 'Anyway, words of advice are highly appreciated <3',\n",
              " 'Hello.',\n",
              " \"It's quite common for me to feel uncomfortable about being physically close to someone, but i never really noticed it as a repeating problem, my instincts just solved it.\",\n",
              " 'By that I mean I would just leave the room when i feel a bit uncomfy.',\n",
              " 'But on Monday I felt really uncomfortable while in class, i Just wanted to be alone, i hugged myself, went into the fetus position, and was just constantly moving away when someone walked near me.',\n",
              " 'I really feared getting touched and really wanted distance.',\n",
              " 'It was the first time this happened and i ended up just crying and shaking until it passed.',\n",
              " \"Right now I'm experiencing the same, i really don't want anyone around me, but my friends are aware of this now and I'm more prepared so I don't expect it to get as bad as it did on Monday.\",\n",
              " \"I just flinched because my class mate moved their arm and they're within reach of me.\",\n",
              " 'I really do not want to be touched and I fear it a  lot at the moment.',\n",
              " \"I wouldn't say I have social anxiety as I feel quite comfy with new people but atm I really just want to get away from everyone.\",\n",
              " '[deleted]',\n",
              " 'I am a girl (18f) and really not sure that I love a boy or not.',\n",
              " 'But I have just wanted to Time pass with him and really did it.',\n",
              " 'But recently I heard that he is going to be married.',\n",
              " \"Now I am become crazy by thinking that I can't time pass with him anymore.\",\n",
              " 'And he will not pay attention to me anymore.',\n",
              " 'And I want to back his attention to me.',\n",
              " \"I didn't say about my love to him and he has not done it also.\",\n",
              " '[removed]',\n",
              " 'Like many anxiety has stole time away from my life.',\n",
              " \"Months in fact, and I think I've seen it at it's very worst and I don't want that to happen ever again.\",\n",
              " \"A change I will make is to make time to do things which help my anxiety every day, ESPECIALLY on the days where I'm NOT feeling anxious.\",\n",
              " \"This is something I've neglected to do.\",\n",
              " \"When things are going my way I'll ride the wave rather than take stock of the situation and not get carried away.\",\n",
              " 'So daily I want to take things easy, practise yoga, do breathing exercises, take more baths and walks (alone time!',\n",
              " '), eat less crap.',\n",
              " \"Hopefully that way I'm best equipped to deal with anxiety when it rears its ugly head next!\",\n",
              " 'Hey guys, I am having a really tough time with my anxiety now.',\n",
              " 'Always gets worse for me at the end of the year I’m not sure why.',\n",
              " 'I am deathly afraid of any confrontation, so I let so much of shit slide.',\n",
              " 'Basically I just ignore or act like something doesn’t affect me when it doesn’t.',\n",
              " 'I remember last year I was sitting in my car, turned off and the guy next to me slammed his door against my car.',\n",
              " 'I was so pissed and angry but I was too scared to confront him or say anything.',\n",
              " 'After the “altercation” with me not doing anything, this anger brews in myself that I can’t even defend myself or my loved ones in the future if I am always like this, and that anger makes me so angry at the small stuff too.',\n",
              " 'I tend to get very angry and worked up nowadays if I sense even the slightest sarcasm or attitude or anything besides 100% sweet and kind interactions which I expect for some reason.',\n",
              " 'I can’t take any rude behaviour or any interaction that seems half arsed.',\n",
              " 'I get so damn angry and depressed over the way I am being treated, and then I get depressed and angry over the fact that I am too scared to do or say anything about it, and the voice at the back of my mind says I’m not a man or I’m not normal.',\n",
              " 'Has anyone else experienced this kind of mental torture?',\n",
              " 'I am unable to do normal stuff people my age do because I fear these intersections and the subsequent internalised reaction my brain goes though.',\n",
              " 'I need to apply for a job now as I’ve just graduated but I can’t seem to apply as I’m too afraid to get rejected for the job and destroy my already absent self esteem in addition to being afraid of the interactions that I would have to go though from the interview and during my job too\\n\\nI am just a shell of a person now \\n\\nAnd I hope this issue is not forever.',\n",
              " 'I have tried therapy but I couldn’t even do the tasks I was given because it was too hard for me to do, and that was just to call and talk to my friends over the phone, which I don’t do too',\n",
              " 'I decided to join this subreddit because although I don’t suffer from particular diseases I am a person who likes to see things in their place and that in difficult situations can panic, for example if I am alone in facing a problem.',\n",
              " 'So I’d like to tell you when something comes to mind and especially help those in need.',\n",
              " 'Thanks again for the welcome, a hug.',\n",
              " 'This is the first time I’m experiencing this and I don’t know if I’m really having an episode or it’s just panic and all in my head.',\n",
              " 'What happened before was I got lost in my own thought because of some triggers that makes worried sick, then I can feel my heartbeat and my hands shake terribly and my vision narrowed.',\n",
              " 'This happened a few weeks ago but now I just keep asking myself did it really happen or I’m just overreacting?',\n",
              " 'Or worse, maybe I want it to happen?',\n",
              " 'I just feel like I can’t trust my own judgement.',\n",
              " 'My doctor said i can take Celexa in the morning and then amitriptyline at night to help with sleep and tension headaches.',\n",
              " 'I thought your not meant to take 2 antidepressants.',\n",
              " 'This might seem pretty small but this last year has been really bad for me.',\n",
              " 'Im on sick leave for at least the rest of the year and even then I dont have a job to go back to from what it looks like now.',\n",
              " 'Basically feeling pretty useless.',\n",
              " 'All i do is sit at home and go to treatments.',\n",
              " 'But today my little brother asked me for help on his homework in sociology!',\n",
              " 'I have a university degree in science of social work so this is right up my alley.',\n",
              " 'It just made me so, so happy.',\n",
              " 'Its the small things I guess.',\n",
              " '[deleted]',\n",
              " 'When you go to school/work or even wondering in home, do you guys have need to have/make friends?',\n",
              " \"I might be asking myself, buuut- I said to myself that I don't need them, and then I question myself about it and IT always ends up that I need them.\",\n",
              " \"It's just sad because of my shyness or lack of confidence I can't get up to making new friends at all..\",\n",
              " 'For the past two years on and off I’ve had 3 periods of some really debilitating health anxiety.',\n",
              " 'It started off after I got a septoplasty, which is where they fix your deviated septum.',\n",
              " 'Before the surgery I read up online about a disease called empty nose syndrome.',\n",
              " 'It was a real scary disease that a lot of people end up committing suicide from because of the symptoms it leaves u with.',\n",
              " 'The disease is rare but looking it up it said it’s possible to get it a few years later, which is even more rare in its own.',\n",
              " 'Most people that get it later will get it a year later or so but they’ll have weird symptoms right after surgery.',\n",
              " 'I Talked to the doctor because I was so scared of that disease and he told me that he’s going to make sure I don’t get it which made me feel good at the time.',\n",
              " 'To make this story shorter basically I just did a bunch of research and looked at the people who talked about the disease and they’re experiences etc.',\n",
              " 'After this happened I had some anxiety but not much.',\n",
              " 'Well since then Anytime I have a traumatic event or feeling this health anxiety comes back.',\n",
              " 'The most recent being the breakup of me and my girlfriend.',\n",
              " 'She was so so so important to me and we dated for quite a long time.',\n",
              " 'I remember after doing it I had just a giant fucking panic attack, one of my worst if not the worst.',\n",
              " 'Since then my Breathing has felt weird.',\n",
              " 'Feels like I can’t breathe correctly through my nose and i end up breathing through my mouth and my chest is all tight and it just gets worse.',\n",
              " 'It’s like my body becomes hyper focused on my nose and feels every sensation etc.',\n",
              " 'Now i’ve dealt with this two other times yet I still am able to feel convinced i’m getting it.',\n",
              " 'I know the disease is rare and i know  it’s even more rare to get the disease unannounced years later but I still can’t shake the thought it’s awful.',\n",
              " 'Just typing this out so feel like I can’t breathe and my throat feels tight and etc.',\n",
              " 'It’s just awful because one of the symptoms of that ENS is feeling like u cant breathe but the reason for that is because the air in their nose feels to open with no resistance or it hurts to breathe or they can’t feel the air at all like they’re drowning in some way etc.',\n",
              " 'I cant have this happen a third time it’s so damn awful.',\n",
              " 'Gotta keep pushing through more matter how shot weird muddled or whatever gotta keep going!',\n",
              " '!',\n",
              " 'I did take a new drug, it’s def enhancing how I feel but this happens regardless.',\n",
              " 'Do you think these are signs of mania??',\n",
              " 'I talk alottt more than I would like to, I am indecisive and contradicting, I am very clingy and feel extra lonely, attempted suicide yesterday, my sex drive is destroyed because I don’t believe anyone can love me forreal.',\n",
              " 'I can’t stress enough about the constant chatter in my head (negative and positive battling it out) insomnia and this horrible feeling like something bad is going to happen and I’m just waiting.',\n",
              " 'Does anyone have anxiety or manic symptoms they can recognize?',\n",
              " 'Yesterday has had to be one of the worst days of my life so far.',\n",
              " 'On Saturday I moved out of my parents house to live at university halls, which I have being planning to start for a year now.',\n",
              " 'The first day there I though I was doing okay and was trying to stay positive to try and enjoy it.',\n",
              " 'The day after I woke up with butterflies in my stomach that lasted for about an hour until I calmed down, but later on during the day I was overwhelmed with thoughts and began having a panic attack.',\n",
              " \"The Tuesday followed a similar pattern as I had my first lecture which I found difficult as I couldn't understand the task at hand and another student called me stupid.\",\n",
              " \"Then Yesterday was supposed to be a day for me to try and chillout and focus on my mental health, but something inside of me changed and just couldn't stop crying.\",\n",
              " 'Yesterday was the first day I believed that I would be better off dead then face these difficult challenges as I panicked and tried to ask for help where many were turning me away.',\n",
              " \"I'm now back at home with my parents and am thinking about quitting the university I'm going to do open university where I can study at home as I don't like working with other people and my parents can keep an eye on me.\",\n",
              " 'I feel like an utter failure because I let things get on top of me and have decided to quit.',\n",
              " \"To be honest I'm scared everyday and worry about my future as I can't go to new places without my parents and my anxiety and depression is out of control.\",\n",
              " 'I need some serious help, I just want to be happy.',\n",
              " 'I am preparing for job interviews and got quite some rejection in the interview, i thought it all went good by still i failed and since then i am not able to focus at all.',\n",
              " '[deleted]',\n",
              " 'I just got my first apartment, job and a girlfriend in like three months and I know that I should feel really Happy and lucky that I have ended up in this situation.',\n",
              " 'But I am so afraid of feeling Happy because if something bad happens, it wont feel as bad if I have been expecting it already.',\n",
              " 'If I let myself feel Happy and something bad happens it will feel even worse.',\n",
              " 'And I feel like something bad will be happening because so much good has happened in the past months.',\n",
              " 'I have GAD diagnosed.',\n",
              " \"I really want to make music, videos and stream and a lot other stuff that I think would be fun however I have a fear that is stopping me from doing any of that and it's the fear someone I know will recognize me.\",\n",
              " 'The reason why I have this fear is because I think that if people that I know like ex girlfriends, old friends, family who I haven\\'t seen or spoken to in years will try to exploit me or try to damage me for example I wouldn\\'t put it past any of them to make something up and use facebook messages out of context to prove their point but I no longer have a facebook account since 2017-2018 so if I wanted to defend myself it would just be my word vs their \"evidence\" and I know everyone would believe the out of context messages because even through it\\'s out of context they would at least have something to prove their point other than just their word.',\n",
              " \"I know it's a stupid thing to worry but whenever I want to make music or a video this fear just hits me like a brick wall prevents me from doing what I want to do and I don't know what to do to combat the fear to get over it.\",\n",
              " 'Due to overwhelming wake-up anxiety.',\n",
              " 'Has always been an issue for me but has never been *this* bad.',\n",
              " 'I also can barely eat.',\n",
              " 'This can’t be good for my physical health.',\n",
              " 'Is this common?',\n",
              " 'I’m so exhausted.',\n",
              " 'I have a fear of going crazy and the last few days I’ve felt really not with it, I also have the same 5 seconds of different songs going round in my head which I cannot stop.',\n",
              " 'Help :(',\n",
              " 'I 22(F) have my very first job interview today.',\n",
              " 'After a call with the CEO of the company, he called me again and set a time and date to have a personal interview today.',\n",
              " 'Six years ago, I would have never believed I would be able to do this.',\n",
              " \"It's been a long road and I'm starting to see the way out, today is a good day.\",\n",
              " \"We need to have hope, I'm sure better days are ahead of us all.\",\n",
              " 'Keep trying!',\n",
              " 'I just don’t even know what I’m feeling right now, social anxiety?',\n",
              " 'Anxiety?',\n",
              " 'Depression?',\n",
              " 'It’s just like I have no motivation to go with my friends anymore, and when I’m with them I’m acting so much different right now.',\n",
              " 'I can’t feel normal in the conversation, I can’t be relaxed while talking to someone and I can’t just actually laugh at what people are saying.',\n",
              " 'Idk why but it feels like I never even know what to say in the conversation.',\n",
              " 'Over the past month I finally got happy, I would do random little stuff and talk to myself and hum and dance.',\n",
              " 'Now I don’t do any of that, it’s just try to act normal around friends, stress, try to do school.',\n",
              " 'I don’t even know what my problem is.',\n",
              " 'I just started college, this is supposed to be the best time of my life and only specifically right now, this is the worst I have felt in so long.',\n",
              " 'My anxiety used to always just be me being insecure about the way I look, that’s it.',\n",
              " 'Now it feels like it switches everyday, worrying about how I look some days, but others I’m just super on edge all day, maybe from school.',\n",
              " 'Then some days like today I feel like it’s either social anxiety or depression where for some reason I just can’t be or feel normal whatever I do\\n\\nThere’s like a pit in my stomach that won’t go away, it feels like it holds me back from being happy and relaxed \\n\\nI actually don’t know what to do anymore',\n",
              " 'the reason why i hate myself is because i feel like i’m not good at doing things properly, perfectionism i literally base my worth depending on how good i am with things.',\n",
              " 'like i expect myself to be perfect at almost everything, every hobby, every sport anything u could thing of.',\n",
              " 'how can i just accept myself for not being a perfect human being because it’s really hard.',\n",
              " 'I also hate myself because i’m very socially anxious and i never really defend myself so i just see my self as a loser because i can’t stand up for myself or say things i really wanna say to someone, i think also because i assume people think i’m a loser for being so shy and not talking??',\n",
              " 'I’m bad at explaining things sorry but my low confidence has ruined my life and nothing seems to help, affirmations just make me cringe 10x more.',\n",
              " 'it’s staring to get to the point where literally just walking to my car makes me want to have a cringe attack.',\n",
              " 'my whole existence is cringe.',\n",
              " 'Idk who i even am anymore',\n",
              " 'I have been taking 20mg of Propranolol daily for the past three months to help with the alleviation of the physical symptoms I deal with from anxiety.',\n",
              " 'It has truly been a life-saver.',\n",
              " 'I was wondering if anybody else takes this medication for anxiety, and if so, how many mg/daily dosage?',\n",
              " 'I am planning on talking to my doctor soon about eventually getting off of it, as my anxiety levels have come down significantly.',\n",
              " 'Any info would help, thanks!',\n",
              " '!',\n",
              " 'Title',\n",
              " 'Literally idk what this post is it’s 11 at night and I haven’t eaten dinner I finally get myself to make some and I wanted oatmeal but I’m out of clean bowls so I microwaved my leftover pasta only to discover I’m out of clean forks and I have a killer headache because I haven’t eaten but I just keep feeling like a complete failure and I’m letting my mom down',\n",
              " 'i’ve noticed that my anxiety gets about 10x worse at night time.',\n",
              " 'it feels like my body is constantly “buzzing,” feels like i can’t breathe correctly and my chest hurts.',\n",
              " 'i think part of the reason is because i have health anxiety and i always get freaked out that somethings going to happen to me in my sleep.',\n",
              " 'i toss and turn constantly before being able to fall asleep.',\n",
              " 'i also get weird adrenaline rushes in my chest when i start dozing off.',\n",
              " 'does anyone else have this issue?',\n",
              " 'any tips on how to fall asleep quicker or to stop these adrenaline rushes?',\n",
              " 'usually i count backwards from 100 every night when i’m trying to pass out to distract my mind and it works sometimes, but would like some other options',\n",
              " 'Could it be possible that everyone around me actually hates me?',\n",
              " 'Or that they think I’m stupid or worthless??',\n",
              " 'Or is this just my social anxiety, idk what to think 😅',\n",
              " 'This is a big help for me: cold room and good blankets.',\n",
              " 'Something about the warmth and safety of a bed and pile of blankets contrasting the cold air really helps calm me, especially with morning/middle of the night/wake up anxiety.',\n",
              " 'I keep my windows open as often as possible.',\n",
              " 'Would highly recommend.',\n",
              " 'I dont know when it started.',\n",
              " 'Initially, it was a feeling like \"well we haven\\'t talked for a while so I dont know if it\\'s weird or not for me to wish them a happy birthday\".',\n",
              " 'Then it went to messages.',\n",
              " \"I would have friends, where we haven't talked in a month or two, reach out to me.\",\n",
              " 'I would be busy at the time or make up excuses and say \"oh ill reply later.\"',\n",
              " 'So I leave the message there for a bit to reply.',\n",
              " 'Then a day passes by.',\n",
              " 'I get nervous every time I think about the message.',\n",
              " 'So I dont reply.',\n",
              " 'A week passes by and it just gets worse.',\n",
              " 'Then they message again, wondering where I am.',\n",
              " \"I get scared because if I reply to this one, they know I've read the other message and I just haven't replied.\",\n",
              " \"Or im scared they'll be mad at me.\",\n",
              " \"Or I'm just scared to have a conversation with them.\",\n",
              " 'This started with one person but this year, I started doing it to more people.',\n",
              " 'Even at one point, I got too nervous to reply to my landlords or even thank them for being nice after I left.',\n",
              " \"I havent been able to tell anyone because I'm so mad and embarrassed at myself for it.\",\n",
              " \"I have a friend's paintings sitting in my room that I was supposed to return a month ago but I am too scared to message her about it or even think about it.\",\n",
              " 'Recently, my old high-school created a group chat to meet up at our university.',\n",
              " \"I havent looked at the messages because for some reason I'm scared.\",\n",
              " \"I don't want to meet up with them, catch up and have to pretend like I know what I'm doing with myself.\",\n",
              " \"I'm a failure and I don't want to end up feeling exhausted after faking a smile around everyone.\",\n",
              " 'I am in therapy.',\n",
              " \"Haven't mentioned this yet but I will.\",\n",
              " \"I'm just so tired of conversation feeling like it's a giant hurdle every time.\",\n",
              " 'Basically during this past year I’ve been diagnosed with many different things I was diagnosed with Bpd but I also suffer greatly from extreme extreme anxiety and paranoia that’s to the point where I will call my friends and constantly ask them if they think someone is trying to  harm me or if I’m in a certain situation where I feel like I might be in the slightest bit of trouble I will have a massive panic attack till someone talks to me and makes me feel normal again I will lay down in my room sometimes just from waking up in the comfort and safety of it and midway through a show I will think of some thing and send myself into a never ending spiral of fear I have lost trust in people in general and I’ve come to believe that everyone I’m not already friends with eventually will hurt me My anxiety began to spiral further when I got into an argument with two girls I was friends with at one point and one of the girls threatened to harm me it’s some thing that I’m sure it happens to everyone but even to this day I still get very scared that one day they’ll text me again and will start some thing up again or that they’ll one day randomly just want to hurt me even though both of the girls are blocked and Have clearly stated that they are over the situation and want nothing to do with me  my mind will never stop I feel like I never get a moment of rest and sometimes my anxiety causes suicidal thoughts because I feel like I can’t live with this constant fear I just want to feel safe or at least be brave my anxiety has ruined my self image causing me to see myself as well for lack of a word a pussy and it makes me constantly get angry and frustrated with myself because I have no other choice but to sit and wait until I’m able to think myself out of the attack my friends always try to help me and have been the biggest support when I asked them and called them about things they try their best to reassure me but it happens more than they know I just wonder how I can get this under control so I can live normally',\n",
              " 'A few month ago I start a new account at my job.',\n",
              " 'I was told it was going to be a challenge and I was already feeling really bored with the work that I was doing at the time.',\n",
              " 'I did the stupid thing and just said \"yes\" to the new account and didn\\'t even really go in depth with what was gonna happen.',\n",
              " 'At my work there are countless stories of people getting put into new positions they know nothing about and being able to work themselves out of it.',\n",
              " \"My supervisor keeps telling me to ask for help if I need it but if I asked every time I needed help I wouldn't get anything done.\",\n",
              " 'Now I am in such whole and work is super backed up.',\n",
              " 'Now I leave my work with the worst anxiety that I can barely get anything done after work, all I do is just lay in bet and thin about the next day.',\n",
              " 'For about a month now I have just wanted to quite, but I am scared of the social / professional implication of leaving when things are in bad place because of me.',\n",
              " 'There are times that I get light headed and just space out due to the anxiety that I am in.',\n",
              " \"I know that I quite now it wouldn't be that bad, and I could live of saving for 6 months to a year easily.\",\n",
              " 'I spend most of my day cursing to myself and saying \"I can\\'t do this any more\"',\n",
              " 'Hi so I’m just curious how do you place yourself from these certain types of people.',\n",
              " 'Currently I have a huge anxiety disorder and to top it all of I have depression too.',\n",
              " 'The people I always work with are really goal oriented and would always want the best output from each other.',\n",
              " 'In the past I can keep up with their pace but due to how the pandemic has affected us, the rapid decline of my mental health has also affected my work.',\n",
              " 'I’m not saying my outputs are bad but they’re mediocre at best and because of this they tend to ask me to change my output (which in all honesty is fine and the right thing to do) but what I just don’t like about them is how they always call me out when I submit an output and my anxiety, when they call me out, rises making me incapable of communicating properly with them.',\n",
              " 'how can I keep up with these people?',\n",
              " 'I’m also reluctant to tell them of my situation for they might not understand it and I’m really not comfortable in telling anyone about this actually.',\n",
              " 'I originally found this sub because i couldnt sleep cause i was manually breathing.',\n",
              " 'Now i think that I may have untreated ocd and/or anxiety for the past 2-3 years.',\n",
              " 'Where would I go tor treatment.',\n",
              " 'Should I go to my school counsellor?',\n",
              " 'Why the fuck do I have to feel like this',\n",
              " 'Have medicine exams in few hours, and just now my brother found out my relationship with blades.',\n",
              " 'Great!',\n",
              " 'I have a friend who’s definitely interested in therapy, but the only thing that’s been stopping her for the past 2 years is sending the first few emails.',\n",
              " 'No matter how much encouragement I gave her, and even when I would help draft it with her, due to her really bad social anxiety, she could never send it.',\n",
              " 'Now again, she says she wants to see a therapist really badly, but the email is the only thing getting in the way.',\n",
              " 'Can I send the initial email on her behalf, and then direct the therapist to contact my friend afterwards for a follow up?',\n",
              " 'How would I explain that in the email?',\n",
              " 'What would I write in the email if I’m doing it on my friend’s behalf?',\n",
              " 'Any advice is appreciated.',\n",
              " '27/F.',\n",
              " 'I’m anticipating another bad panic attack because I had one last night.',\n",
              " 'I know it’s irrational.',\n",
              " 'It’s a vicious cycle.',\n",
              " 'I’m trying to remain calm but it feels like I have absolutely no control over my mind or body.',\n",
              " 'Absolutely none.',\n",
              " 'I had a severe panic attack last night, seemingly randomly, like they always are.',\n",
              " 'Most of the time I feel like nothing triggers them.',\n",
              " 'I was fine and then all of a sudden couldn’t breathe.',\n",
              " 'Felt like my breathing suddenly got too slow and too shallow.',\n",
              " 'Felt like I was just gonna stop breathing at any moment.',\n",
              " 'And then came the racing heart.',\n",
              " 'My heart rate was crazy high.',\n",
              " 'For some reason my first instinct is to jump up and run out of my house.',\n",
              " 'I always think cold, fresh air will help but it rarely does.',\n",
              " 'And then I drank a liter of water.',\n",
              " 'Don’t know why I think that’ll help.',\n",
              " 'I felt so sedated and like I was gonna lose consciousness at any minute and fought my body from going to sleep because I was scared i’d never wake up.',\n",
              " 'My heartbeat felt too weak at one point.',\n",
              " 'I ended up falling asleep against my will 5 hours later but I was in hell for those 5 hours.',\n",
              " 'Most of the time I would end up driving myself to the ER in case this is the one time my life is genuinely in danger but I forced myself to not do that.',\n",
              " 'At the ER they’d give me something like Ativan and i’d immediately calm down and be okay.',\n",
              " 'But I can’t keep doing this.',\n",
              " 'And I don’t have any benzos at home.',\n",
              " 'I just need help.',\n",
              " 'What can I do to stop lingering anxiety?',\n",
              " 'To stop a panic attack from progressing?',\n",
              " 'Anything I can take that’s easily accessible without a prescription?',\n",
              " 'Any new remedies/substances that anyone’s had success with?',\n",
              " 'I will literally try anything.',\n",
              " 'Breathing exercises and meditation do not help at all.',\n",
              " 'In fact, focusing on my breathing causes me to panic even worse.',\n",
              " 'I’m miserable and so damn tired of living in fear that I might have another random episode.',\n",
              " 'I just wish there was a way I could prevent it from happening in the first place.',\n",
              " 'I can’t call off work again.',\n",
              " 'Help :(',\n",
              " 'When I was 6 I first went to the dermatologist, when I was 7 I started getting bullied, and by 8 I was on acne medication.',\n",
              " 'All I knew is it wasn’t normal to be so young taking medication (and getting acne before puberty) and since that core memory I have always struggled with the relationship between me and medication.',\n",
              " 'It has always been something negative.',\n",
              " 'I’ve since grown and have recently started taking SSRIs to combat my anxiety.',\n",
              " 'My boyfriend and I agree there has been much improvement but as he lists all the things different about me, I can’t help but feel the me before medication, the authentic me, was not good enough.',\n",
              " 'I did not realize how much of an effect my anxiety had on others.',\n",
              " 'And while I know my medication is a good thing, it makes me feel like I need this pill to be normal, and without it I am not normal.',\n",
              " 'It makes me feel ashamed and the person I was before was tolerated.',\n",
              " 'Everyone is celebrating this “new” better me and while I admit I like this new me, it makes me feel like the person I was before was not good enough.',\n",
              " 'And I must rely on this pill or else I will become the person that isn’t celebrated and is not good enough and simply tolerated.',\n",
              " 'It makes me really sad and it’s something I think of when I take my medication every day.',\n",
              " 'I don’t know how to change the relationship I have with me and my medication.',\n",
              " 'I have to present in front of my class tomorrow, and then I have two presentations next week as well.',\n",
              " 'I only have to speak for around 5 minutes per project, but even that is way too long for my anxious brain.',\n",
              " 'Even though I know the material, and I present great in front of my friends, I forget everything and look like a stupid stuttering idiot tripping over my words and forgetting my train of thought when I’m actually up in front of people.',\n",
              " 'Can’t wait to spend the rest of the class period after I present crying in the bathroom.',\n",
              " 'I’m so fucking nervous, and next week is gonna be even worse.',\n",
              " 'Hey all.',\n",
              " 'I’ve been dealing with unexplained dizziness for the past three (3) years now and it’s been bothering my health anxious mind.',\n",
              " 'I’ve gotten countless tests done, ruling out vertigo and neurological problems .',\n",
              " 'I’ve gotten heart and blood tests done and everything has come back normal.',\n",
              " 'It’s gotten to the point where my dizziness goes on pretty much all day with only maybe an hour or two of relief.',\n",
              " 'It comes on randomly and suddenly so I’ve always had a hard time correlating it to just being anxiety but could my unexplained dizziness daily just be anxiety?',\n",
              " 'I don’t necessarily feel anxious before having these episodes but when they do come on, it does trigger my anxiety response.',\n",
              " 'It also happens when I sit in certain positions.',\n",
              " 'Getting a second opinion from a neurologist in November but wanted to ask if anyone on here has experienced this kind of dizziness daily (feeling like you’re off balance and walking on a cloud or feeling like certain parts of your body are moving when they aren’t) due to anxiety?',\n",
              " 'Do meds help?',\n",
              " 'Any advice?',\n",
              " 'I do in fact feel like I’m going a little crazy here with how much I’ve done to try and figure out what this is and not getting anywhere really.',\n",
              " 'I’m the type of person(due to my ADHD) where if an unwanted noise, even the buzzing of a light that no one else could hear WILL nearly put me into panic mode.',\n",
              " 'I’ve been this way since a kid, and it honestly sucks.',\n",
              " 'My mind can’t think of anything else but the damn noise.',\n",
              " 'My upstairs neighbor can’t walk quietly for shit and there’s always some random bangs at nearly 1-3AM.',\n",
              " 'It gives me so much anxiety, I’m losing my mind.',\n",
              " 'Edit: I never had this problem with my old neighbors and I’ve lived here for almost 3 years now.',\n",
              " '[deleted]',\n",
              " 'Currently having an intense anxiety attack.',\n",
              " 'I just feel so scared.',\n",
              " 'Probably the scariest I’ve ever felt.',\n",
              " 'It’s embarassing because I only have to speak for 1-2 minutes but honestly it’s going to feel like hours the moment I step in front of the classroom.',\n",
              " 'I’m so scared.',\n",
              " 'I want to say “I can do it” but I’m so scared I’m shaking right now and I don’t have to even present until tomorrow afternoon.',\n",
              " 'It’s not fair that I have to be so scared of something that’s not even a threat .',\n",
              " 'I realize that my classmates are probably anxious too, and just want to get it over with.',\n",
              " 'But me, I am probably overthinking this but I’m still scared.',\n",
              " 'I have been dreading this day since Monday started and now it’s here.',\n",
              " 'And I can’t take the fear.',\n",
              " 'I feel like I could faint right now writing this just thinking about this.',\n",
              " 'This is all I wanted to say I should probably get through this anxiety attack first',\n",
              " 'I’m not in too bad shape right now, but this has been a trend for a long time for me, so I was wondering if other people felt this way.',\n",
              " 'I still get like this every now and then, so I just figured I’d ask what’s up with it',\n",
              " 'i have both physical and mental illness but loneliness is the real killer.',\n",
              " \"holiday season is coming up and i don't wanna be in isolation feeling depressed.\",\n",
              " \"Halloween, thanksgiving, Christmas, and it's already cold, dark, rainy in PNW.\",\n",
              " \"can't meet ppl\",\n",
              " 'Hi!',\n",
              " 'Kind of new to this, but am in need of some advice.',\n",
              " 'First off, I’m an 18 year old introvert who suffers from severe anxiety.',\n",
              " 'I am in my first semester of college and have been planning on transferring to a university (that is out of state) in Fall of 2022.',\n",
              " 'I am afraid of how my mom would react to my decision as she always has made a big deal over a lot of things and make it a big problem.',\n",
              " 'Which I never understood why, but I developed a fear of talking through things with her cause of it.',\n",
              " 'Does anyone have an idea on how I can bring the topic up and just talk to her?',\n",
              " '(Without her making it a problem and inducing a panic attack out of me)',\n",
              " 'I am still working full-time, my medical school wants me in the UK by Monday.',\n",
              " 'I had put off moving over but now my anxiety has built up to very physical signs.',\n",
              " \"I'm fidgety, my heart rate shoots up.\",\n",
              " \"I'm anxious about the whole ordeal.\",\n",
              " 'First time I went, my then gf broke up with me.',\n",
              " 'It got really ugly.',\n",
              " 'Second time I tried, I had a panic attack and teared up at the airport.',\n",
              " 'Third time around, my now gf looks unsure of us too.',\n",
              " 'She might break off.',\n",
              " \"I'm really worried about moving and being broken.\",\n",
              " 'My anxiety finds something new to be worried about.',\n",
              " \"I'm currently at work and I am almost about to lose it.\",\n",
              " \"I'm shaking, I feel faint...\",\n",
              " \"I had my session with my psychologist last night, it helped while we spoke, but now I'm back to square one feeling like shit and borderline suicidal thoughts are flowing again.\",\n",
              " '[deleted]',\n",
              " 'Tomorrow is my appointment with my neuro ophthalmologist for my eyes.',\n",
              " \"To see why my eyes are dimming basically I pass all the test and they didn't know the cause of my dimming of the vision but my left pupil has rapd basically when your pupil doesn't respond to light properly.\",\n",
              " 'They diagnosed me with optic neuropathy I had dimming on my left eye for 8 months and recently it got worse.',\n",
              " \"I'm expecting the worst case scenario and it makes me cry uncontrollable I'm saying your going blind.\",\n",
              " \"Or u have a disease that's not treatable.\",\n",
              " \"Summary: \\nHave diabetes for 5 years (poorly controlled)\\nGot bell palsy on left side of face heal 80%\\nGot mri no ms (Multiple Sclerosis)\\nNot damage from trauma on the optic nerve \\n\\nI'm just so scared that it's going to be something that can't be treated I'm so sad everything just sucks right now.\",\n",
              " 'Sorry to keep posting the same case but yall make me feel better.',\n",
              " 'Literally the littlest thing makes me lose my sleep.',\n",
              " 'It\\'s 9AM now and I couldn\\'t sleep last night, because I was thinking about saying \"no\" to a goddamn get together invite.',\n",
              " 'i got an email today saying someone tapped into my phone and recorded me masturbating while watching porn.',\n",
              " 'i watch a lot of weird shit, so this is ruining me.',\n",
              " 'is it actually possible?',\n",
              " 'i am shakey because he asked for 1100 us dollars',\n",
              " 'What helps with the physical symptoms of anxiety?',\n",
              " 'Ive heard it’s medication?',\n",
              " 'I’m really struggling and it makes my anxiety worse.',\n",
              " '[deleted]',\n",
              " 'It feels like I’m always in a rush to do something and I can’t enjoy everything.',\n",
              " 'I always feel like I’m on the go.',\n",
              " 'I can not relax even if my life depended on it.',\n",
              " 'The only time I feel calm is when I’m sleeping other than that just anxious have to do stuff and my body pays the price.',\n",
              " 'Right now I walk and my legs are feeling tense and tight.',\n",
              " 'Of course having anxiety my mind races that I have ms or the recent bulge disc I was diagnosed with by a chiropractor influenced it and boom, even more anxiety.',\n",
              " 'It’s horrible.',\n",
              " 'I just want to be able to relax and have fun.',\n",
              " 'Not always feel like I’m on the go or worry about how my body is feeling',\n",
              " 'I’m ELLIOT.',\n",
              " 'I came here to be, sort of a motivation of some kind.',\n",
              " 'to inspire others who have what I’ve got, too.',\n",
              " 'I want to tell you all a story — my story.',\n",
              " 'it’s long, and it’s a lot, often times too much for me to handle, but there will never be enough words to explain that.',\n",
              " 'so, here I go — it all began with HEMOPHILIA C. 4 years old, they told my parents I was 1/100,000.',\n",
              " 'neither of them had the factor 11 deficiency, but I did.',\n",
              " 'it was a rarity.',\n",
              " 'as life went on, I started having more problems.',\n",
              " 'around the age of ten, mental disorders started presenting.',\n",
              " 'nobody could find out what the source of my pain was, and so, dismissed it as ANXIETY.',\n",
              " 'from ten to thirteen, I was diagnosed with a handful of things.',\n",
              " 'GENDER DYSPHORIA (FTM), DEPRESSION, OCD, and the most recent, BIPOLAR.',\n",
              " 'I also have my share of PTSD from a recent s**cide attempt.',\n",
              " 'anyways, as you can imagine, there were more things going on than that.',\n",
              " 'a concussion at fifteen will change my life forever — I was taken to the ER to have an emergency MRI or internal bleeding, a precaution taken because of my bleeding disorder.',\n",
              " 'thankfully, there was none.',\n",
              " 'but, they found my golden glory — a CHIARI MALFORMATION.',\n",
              " 'it was the cause of so many of these problems, an actual answer!',\n",
              " 'it’s been back and forth between every specialist possible since, trying to uncover all of my bodies indescribable secrets.',\n",
              " 'psychiatrist/therapist (diagnosed with previously mentioned disorders), neurosurgeon (had decompression surgery, and am preparing for another next month), cardiologist (diagnosed with IST), rheumatologist (diagnosed with AMPS, EDS), endocrinologist (diagnosed with HYPOTHYROIDISM), GI (diagnosed with GERD, IBS, lactose intolerance), and I believe that’s it (“that’s it” haha)!',\n",
              " 'the past year has been experimental with medication.',\n",
              " 'after my attempt, my health has finally been taken a but more seriously.',\n",
              " 'I have a happy, healthy home and support system, and managed to convince my doctors to help me start a medication cleanse.',\n",
              " 'these past few days with the freedom from a dozen pills a day has been the best I’ve felt since the incident.',\n",
              " 'I’ve been walking more, feeling myself get stronger again after my breakdown.',\n",
              " 'I’m having scar tissue from my EDS removed from the decompression site soon.',\n",
              " 'my intrusive thoughts are dying out.',\n",
              " 'the impulsions that almost killed me are under my control now.',\n",
              " 'I’ll be starting testosterone after my 18th birthday.',\n",
              " 'I’m finding the right medications that work for me.',\n",
              " 'I have learned to love all of me, and am becoming the person I never thought I would, but always knew I was.',\n",
              " 'things are getting better with time, even if it was a lot of it.',\n",
              " 'I’m on my way — you’ll get there, too.',\n",
              " 'keep going.',\n",
              " 'please.',\n",
              " 'you can do it \\U0001f90e',\n",
              " 'Today I lit up my boss (super unprofessionally) over something that was in my head and honestly, I have no idea why.',\n",
              " \"I feel like my anxiety takes over sometimes and I become this crazy person and I'm afraid it's going to eventually lead to major issues like losing a job or impacting my relationships.\",\n",
              " \"I'm generally a really put together person so I don't know what the hell is going on...\",\n",
              " \"I'm not looking to take any type of medication but wondering if there's any coping mechanisms people recommend for stuff like this?\",\n",
              " 'As the title suggests I recently got hired as an inbound customer service agent, which is just a fancy way of saying \"call centre\".',\n",
              " \"I'm really grateful to have a full time job, and currently in training so I havent taken any official calls, I start taking calls Friday.\",\n",
              " 'I know it may seem silly to apply for a job I know will be something I dread but I was desperate for a job, pay is decent, and I am able to work remotely.',\n",
              " 'Has anyone else been through something similar or have any advice?',\n",
              " 'I would really appreciate any words of encouragement.',\n",
              " \"Unfortunately quitting the job isn't really an option.\",\n",
              " 'I was previously on assistance, and this is a huge step for me.',\n",
              " \"I'm scared, but I can't keep living like this.\",\n",
              " 'My teeth are beyond fucked up and I definitely have gum disease.',\n",
              " 'The thought of how the dentists will react to my mouth is terrifying, but I really need to go.',\n",
              " \"I think I'll end up a lot happier with a healthy set of teeth.\",\n",
              " 'MAJOR TRIGGER WARNING ⚠️\\n\\nI jsut found this channel called Charlotte Eades about a 16 year old girl who gets brain cancer and it’s her documenting her descent.',\n",
              " 'It’s so heartbreaking to see her go from a vibrant young girl to being unable to move and talk while having hope the whole time.',\n",
              " 'I’m currently shutting myself from my health anxiety but I cannot stop watching the videos it’s like a weird addiction',\n",
              " 'Or at least I’m starting to notice.',\n",
              " 'It’s always been here.',\n",
              " 'I ain’t from here.',\n",
              " 'You would never guess it.',\n",
              " 'I should be dead.',\n",
              " 'I should be in jail.',\n",
              " 'Successful but only by the standards of society.',\n",
              " 'Mania.',\n",
              " 'Depression.',\n",
              " 'Always in control.',\n",
              " 'Yet always on edge.',\n",
              " 'Can’t cop.',\n",
              " 'Keeping hope.',\n",
              " 'Fuck the rope.',\n",
              " 'Keep scrubbin that soap.',\n",
              " 'I love y’all.',\n",
              " 'Why do you hate me?',\n",
              " 'I’ve always loved me.',\n",
              " 'Happiness is key.',\n",
              " 'Yet I can’t find the door.',\n",
              " 'I can’t take this shit no more.',\n",
              " 'At least I noticed.',\n",
              " 'So I’m not hopeless.',\n",
              " 'I have been dealing with this issue for a while… it arises every time I eat.',\n",
              " 'It’s my anxiety but does anyone know if this issue will improve as time passes.',\n",
              " 'So I have anxiety and OCD.',\n",
              " 'Occasionally I will have these urges that last from around 1-4 hours where I need to stretch my muscles/joints.',\n",
              " \"For example, I'll tilt my head to the side just to feel my muscle pull, or I'll flex my calf muscles.\",\n",
              " \"Sometimes I'll pull on my skin below my eye, or I'll raise my arm in a weird way to just feel that weird pulling sensation.\",\n",
              " 'Lately I have been having facial \"tics\" too (I call them tics but I really don\\'t know what they are), where I have an overwhelming urge to furrow and raise my eyebrows.',\n",
              " \"It's extremely annoying, and I can not resist the urge no matter how hard I try.\",\n",
              " \"The eyebrow one is most annoying because I don't even feel satisfied after doing it, at least the other ones I feel brief satisfaction before having to stretch/pull a different muscle.\",\n",
              " \"I don't even know if this makes sense but hopefully to someone it does.\",\n",
              " 'The \"tics\" are voluntary, like I act them out consciously in order to feel satisfaction, and they only last until I become too distracted to think about them.',\n",
              " \"Which is why I don't think it's tourettes but I'm not really sure.\",\n",
              " \"As far as I'm aware, I don't think that I involuntarily act out on my tics.\",\n",
              " \"I've searched the internet for anybody else having these symptoms and I've seen nothing.\",\n",
              " 'Please help.',\n",
              " 'So I had my first anxiety attack ever today before I had to give a presentation in class.',\n",
              " 'My doctor prescribed me hydroxyzine and I was wondering if it would be wise to take before presenting?',\n",
              " \"I read that some possible side effects were confusion and slower memory recall, but I don't know if I will even be able to present without something to take the edge off.\",\n",
              " 'Please if anyone can help me I would really appreciate it, this has been a horrible day and I could really use help.',\n",
              " 'Hi all, I just joined this sub and you all seem really supportive so I’m excited to be here.',\n",
              " 'Anyways, I’m in a bit of a predicament, so if any of you could help me out that would be great.',\n",
              " 'Basically, on Friday (10/1) the college I go to is holding a concert on one of the football fields as a result of at least 90% of the student body being vaccinated against COVID.',\n",
              " 'I do want to go, but there’s a few factors that are messing with my decision-making skills right now:\\n\\n-The crowd will likely be 80-85% of the student body, meaning about 3,000+ people.',\n",
              " 'I don’t do well in large crowds; a concert I went to before COVID was probably 1,000+ people and I ended up having a panic attack, but the venue was indoors and likely more “shoulder-to-shoulder” than this concert will be.',\n",
              " '-I really don’t want to see people making out or doing whatever else, I get that people want to have fun but I’d really prefer if they leave the PDA at home because it really makes me uncomfortable and queasy.',\n",
              " '-FOMO.',\n",
              " 'I don’t want to be sitting in my dorm while the concert is going on and seeing everyone’s Snapchat/Instagram stories filled with everyone having a blast.',\n",
              " 'I especially feel pressured to go to the concert because of this, but in theory I wouldn’t mind going because the person who’s apparently performing has some good music that I could vibe to.',\n",
              " '-I’m not really worried about COVID; everyone has to get tested 2 times per week.',\n",
              " 'My college is probably one of the more stricter schools in terms of COVID.',\n",
              " 'I probably will end up going, so I guess my question is, how do I deal with these things while I’m there?',\n",
              " 'Any advice is appreciated.',\n",
              " ':)\\n\\nTLDR: Going to a outdoor concert on Friday; had a panic attack at a previous (indoor) concert, don’t want to see people making out as it makes me super uncomfortable, but don’t want to miss out and see everyone else have fun.',\n",
              " 'Advice on how to deal with these things?',\n",
              " \"I called in my rx refill request yesterday but nothing happened so I missed my dose this AM (previous day's dose was short but didn't notice any side effects).\",\n",
              " 'Then had a talk therapy appt at noon that went really badly and I was left really anxious afterwards.',\n",
              " 'Did about 40m of deep breathing and lying down.',\n",
              " 'Various little upswings of anxiety over next few hours.',\n",
              " \"Around 7-ish I make the mistake of looking up a quote related to something I'm having major emotional upheaval about.\",\n",
              " 'Segue into full-blown panic attack: , crying, sweating, feeling of doom, just total adrenaline overload.',\n",
              " \"Worse, I start having intrusive thoughts of the sort I haven't had in a couple of years.\",\n",
              " \"I go lie down for an hour and it's a hellride of heart pounding, panic, and worst of all, horrible intrusive thoughts of violent, tragic things -- plus dizziness and occasional brain zaps -- before the panic attack passes.\",\n",
              " 'I had Cymbalta withdrawal once before and it was all physiological misery -- the spins, brain zaps, fatigue -- without any upswing in anxiety, definitely not to the extent of panic attacks.',\n",
              " 'Could being off the meds for a day be causing all this?',\n",
              " 'TIA',\n",
              " '[deleted]',\n",
              " 'I have an interview next week and I’m already nervous.',\n",
              " 'My current job causes me a lot of unnecessary stress/anxiety and it’s taken a massive toll on my body so I need to leave.',\n",
              " 'Im excited for this opportunity but I know my anxiety will somehow sabotage me.',\n",
              " 'Maybe I’m just scared of starting over at a new job I’m not sure but I still consider this a victory!',\n",
              " 'I have a 3 hour flight tomorrow, the first I have taken since my anxiety and panic disorder returned last year and I am so anxious.',\n",
              " 'I get nauseous, jittery, chest tightness, shortness of breath, and dissociation when I have bad anxiety/panic.',\n",
              " 'I’m afraid I’ll lose control of myself on the plane and do something crazy… even though that’s never happened to me and sounds ridiculous, that’s what I’m afraid of.',\n",
              " 'Not the plane falling out of the sky, just being in a small tube full of people and doing something odd that makes a scene.',\n",
              " 'I have 1MG ativan prescribed in case I need it, but I’m nervous I’ll have an adverse reaction or the med won’t work on me.',\n",
              " 'Has anybody taken it and been able to make it through the flight?',\n",
              " 'Need some support right now!',\n",
              " \"I've always been an anxious person, except when I was a kid I just thought being 'scared of everything' was normal and everyone felt that way.\",\n",
              " 'My teens and twenties were me fighting a lot of anxiety and it seemingly backing off, almost disappearing (almost).',\n",
              " 'Lately, since the pandemic, I feel like my anxiety is fighting back a lot harder.',\n",
              " \"I know this isn't anything new, a lot of people are feeling this way.\",\n",
              " \"I'm just really tired of letting my brain be my enemy.\",\n",
              " \"I feel like the only confident decisions I can make are at work, but if you were to ask me where to hang a poster on my wall, I honestly couldn't do it.\",\n",
              " \"I'm in monthly therapy.\",\n",
              " \"I'm debating medication, which is also scary to me, but if it's what is right for right now I'm totally willing to try it.\",\n",
              " \"I'll even print out positive notes and put them on my mirror if that's going to help.\",\n",
              " 'I have an amazing partner that is very supportive.',\n",
              " 'I have all the tools and still it just feels so incredibly hard lately.',\n",
              " 'So I just needed to put this somewhere.',\n",
              " \"I'm struggling with anxiety.\",\n",
              " 'I am currently having a hard time.',\n",
              " \"But I'm going to keep working on this battle, and not let it win.\",\n",
              " \"I'm trying really hard, even if it might not seem like it every day.\",\n",
              " 'I will continue to try and succeed.',\n",
              " 'Can’t leave, can’t socialize: time for some bathroom time with myself.',\n",
              " 'I recently started seeing a therapist again after taking a few years long break after having a therapist I wasn’t compatible with.',\n",
              " 'It wasn’t a great experience and it was really hard for me to give it a second chance.',\n",
              " 'The last time I was in therapy medication was not something I was willing to do.',\n",
              " 'I had heard stories of people being dependent on the medication and not being able to be themselves without it.',\n",
              " 'They scared me too much to give it a chance.',\n",
              " 'I have been reconsidering and have decided that medication might be something I want to try.',\n",
              " 'My current therapist explained to me that finding the right meds for you is a process and they don’t always get it right the first time.',\n",
              " 'This made me feel a bit better and more open to it, but… my old fears are still there.',\n",
              " 'I am scared that if I start taking medications I won’t be “me” anymore, if that makes sense… I don’t want to be this anxious, awkward person anymore but at the same time, this is how I’ve been my whole entire life, and it almost feels like changing that would be like, I don’t really know how to explain it, taking away a part of myself?',\n",
              " 'I am scared that I will start doing things I never would’ve done before, and that my friends and family won’t like me anymore because they think I’ve changed or something like that… It’s really hard to describe, and I apologize if this doesn’t make any sense.',\n",
              " 'So for those who take medication, what is it like?',\n",
              " 'Did it take away your anxiety completely?',\n",
              " 'Is your personality different now?',\n",
              " 'Did people notice?',\n",
              " 'It’s so hard for me to imagine a me who isn’t anxious.',\n",
              " 'I get anxiety when I have to sit and stay in places.',\n",
              " 'Like meetings, movies, church, funerals, etc.',\n",
              " 'I recently went to go deliver some food to a friend of the family and was anxious sitting in the living room with strangers.',\n",
              " 'We have a flight coming up and while I have flown pre anxiety with no issues, I’m nervous being “trapped” in the plane will trigger an attack.',\n",
              " 'I have my snacks, podcasts, and meditation music ready.',\n",
              " 'Basically what I do when I drive because I have driving anxiety too.',\n",
              " 'Does anyone know what this is and why?',\n",
              " '[deleted]',\n",
              " 'Going through it with a bunch of stuff and my anxiety is lot rally mad luv.',\n",
              " '💅🏽',\n",
              " \"I'm posting this because I don't know where else to or even if anyone relates to this!\",\n",
              " 'Does anyone get REALLY anxious and rejection sensitivity-ish over Discord reacts?',\n",
              " 'Like if you post something in a certain channel and only get 4 reacts, whereas the person after you posts something and gets like 6?',\n",
              " 'Because this tends to happen to me a lot and it really sets off my social anxiety, makes me feel horribly rejected, makes me feel like everyone secretly hates me, etc.',\n",
              " \"And then you look at who has reacted to your post as opposed to another post and wonder why they didn't like yours.\",\n",
              " 'I know this sounds prettyyyy sad and I feel silly about it, too, but this really bothers me for some reason.',\n",
              " 'So I got diagnosed with GAD in my first year of high school, and that among other things was tough within itself, but after a year I got better to the point where I was attending school regularly.',\n",
              " 'But now I am in my third year of school and my attendance has gotten so much worse.',\n",
              " \"Maybe it's just because I started my first year of senior exams so that's always stressful.\",\n",
              " 'But it feels like more than that.',\n",
              " 'For me I have a hard time staying in classes and with schedules run by other people because I feel trapped in it.',\n",
              " \"Idk it's just weird it's like I'm scared I won't be able to escape or leave class.\",\n",
              " 'Or the people in my class will judge me for it, or just in general the people in my class are constantly judging me.',\n",
              " 'The latter turned out to be social anxiety which I was diagnosed with a couple days before my exams.',\n",
              " \"But nonetheless, even before that I had been requesting a separate room for my exam tests because I can't do rigid tests conditions as they make me really anxious.\",\n",
              " \"My school kept saying they would get me a separate room, and I assumed I'd just hear where I'd be going on the day.\",\n",
              " \"But they hadn't actually set up anything, and I was forced to do my exam in the exam hall.\",\n",
              " 'I could only complete one question before my mind went blank and my hands decided to no longer write.',\n",
              " \"And I had to get dragged out because I couldn't breathe and panicked.\",\n",
              " \"At least after that they now finally actually got stuff set up so I don't have to do my exams in an exam hall, but they won't let me re sit my exam that I have now failed because of that incident.\",\n",
              " \"And most of my other exams I have also failed because I couldn't turn up due to anxiety.\",\n",
              " \"But even just normal school days, it's so hard for me to stay in class.\",\n",
              " \"I guess my school is at least somewhat trying to take the strain off me but I still can't get myself together and it's really been affecting my overall mood.\",\n",
              " \"I'm honestly scared I won't pass the year, even though I always get top grades despite not having the best attendance (apart from this years exams lol).\",\n",
              " 'It also makes me worry for my future, my jobs, and finishing school in general.',\n",
              " \"I have another two years of this plus uni, I'm just scared that I will never be a functioning member of society, or I won't be able to get the job opportunities I want due to my anxiety.\",\n",
              " \"If anyone has any advice or similar experiences that'd be very much appreciated :))\",\n",
              " '[deleted]',\n",
              " 'unsure about how exactly to start this but my mental health has recently taken a big hit.',\n",
              " 'on the bright side i got diagnosed with severe PTSD, moderate depression, and anxiety so i’m now finally getting treatment for that.',\n",
              " 'i am also inattentive ADHD, and lemme tell you, it’s been BAD.',\n",
              " 'it’s like almost 10pm as i’m writing this and i didn’t take my meds today, i have yet to do any of the important things that are due tomorrow for school, and general life things as well.',\n",
              " 'here is my problem: i’ve noticed my anxiety has been worse, especially while on my adderall.',\n",
              " 'i’ve noticed that i’m now twitching and having muscle spasms and i have never had these symptoms before.',\n",
              " 'i’ve been on 20mg for about a year.',\n",
              " 'i know that’s not a high dose but it’s still heavily impacting my anxiety and it’s especially bad in a classroom setting.',\n",
              " 'i commute to college 2 days a week for in-person classes.',\n",
              " 'the thing is, that the anxiety with my adderall is bad, but all these missing assignments and tasks i need to be doing are giving me a lot of anxiety as well and leaving me very unsettled and i need a routine to keep my mental health in check because without one i lack structure.',\n",
              " 'the adderall also upsets my GI system with bad stomach pains (i have celiac so it’s already messed up as is).',\n",
              " 'i have erosions in my stomach from stress.',\n",
              " 'my question: is it worse to take the adderall with heightened anxiety, stomach pains, muscle spasms and get things done and satisfied?',\n",
              " 'or is it better to stay off the adderall for my GI system and just try the best i can to function the best i can, even though it gives me so much anxiety as well?',\n",
              " 'i’m aware this is pretty much a lose lose situation, but in terms of lessening my stress, i’m not sure which is the better of the two.',\n",
              " 'I am currently studying finance at what would be considered a great school.',\n",
              " 'It’s very selective and all the rest.',\n",
              " 'But I really want to transfer to an Ivy before college ends.',\n",
              " 'This is because I feel like without the prestige of an Ivy League school I will be an imposter at a place like Goldman Sachs or even be inadequate to succeed in the endeavors I want to.',\n",
              " 'It’s this myopic and almost claustrophobic feeling I have that I must go to the ‘right’ school and get the ‘right’ job.',\n",
              " 'Even when I challenge this notion, the feeling doesn’t go away.',\n",
              " 'Any advice?',\n",
              " 'I always treat everything so delicately like the tiniest thing will break it and if I make some kind of mistake i will have a full blown anxiety attack and become obsessed with whatever it is i messed up.',\n",
              " 'For example, i have an ebike and Im always extrenely careful with the charger.',\n",
              " 'When I was plugging the cable into the power adapter on the charger, I pushed it in too hard thinking there would be a click but there wasnt supposed to be one.',\n",
              " 'Once I realized that, I had an anxiety attack thinking now its broken and its going to break my ebike battery when i charge it.',\n",
              " 'Even though it seems fine, I cant get the paranoia out of my head thinking its broken.',\n",
              " 'I ended up researching how they are made for hours to know how it works.',\n",
              " 'I cant stop messing with it because it feels like I have to know its not broken, and I know the more I mess with it, im going to end up actually breaking it.',\n",
              " 'Im like that with everything.',\n",
              " 'How do I stop it?',\n",
              " 'It makes me feel crazy.',\n",
              " 'Hey guys I have mild anxiety which is what I classify it as.',\n",
              " \"I don't take any medication.\",\n",
              " 'I manage it pretty well for thr most part but ever since a few months ago I got a panic attack due to some nerve pain when I hurt my neck.',\n",
              " \"Ever since then I've been getting these nerve like itchy crawling sensations around my body like my face, scalp etc.\",\n",
              " \"I usually notice it at night when I'm sleeping.\",\n",
              " 'Can this be due to anxiety that is mild I guess \\n\\nThanks guys I would appreciate your input',\n",
              " 'Been in such a negative mind state dealing w anxiety and depression at the same time.',\n",
              " 'Start a new job tomorrow which is nerve wrecking but also because I’ve been dealing w intrusive thoughts & i just can’t look at myself the same?',\n",
              " 'I know it’s not me, but still it’s affected me more than i thought it would and i really just need some positive words that I’ll be ok, and that i won’t feel like this forever.',\n",
              " 'Also, please let me know if ur ok w me dming u, would love to talk to someone else going through something similar.',\n",
              " 'Tomorrow I’m going from 15mg of Lexapro to 10mg and I’m just worried about withdrawal effects and just overall as to how I would feel being off meds eventually since I feel like I’m doing so good now because of the fact that I’m on Lexapro and Wellbutrin.',\n",
              " 'Idk if this makes sense but I’m feeling a little anxious thinking about how my progress may be just because I’m medicated, not because I’ve done progress?',\n",
              " 'I’m overthinking and hearing success stories would be nice :)',\n",
              " 'Hey, everyone.',\n",
              " 'This is my very first reddit post.',\n",
              " \":)\\n\\nSince I was a kid, I've heard I was an aggressive person and, because of that, I needed to learn how to control this feeling.\",\n",
              " \"Of course, learning how to hide my anger was important so that I didn't hurt people with my words and actions.\",\n",
              " \":)\\n\\nBut I've learned to hide it so well that people around me usually find it hard to believe I can feel such things, it's like I'm always pretending to be okay.\",\n",
              " \"And now, I often feel anxious when I get angry/aggressive, and I don't believe I've learned to cope well with those feelings.\",\n",
              " \"I feel like I've lost part of myself in this life-process of trying to hide an important part of being, and I wonder how to relate in a positive way with those emotions.\",\n",
              " 'Do you ever feel the same?',\n",
              " 'Thank you all in advance :)',\n",
              " 'I have social anxiety but this past year I’ve pushed myself to get into uncomfortable settings that I know I can handle.',\n",
              " 'I’m becoming more comfortable being myself.',\n",
              " 'But my downfall is I constantly worry about the way people perceive me.',\n",
              " 'I’m trying my best to let this go and I talk myself out of my intrusive thoughts but it’s a constant struggle honestly.',\n",
              " 'It’s not just in person but online specifically Instagram.',\n",
              " 'Im not sure if I’m the only one but Instagram in itself brings me lots of anxiety.',\n",
              " 'Part of me is torn and I’m looking for some outside insight.',\n",
              " 'For some background I have enjoyed Instagram because I’m able to follow pages I’m interested in but Im also able to share my fashion sense and connect with others online.',\n",
              " 'Majority of my clothing is thrifted/second hand.',\n",
              " 'I’m very much into sustainable fashion and up cycling pieces rather than resorting to fast fashion.',\n",
              " 'I enjoy the process of taking the time to hand pick my pieces at the store then curating outfits.',\n",
              " 'Most of my Instagram content is just that me and my outfits.',\n",
              " 'I get so excited to see the reaction of my followers and what they think.',\n",
              " 'The only issue is every time I post I get this pit in my stomach if I lose followers over the post or say it doesn’t do as well as I thought .',\n",
              " 'I don’t necessarily care about losing followers but it makes me question whether what I shared was worth it or something I shouldn’t have posted.',\n",
              " 'It’s feels so silly I second guess myself.',\n",
              " 'I feel this inner conflict within myself fighting this anxiety and reminding myself I share my pictures because its my passion what others think shouldn’t phase.',\n",
              " 'I wonder if it’s vain of me that I’m posting myself?',\n",
              " 'Styling myself is my favorite part but combining this passion with social media worries me.',\n",
              " 'Is this me wanting validation?',\n",
              " 'Is this normal/healthy?',\n",
              " 'Idk for me Instagram started off fun but now I have these second thoughts about how people see me.',\n",
              " 'I just don’t want to come across as something I’m not and that’s what scares me about the internet.',\n",
              " 'It’s been about a month or so since I’ve deactivated.',\n",
              " 'It hasn’t really effected me I do feel a sense of peace of mind.',\n",
              " 'I don’t have to worry about how I’m perceived I can just continue my life in anonymity.',\n",
              " 'I do enjoy sharing my outfits it was fun and I know if I decide not to return part of me will miss it a bit.',\n",
              " 'I just don’t know what’s better for me.',\n",
              " 'Does anyone have any similar experiences/thoughts regarding Instagram?',\n",
              " \"I'm having a lot of anxiety right now particular over my career right now.\",\n",
              " \"I'm in the beauty industry and I love what I do more than anything.\",\n",
              " 'Work is my happy place, why is my anxiety disorder so bad right now?',\n",
              " 'Like I’m feeling calm, minding my business.',\n",
              " 'Then intrusive thoughts make me feel pins and needles and muscle twitches and more blood flow.',\n",
              " 'Is that normal?',\n",
              " 'I otherwise feel calm',\n",
              " 'Hi.',\n",
              " 'I’ve been dealing with anxiety from steroid-induced mania.',\n",
              " 'I have bipolar, but I’ve actually never had really bad anxiety until this happened to me.',\n",
              " 'What exactly is a panic attack?',\n",
              " 'I wake up drenched in sweat, hyperventilating sometimes, and with a deep fear that I’m going to die.',\n",
              " 'I’ll also be burning hot and I feel like I’m vibrating with terror.',\n",
              " 'It’s hard to stand without shaking.',\n",
              " 'Is this a panic attack?',\n",
              " 'I’ve been experiencing this a lot lately, mostly in the morning and Hydroxyzine seems to be the only thing that helps.',\n",
              " 'I feel so hopeless as if this will last forever and that I’ll never return to my normal life.',\n",
              " 'The medicine and anxiety suppress my hunger too.',\n",
              " 'I’m just wasting away, helpless.',\n",
              " 'Really need someone to talk to.',\n",
              " 'I was chewing in the inside of my cheek due to anxiety and got carried away and I chewed deep enough to bleed enough to fill half of my mouth in under 30 seconds, what do i do?',\n",
              " 'How can I stop being this anxious?',\n",
              " 'I just need someone that can send me tips in how to deal with anxiety.',\n",
              " 'Lately I’ve been feeling extreme amounts of anxiety, and I want to diminish this feeling.',\n",
              " 'So please help me out.',\n",
              " 'Hey everyone!',\n",
              " 'I’m flying to New York next week to see my long distance boyfriend :)) I’m very excited and have flown there alone before with no issue, but I’ve been suuuuper anxious lately and have started having panic attacks again, and I know the traveling will be anxiety-inducing.',\n",
              " 'I also get nauseous when I’m nervous and have a phobia of throwing up (silly… but working on it) and so I’m a little worried that I’m gonna have a phobia-induced freakout on the flight or shuttle ride to the airport.',\n",
              " 'I’ve never taken Dramamine before, but I have a carsick dog so I keep some in my medicine cabinet lol!',\n",
              " 'I’m thinking about taking it to ward off any potential motion sickness, and I’ve also read that it helps with anxiety (win-win!!)',\n",
              " 'but that it makes you drowsy.',\n",
              " 'For anybody who’s taken it, have you found that it helped with your anxiety?',\n",
              " 'I was wondering about how long the drowsiness/just general effects last.',\n",
              " 'My flight is only 2 1/2 hours long and I’ll be getting into NY at 5:30, and while I’d love to feel sleepy and calm on the flight, I don’t want to be so out of it that I can’t enjoy our evening together once I get there!!',\n",
              " 'If anyone has any input on when/if/how to take it and if it helps, I’d love to hear it!',\n",
              " 'Thanks y’all!',\n",
              " 'Also, scheduled my first therapy appointment.',\n",
              " 'It’s not until after my trip, but I’m looking forward to it :)',\n",
              " 'nothing really happened?',\n",
              " 'I have high functioning anxiety among other stuff.',\n",
              " \"I've crashed a few years ago but I'm slowly getting back into it all.\",\n",
              " \"I'm unlearning my negative comfort options so I'm looking for positive ones.\",\n",
              " \"I've seen and read about people that get so relaxed by weighted blankets it but for me it feels suffocating.\",\n",
              " 'I got the tip to try those sensory depravation tanks but they just make me feel claustrophobic and stressed.',\n",
              " 'Are there people that experience similar feelings and have other ideas to relax?',\n",
              " \"I'm on medication and I have therapy which is going well.\",\n",
              " \"I'm just looking for extra comfort options :)\",\n",
              " 'I had a humongous friend fight with one of my friends, but we’re good now.',\n",
              " 'However, her best friend unfriended me on Facebook and I’m worried she’s still upset at me.',\n",
              " 'I did promise her airline miles, though.',\n",
              " 'Plus, we were previously on good terms before, even if we didn’t talk very much.',\n",
              " 'I’m anxious that the best friend is going to say something scary but I don’t want to involve my friend in anyway.',\n",
              " 'It doesn’t help that I have bad social anxiety disorder and am generally afraid of talking to pretty much anyone, even online.',\n",
              " 'A promise is a promise and even if she never wants to speak to me again, I still want to stand by my word.',\n",
              " 'I wonder if I should just wait a bit more when the friend fight is more under the rug.',\n",
              " \"Please help, i don't know if i can calm my anxiety on my own\",\n",
              " 'Does anyone get bloated instantly during an anxiety attack and then it makes it hard to breathe?',\n",
              " '?',\n",
              " 'Lately I feel like I’m on a lvl 10 panic attack for days on end and then when it stops my entire body is drained and I feel wiped out only to start obsessing about something else again.',\n",
              " 'It effects me physically as well like I’m actually ill from my anxiety I get hot and cold and feel crappy headaches and then suddenly I come out of it amd I’m completely fine but super drained from being so amped for days straight.',\n",
              " 'Can anyone else relate to this or am I the only one.',\n",
              " 'Edit: Thanks everyone chiming in this morning reading all the comments and taking some deep breaths I could feel my muscles starting to relax for the first time in days.',\n",
              " 'I don’t think some people realize how much anxiety can actually effect you physically.',\n",
              " 'Does anyone else deal with this??',\n",
              " 'I’m looking for some reassurance cause I swear anything that I get happy about or excited for just ends up Turning into anxiety and panic…',\n",
              " 'I had a break through moment the other day.',\n",
              " 'It was in the middle of the night of course, otherwise I would’ve gone to family for support.',\n",
              " 'I downloaded a bunch of mental health apps, and I mean a bunch.',\n",
              " 'I’ve used Sanvello for awhile, but it’s not that active, at least not active enough for me.',\n",
              " 'Found one called 7 Cups, and I knew it was gonna help me because it scared the crap out of me lol.',\n",
              " 'I’m actually talking to someone.',\n",
              " 'They’re not a therapist, I can’t afford that, but they listen to me and validate what I say.',\n",
              " 'I’ve felt alone for so long, but I’m starting to come out of the woods, for now.',\n",
              " 'It seems to come in waves, but I think I’ve found my raft for now.',\n",
              " 'Keep your head up everyone.',\n",
              " 'Someone’s rooting for you.',\n",
              " 'Tagging 18+ for TW PTSD and Alcohol abuse\\n \\nI have this weird anxiety from when I was a kid, my dad used to scare me so bad about picking up the phone, replying to voice mail, even answering the door.',\n",
              " 'The reasoning was, you’re going to get hurt or yelled at- and my father screamed this into my head.',\n",
              " 'Now it’s to the point where I thought taking an phone job would somehow be a great idea, I’ve been doing it for about a year now and have been doing extremely well.',\n",
              " 'However recently it’s like this trauma has started all over again, I physically shake while trying to put on my headset, I get physically ill while trying to listen to voice mails.',\n",
              " 'I’ll have moments where it feels like I short fuse and the room goes black.',\n",
              " 'I’m falling behind at work, and I also have a unsupportive manager who instead of asking if I’m okay- repetitively gives me snide remarks and  asks if I even take this job seriously.',\n",
              " 'Any advice?',\n",
              " 'I really don’t want to leave this company I’ve been with them for 4 years now.',\n",
              " 'I’m thinking about going back to my old job in the company that I did like.',\n",
              " 'But I also can’t live how I am right now, as I type this my boss keeps messaging me telling me how much of a burden I am and I’m having a panic attack.',\n",
              " 'I can’t keep living like this.',\n",
              " 'I’m tired of constantly feeling dangerously depressed.',\n",
              " 'I sleep all day and night on my days off.',\n",
              " 'I am heavily medicated.',\n",
              " 'I’ve been drinking heavily for 8 months trying to make this job work, but I’m now 3 days sober.',\n",
              " 'I’m basically counting the seconds to 5:30.',\n",
              " '[deleted]',\n",
              " 'I know this is a very common question, but I’ve been experiencing anxiety for four years.',\n",
              " 'For the first three years, I had a panic attack every 6-12 months so it wasn’t anything I couldn’t handle, but this past year with COVID I’ve become so health conscious that I began to have severe health anxiety.',\n",
              " 'No one tells you that when you have anxiety, you become so hyperaware of things you used to not fixate or obsess about.',\n",
              " 'From body sensations to constantly checking my pulse, I’m always worrying that there’s something wrong with me that doctors have missed.',\n",
              " 'It’s gotten to the point where my anxiety is all I think about everyday.',\n",
              " 'Recently I’ve been having random dizzy spells without having any anxious thoughts and I know it’s my subconscious being nervous/anxious, but my mind just won’t let it go and make it into a whole disease.',\n",
              " 'I’m constantly playing “What illness is it today?” or obsessing over things.',\n",
              " 'As a hypochondriac, I’m scared to take medication because my mind is convincing me that I’m some rare case that will die the moment I take Zoloft or that it’ll cause brain damage or a long term issue I won’t catch until it’s years down the line.',\n",
              " 'I’m also scared of the first week or two because of side effects being so bad that I’ll think I’m going insane and the meds aren’t working.',\n",
              " 'I hate seeing so many negative things about SSRIs because it feeds my fear even more.',\n",
              " 'What if I enter psychosis like someone else did?',\n",
              " 'What if I have a manic episode?',\n",
              " 'What if I die?',\n",
              " 'Can someone please help?',\n",
              " '[deleted]',\n",
              " 'Hello all.',\n",
              " \"First of sorry for the several English mistakes coming in the post non-english speaker here :)\\n\\nNot sure if this is right place, please point towards another r/ if that's the case but I don't know where else to post.\",\n",
              " \"I'll try to summarize a bit and I really hope someone will be able to help us or nudge us in the right direction.\",\n",
              " 'For context, my SO was never particularly a stressed person.',\n",
              " \"Sure at times she would have a bit but not like me for instance who's grinding my teeth and biting my nails H24.\",\n",
              " \"But for the last say 2 months, she's been experimenting with the following symptoms :\\n-feeling her heartbeat throughout her whole body, sometimes I can see her shirt moving in the rythm of her heartbeat.\",\n",
              " '-a limb that would spasms for a few minutes for instance\\n-some sort of \"spikes\" (sorry in French we say \"Pointes\", it\\'s like being stung by a needle) in her chest and sometimes elsewhere\\n-shortness of breath\\n-overall not feeling good\\n\\nThese feelings when they are strong are not only keeping us from sleep but it\\'s in the only thing she can think about.',\n",
              " 'Now it all started a few days after she got vaccinated.',\n",
              " 'She was not particularly fond of doing it and it scared her a bit regarding the side effects.',\n",
              " 'Nevertheless she did it, but those symptoms started appearing (especially the heartbeat in whole body thing), it would appear specifically around bedtime at first.',\n",
              " 'She started worrying about them being side effects.',\n",
              " 'She went to the MD to check on her heart and see if all of this was just out of stress from the vaccine perhaps.',\n",
              " 'MD checked and found nothing wrong with her heart, told her not worry about the vaccine etc, but did not actually give any leads as to what was happening and were did this feeling comes from.',\n",
              " 'It got better for like a day or two maybe but she was still missing an explanation.',\n",
              " 'Few weeks later, these night episodes have become more frequent, and also happen during daytime sometimes.',\n",
              " \"Worst would be that hangover this is unbearable for her and the feeling bad has her thinking this is it, she's gonna die.\",\n",
              " 'After one of these episodes, she went to a cardiologist.',\n",
              " 'After an ECG and Stress Test (where you run), her heart was solid as a rock, but once again the doctor could not give an explanation besides checking off the fear of bad heart problem.',\n",
              " \"That seemed to help a bit but I think maybe (I truly don't know but we've looked at it from many angles and I don't know what to think anymore) the uncertainty of knowing what's going on is still there and these feelings aren't going away.\",\n",
              " \"Tonight, she told me sobbing that she's been feeling bad (same symptoms) on a permanent basis for the last week also, and that she's exhausted and just want to know what is going on.\",\n",
              " \"We want to get an appointment with a psychologist in the coming days as we don't know who else to turn to.\",\n",
              " \"In the meantime, every nightime we check something new online as she's having trouble sleeping, we've seen a lot of diagnosis that seem like it might be it but how to know really, lots of things appear to come from the same symptoms.\",\n",
              " \"Generalised Anxious Troubles, Stress (she's not stressed at all besides for that as everything else is going great for her) Cardiac Anxiety, maybe it's a real 'physical' issue also, Bounding Pulse, I'm confusing a lot of terms right now as I don't remember which is previous daily homemade diagnosis we settled upon.\",\n",
              " \"But what we don't get is that besides strong nightmares on a regular basis (even sleep paralysis at times), she's barely stressed by anything..\",\n",
              " 'I thought it could be the fear of side effects getting stronger everyday from watching bad news, thinking heartbeats etc or any small issue could be a sideffect, and that has gotten out of control afterwards perhaps even after seeing that her heart (for which she was scared about) being really fine.',\n",
              " \"I'm sorry for the long text but I really need your help, I see how it's consuming her and trully ANY feedback to make her read similar experiences or possible leads to help her get rid of this uncertainty would be super guys.\",\n",
              " 'Thanks a lot of you took the time to read !',\n",
              " 'I was just sleeping and woke up to a stinging feeling on what kind of feels like the skin on my head.',\n",
              " 'It’s a shady stinging pain that kinda throbs.',\n",
              " 'My mind immediately said “oh.',\n",
              " 'Brain aneurysm.',\n",
              " 'And now I don’t want to go back to sleep in the fear I won’t wake up.',\n",
              " 'The pain is kinda mild and only hurts a little bit.',\n",
              " 'But even though I could fall back asleep if I wanted to, I’m still scared I won’t wake back up.',\n",
              " 'It kinda feels like a headache as well or like pressure which isn’t helping my anxiety at all.',\n",
              " \"I just can't get myself to apply to a job.\",\n",
              " 'Yes, I said apply not even interview or get the job (although those are rough too).',\n",
              " \"I have been told 1000 times by family and friends to just apply for anything that interests me and let the employer reject me if they don't want me, but I just can't get myself to do it.\",\n",
              " 'I freak out at the idea of them reading my resume and laughing at my audacity to apply as they delete it.',\n",
              " 'Or if I do get called in for an interview, having to explain why I am a good pick for the job or being put through a technical interview and having to perform on the spot.',\n",
              " \"It's a lose lose situation because if I don't get a job, I feel guilty and beat myself up, but if I apply then I get scared.\",\n",
              " \"It's hard.\",\n",
              " 'I am about to graduate with my BSc in computer science in April so I know I am qualified for at least something but when it comes to actually applying I just cant do it :(',\n",
              " 'Hi guys and gals… long story short after my first time trying THC… I had my first panic attack which resulted going to the hospital and many panic attacks daily for about 2 weeks(2 months ago)… for 2 weeks now I haven’t had any.. but I still feel my body is in this weird high tension mode and can’t get rid of it… I have parathesia all over(tingles, burning), jaw is very tense(TMJ), always thinking negative and googling.. as well my balls keep going up(cremaster reflex)… it sucks… can panic attacks cause this as it’s been almost 2 months with these crazy symptoms and still feel off… 🥺 I still am tending my jaw and muscles, as well always shaking my leg..',\n",
              " 'That statemement has helped me so much, its all in the moment, but dont feel pathetic for your anxiety, know that at least 1 other person in the world is basically in YOUR shoes.',\n",
              " 'My boss is extremely smart, and I’m associate level so I ask him a lot of questions.',\n",
              " 'I feel that I don’t add much value because I’m not capable of being very independent.',\n",
              " 'I’ve made several comments to my boss in an awkward giggly way about how i feel like i suck, sorry if i bother you too much, I feel dumb compared to you, im afraid you think im dumb etc etc.',\n",
              " 'even today he told me good job on something and i said thank you haha you know me always feeling like i suck.',\n",
              " 'It was like a weird social anxiety automatic reply.',\n",
              " 'I Immediately regretted saying it becausr I feel like i talk like this too much.',\n",
              " 'And now im afraid its going to make my boss question my abilities.',\n",
              " 'Is it possible to get fired because of low confidence in yourself?',\n",
              " ...]"
            ]
          },
          "metadata": {},
          "execution_count": 113
        }
      ]
    },
    {
      "cell_type": "code",
      "metadata": {
        "id": "PTtqKwS3XynF"
      },
      "source": [
        "def sentences1(lst):\n",
        "    res = []\n",
        "    for el in lst:\n",
        "        sub = el.split(', ')\n",
        "        res.append(sub)\n",
        "      \n",
        "    return(res)\n",
        "sentences_list=sentences1(sentences)"
      ],
      "execution_count": 13,
      "outputs": []
    },
    {
      "cell_type": "code",
      "metadata": {
        "id": "hYiNjmahZbA_"
      },
      "source": [
        "sentences=sentences[:500]"
      ],
      "execution_count": 115,
      "outputs": []
    },
    {
      "cell_type": "code",
      "metadata": {
        "colab": {
          "base_uri": "https://localhost:8080/"
        },
        "id": "yFrdX2MPd_XZ",
        "outputId": "6b63cff3-3b77-446a-d824-cd2d609d328d"
      },
      "source": [
        "sentences"
      ],
      "execution_count": 117,
      "outputs": [
        {
          "output_type": "execute_result",
          "data": {
            "text/plain": [
              "['This physical pain.',\n",
              " \"It's like there's a boulder on my chest.\",\n",
              " 'There is a knot in my stomach.',\n",
              " \"I don't know how to make it go away, I'm so exhausted.\",\n",
              " \"I can't cry.\",\n",
              " 'I have forgotten how to breathe properly.',\n",
              " \"I can't, I just can't anymore.\",\n",
              " 'Do anyone else feel like there is an \"air bubble\" in your throat?',\n",
              " 'And when you swallow saliva, it feels like it is going up then down.',\n",
              " 'Is this anxiety related?',\n",
              " 'Hyperacidity and acid reflux runs down in my family both sides and I have it too.',\n",
              " 'I also suffer from anxiety and panic attacks.',\n",
              " 'Can this be caused by anxiety or acid reflux?',\n",
              " 'I also had been in an anxious situation a while ago.',\n",
              " 'Any tips or techniques to get rid of this sensation?',\n",
              " 'Title.',\n",
              " 'And guess what?',\n",
              " 'Went to the ER everything checked out.',\n",
              " 'I am actually a little bit thankful that I did have these two attacks in a row because it really tells me that after all these physical symptoms and me thinking it’s a heart attack that it is quite literally me just getting myself worked up.',\n",
              " 'Onwards and upwards!',\n",
              " \"I'm about to go out and I don't know how to deal with it, i already have stomachache i dont know what to do\",\n",
              " 'Hey everybody!',\n",
              " 'I went to my doctor on Monday and he gave me some etifoxine (stresam) to take in the morning and the evening to help with my anxiety and help me sleep.',\n",
              " \"Once I got home I started researching this on the internet and I've read a lot about how it doesn't do much and gave people very bad (and quite dangerous) side effects.\",\n",
              " \"Now I'm scared to try it in case it makes me sick.\",\n",
              " 'What should I do?',\n",
              " \"That's all.\",\n",
              " 'I’m 18 years old.',\n",
              " 'For the last 9 months I’ve woken up in a shear panic attack that would last for a few hours if I was lucky.',\n",
              " 'Within the time I wake up to when it’s over, I sit on the bathroom floor and violently throw up.',\n",
              " 'I’m balling my eyes out, not wanting to be here, not wanting to continue on with it.',\n",
              " 'I can’t breathe or talk, and I’ve been getting help.',\n",
              " 'I was put through c-pep a month ago and shit just doesn’t get better.',\n",
              " 'I’m finally trying to open up again, meet someone new.',\n",
              " 'And I have, in fact I’m supposed to be seeing her tmr and stay the night.',\n",
              " 'But all I fucking do when I think about it is throw up.',\n",
              " 'Which makes no sense considering I want this more than anything.',\n",
              " 'It’s completely ruining my life and I just need someone else, who also vomits from too much of one feeling to just help me out.',\n",
              " 'Please tell me something I don’t know.',\n",
              " 'I’m just exhausted..',\n",
              " \"I don't know if anyone else suffers from this.\",\n",
              " \"But I will look in the mirror on some days and think 'geez you look like your dying' I've lost weight these last few months (not underweight) and I think I look paler....\\n\\nMy weight just shocks me cause I haven't been this weight in almost 4 years!\",\n",
              " \"And I'm already super pale to begin with, and I haven't been going outside ever...\",\n",
              " \"BUT my anxiety is a bitch and when I'm looking at myself, it repeatedly tells me 'your dying.\",\n",
              " \"Google it I bet it will tell you the same thing'\\n\\nAnd it makes me even more anxious when my family randomly shows up at my house and all I can worry about is 'oh god they are going to think something serious is wrong with me' (which they never do.\",\n",
              " 'They always tell me I look the same lol) \\n\\nI just wish for a break.',\n",
              " 'A normal day would be wonderful.',\n",
              " 'Does anyone else get dizzy?',\n",
              " 'And does it come on before anxiety??',\n",
              " 'Or during?',\n",
              " '?',\n",
              " 'My anxiety started in in August and has progressively gotten worse.',\n",
              " 'I always feel a rush of adrenaline in my chest when lying down.',\n",
              " \"Now, I've been told I suffer from depression as well.\",\n",
              " 'My sleep disturbances started late August waking up a few times but able to go back to sleep.',\n",
              " 'a couple of weeks ago I having trouble falling asleep.',\n",
              " 'When I start to doze off my body would experience hypnic jerks and I would jolt awake.',\n",
              " 'I would end up staying awake the whole night.',\n",
              " 'I am unable to nap.',\n",
              " 'I use a sleep aid so I can sleep and function during the day.',\n",
              " 'I meditate daily, practice living in the present, exercise.',\n",
              " 'Nothing seems to help.',\n",
              " 'My doctor prescribed Lexapro to treat my anxiety and depression.',\n",
              " 'Would the insomnia subside if I can get my anxiety ad depression under control?',\n",
              " 'Or do I need to see a sleep specialist?',\n",
              " 'Literally 3 minutes ago I was about to sleep then all the sudden my legs randomly started to feel weird.',\n",
              " 'Like electricity was running through them.',\n",
              " 'And I feel a weird needle like pain on my feet.',\n",
              " 'That sensation lasted for about 10 seconds.',\n",
              " 'The needle pain happened twice.',\n",
              " 'It’s scary to me.',\n",
              " 'Yesterday I had an okay day so now after this happened I’m feeling like I’ll just be anxious for the next couple days.',\n",
              " 'It’s 5:42am for me now.',\n",
              " 'I have health anxiety so anything weird happening in my body I automatically think I have something wrong with me.',\n",
              " 'I’m very scared it’s something bad.',\n",
              " 'I also am scared of doctors.',\n",
              " 'I’m just scared 🥺🥺🥺 why are my legs feeling weird.',\n",
              " 'Imma cry',\n",
              " 'My anxiety has been so horrible this week.',\n",
              " 'I had to quit therapy b/c I found out my Medicare type doesn’t cover it.',\n",
              " 'I thought it would be a smooth transition but I’ve never felt so much horrible anxiety.',\n",
              " 'That and other factors of life are making me so anxious to the point where I can’t leave my house.',\n",
              " 'I can’t go to school because the thought of being anywhere that isn’t my house sets me off.',\n",
              " 'This morning I was crying and hyperventilating because I was about to leave the house and walk to the bus stop but I felt paralyzed.',\n",
              " 'Like even the thought of touching the door handle scared me.',\n",
              " 'I know it’s my brain making the world seem scarier than it is and I know it’s irrational but I can’t.',\n",
              " 'I can’t explain it well.',\n",
              " 'I can’t imagine existing outside the world I’ve already made for myself inside home.',\n",
              " 'My dad asked what I was wrong he was practically begging me to tell him what was wrong but I couldn’t tell him.',\n",
              " 'I, myself, can’t even pinpoint it.',\n",
              " 'I’ve missed school yesterday and im missing today as well .',\n",
              " 'I feel pathetic.',\n",
              " 'I feel burnt out to where I don’t even want to speak.',\n",
              " 'I feel horrible.',\n",
              " '[deleted]',\n",
              " 'I was told beforehand that they are likely to make things worse before they make them better, so this isn’t a surprise.',\n",
              " 'But I’m now on my third consecutive sick day from work staying underneath my covers because I can’t handle thinking about anything else.',\n",
              " 'I’m freaking out and I hate it.',\n",
              " \"I'd like to say that most days my anxiety is under control, or low.\",\n",
              " 'But then there are those days where EVERYTHING makes me a worried wreck.',\n",
              " \"Right now I'm stressing myself out over a Dj-gig I have together with a friend in three weeks.\",\n",
              " 'Yesterday my brain also decided to remember a few stupid things the bf told me years back, which makes me feel insecure today for some reason.',\n",
              " 'Never mind why, right?',\n",
              " \"It doesn't really matter what it is, the anxiety pops up regardless how small or insignificant.\",\n",
              " \"I'm just not quite sure what to do with it.\",\n",
              " 'What do you guys do?',\n",
              " 'Do you shut yourself off from the world for the evening and just try to stabilize?',\n",
              " 'I tried to meditate, but yeah, still sitting here with anxiety.',\n",
              " '\"This too shall pass\", I just get so angry at my brain when it does this.',\n",
              " 'What could possibly be the purpose of grabbing onto one of the few mean things the bf has told me during our 8 years and obsess about it?',\n",
              " \"(I'm sure he didn't mean for it to be mean, hes a good guy.\",\n",
              " 'Its just another example of a mind obsessing about some random thing in the past really.)',\n",
              " 'And I KNOW the gig will be fun, just got to suffer through the three weeks of agony beforehand?',\n",
              " 'Fucking sucks.',\n",
              " \"I'm suffering anxiety and my SSRIs finally started working, I feel normal again and able to keep up with my daily tasks.\",\n",
              " 'Except one thing, I really cannot push myself into stuff I love doing.',\n",
              " \"I draw, and I'm also pursuing masters degree at Academy of Fine arts.\",\n",
              " 'Drawing is a must for me and also my biggest passion.',\n",
              " \"But ever since my panic disorder and anxiety kicked in, I've been avoiding it to the point I cannot even be in the same room as my working tech (I'm a digital artist).\",\n",
              " \"I push myself everyday, but only after couple of minutes drawing something I'd otherwise enjoy, I start getting nauseous and my heart is going crazy.\",\n",
              " \"At this point I'm literally doing everything else beside that, I read, clean, and interact with friends and my partner, but cannot get myself to engage with my real passion.\",\n",
              " 'Does anyone has thoughs on that?',\n",
              " ':)',\n",
              " '[deleted]',\n",
              " 'I took my first sertraline pill last night at 7pm.',\n",
              " '50mg.',\n",
              " 'This morning I randomly woke up around 2am to the most intense panic attack of my life.',\n",
              " 'I was so stressed and anxious she heard me say \"I want to die\" loudly as a way to expell what I was feeling from me.',\n",
              " \"I've spent the morning hyper ventilating, legs weak with a migraine and an intense weight in my chest.\",\n",
              " 'I called the doctor who said this should go away after a few days, but my family is concerned for me.',\n",
              " \"Here's the thing, I don't have anxiety all the time, I only get it in certain situations where my life isn't going well, yesterday I was feeling great, and this morning I feel worse than I've ever felt in a long time.\",\n",
              " \"My family said I shouldn't take any more medication,  I'm inclined to agree, I have studies to complete and this is getting in the way.\",\n",
              " \"Right now I'm laying in bed trying to insulate myself from how cold I feel, I'm thinking all the worst thoughts about myself whereas yesterday I was fine.\",\n",
              " 'What should I do?',\n",
              " 'This is much more intense than I was expecting',\n",
              " '[removed]',\n",
              " 'Yeah, so.',\n",
              " 'Imma tell you.',\n",
              " 'I have this nice combination of anxiety and add and all my life, my parents and teachers got/get super mad at me, because I forgot to do something they told me 5 minutes, or even 30 seconds ago and I get super anxious about it and in the end of the day I feel like I\\'m gonna colapse xddd \\nBut most of the time Its just this funny \"I...wanted to say something...I forgot what it was...oh my god...wtf did I want to...Aaaaaaaaa....AAAAAAA\" and it actually makes some people laugh, so I don\\'t mind it that much xddd But yeah, it\\'s a fun combination that I wasn\\'t aware of until recently, when my friend pointed out that I show all the symptoms of ADD and she was right it seems xddd\\n\\nSo yeah, just wanted to tell this to y\\'all, hope you have a nice day and remember, that I love you all!',\n",
              " 'I can’t focus on anything, eat, drink, sleep.',\n",
              " 'I try to read something and this horrible feeling comes over me of complete sadness and like something bad is going to happen.',\n",
              " 'I am so desperate for someone to talk to I don’t even understand it 🥺',\n",
              " \"I didn't really experience real anxiety or stress until I was like 19.\",\n",
              " 'I had a good upbringing with no traumatic incidents and had parents who were very lax, so I feel like there was literally nothing for me to care about.',\n",
              " 'I had no concept of the future or responsibility.',\n",
              " 'I remember my best friend had anxiety and I couldn\\'t even comprehend what that meant and when my friends would talk about how stressed they were I\\'d be like \"why?',\n",
              " 'just stop caring?\".',\n",
              " 'Then when I was 19 I moved to a city and started living alone and had to get a job of course.',\n",
              " \"I feel like the reality of life hit me all at once and since then (I'm 23 now) it's never been the same.\",\n",
              " \"It's been particularly bad the past couple years.\",\n",
              " \"I can't smoke weed anymore cause I have panic attacks every time.\",\n",
              " \"I've not been drinking very much for months cause it sends me into an unbearable depression &amp; gives me anxiety.\",\n",
              " 'I just miss how stress free my life used to.',\n",
              " 'Sometimes I think back to how my brain used to think about things and process stuff and I wish I could go back to bring able to think the same way and not worry so much about everything.',\n",
              " 'Bums me out sometimes.',\n",
              " \"Feels like this is just life now and I'm gonna have to live with this forever and I won't ever get back to the way it used to be.\",\n",
              " \"In a way I'm grateful that I at least got to experience those 19 anxiety free years, but I just want it back so bad.\",\n",
              " \"Hi all,\\n\\nSo I've experienced brain zaps before, when I've been coming off of antidepressants or missed doses but I'm currently on antidepressants and I haven't missed any doses.\",\n",
              " \"Yesterday when I returned home, I noticed that the back garden gate was open which isn't possible because its bolt locked.\",\n",
              " 'When I saw this, my body instantly starting having zaps up and down my body.',\n",
              " 'I know that I had a rush of adrenaline, but when I turned my head or heard a noise or was coming around a corner, my whole body shocked from my brain to my feet.',\n",
              " 'It was absolutely awful.',\n",
              " \"It didn't feel like a normal fear response, like I said there was zaps up and down my body, it felt like the jerks you get when you're falling asleep and your body jolts.\",\n",
              " \"Does this happen to anyone else when they're faced with a scary situation or threat?\",\n",
              " \"I've been feeling really depressed and anxious for the past week or so.\",\n",
              " 'I truly feel awful and i am always on the verge f crying because i have that much stress.',\n",
              " 'I always feel like this when a minor inconvenience  happens in my life and it throws me right into a worrying-overthinking-spiral that i cannot escape.',\n",
              " \"Especially if i don't have the any control over these situations.\",\n",
              " \"For example, my bf's wisdom teeth need to be removed in 2 weeks and for some reason i have been a total mess since i knew.\",\n",
              " \"I really don't know why but i just can't stop worrying about things that could go wrong and i don't want to see him in pain.\",\n",
              " 'I know it sounds ridiculous but my anxious brain is making such a big thing out of it.',\n",
              " \"I've had 3 panic attacks in the last few days just because i cannot get it out of my head.\",\n",
              " \"It makes me feel weak and ashamed tbh 😅\\nIt's not that big of a deal and what about people who actually are dealing with much greater issues and worries?\",\n",
              " \"What must they think of me...\\nAnd If i can't handle this then what if something really major happens in the future?\",\n",
              " 'It makes me even more afraid, like if my bf ever got in a serious accident i would just die i guess.',\n",
              " 'Is this even normal?',\n",
              " 'Am i the only one?',\n",
              " 'And how do i deal with these feelings?',\n",
              " 'I know my thoughts are irrational but my feelings are still real.',\n",
              " \"His surgery isn't for two more weeks but i don't want to feel like this for two more weeks.\",\n",
              " \"I also don't think that is the only reason why i am feeling so shitty but that was the triggering event i guess.\",\n",
              " 'Anyway, words of advice are highly appreciated <3',\n",
              " 'Hello.',\n",
              " \"It's quite common for me to feel uncomfortable about being physically close to someone, but i never really noticed it as a repeating problem, my instincts just solved it.\",\n",
              " 'By that I mean I would just leave the room when i feel a bit uncomfy.',\n",
              " 'But on Monday I felt really uncomfortable while in class, i Just wanted to be alone, i hugged myself, went into the fetus position, and was just constantly moving away when someone walked near me.',\n",
              " 'I really feared getting touched and really wanted distance.',\n",
              " 'It was the first time this happened and i ended up just crying and shaking until it passed.',\n",
              " \"Right now I'm experiencing the same, i really don't want anyone around me, but my friends are aware of this now and I'm more prepared so I don't expect it to get as bad as it did on Monday.\",\n",
              " \"I just flinched because my class mate moved their arm and they're within reach of me.\",\n",
              " 'I really do not want to be touched and I fear it a  lot at the moment.',\n",
              " \"I wouldn't say I have social anxiety as I feel quite comfy with new people but atm I really just want to get away from everyone.\",\n",
              " '[deleted]',\n",
              " 'I am a girl (18f) and really not sure that I love a boy or not.',\n",
              " 'But I have just wanted to Time pass with him and really did it.',\n",
              " 'But recently I heard that he is going to be married.',\n",
              " \"Now I am become crazy by thinking that I can't time pass with him anymore.\",\n",
              " 'And he will not pay attention to me anymore.',\n",
              " 'And I want to back his attention to me.',\n",
              " \"I didn't say about my love to him and he has not done it also.\",\n",
              " '[removed]',\n",
              " 'Like many anxiety has stole time away from my life.',\n",
              " \"Months in fact, and I think I've seen it at it's very worst and I don't want that to happen ever again.\",\n",
              " \"A change I will make is to make time to do things which help my anxiety every day, ESPECIALLY on the days where I'm NOT feeling anxious.\",\n",
              " \"This is something I've neglected to do.\",\n",
              " \"When things are going my way I'll ride the wave rather than take stock of the situation and not get carried away.\",\n",
              " 'So daily I want to take things easy, practise yoga, do breathing exercises, take more baths and walks (alone time!',\n",
              " '), eat less crap.',\n",
              " \"Hopefully that way I'm best equipped to deal with anxiety when it rears its ugly head next!\",\n",
              " 'Hey guys, I am having a really tough time with my anxiety now.',\n",
              " 'Always gets worse for me at the end of the year I’m not sure why.',\n",
              " 'I am deathly afraid of any confrontation, so I let so much of shit slide.',\n",
              " 'Basically I just ignore or act like something doesn’t affect me when it doesn’t.',\n",
              " 'I remember last year I was sitting in my car, turned off and the guy next to me slammed his door against my car.',\n",
              " 'I was so pissed and angry but I was too scared to confront him or say anything.',\n",
              " 'After the “altercation” with me not doing anything, this anger brews in myself that I can’t even defend myself or my loved ones in the future if I am always like this, and that anger makes me so angry at the small stuff too.',\n",
              " 'I tend to get very angry and worked up nowadays if I sense even the slightest sarcasm or attitude or anything besides 100% sweet and kind interactions which I expect for some reason.',\n",
              " 'I can’t take any rude behaviour or any interaction that seems half arsed.',\n",
              " 'I get so damn angry and depressed over the way I am being treated, and then I get depressed and angry over the fact that I am too scared to do or say anything about it, and the voice at the back of my mind says I’m not a man or I’m not normal.',\n",
              " 'Has anyone else experienced this kind of mental torture?',\n",
              " 'I am unable to do normal stuff people my age do because I fear these intersections and the subsequent internalised reaction my brain goes though.',\n",
              " 'I need to apply for a job now as I’ve just graduated but I can’t seem to apply as I’m too afraid to get rejected for the job and destroy my already absent self esteem in addition to being afraid of the interactions that I would have to go though from the interview and during my job too\\n\\nI am just a shell of a person now \\n\\nAnd I hope this issue is not forever.',\n",
              " 'I have tried therapy but I couldn’t even do the tasks I was given because it was too hard for me to do, and that was just to call and talk to my friends over the phone, which I don’t do too',\n",
              " 'I decided to join this subreddit because although I don’t suffer from particular diseases I am a person who likes to see things in their place and that in difficult situations can panic, for example if I am alone in facing a problem.',\n",
              " 'So I’d like to tell you when something comes to mind and especially help those in need.',\n",
              " 'Thanks again for the welcome, a hug.',\n",
              " 'This is the first time I’m experiencing this and I don’t know if I’m really having an episode or it’s just panic and all in my head.',\n",
              " 'What happened before was I got lost in my own thought because of some triggers that makes worried sick, then I can feel my heartbeat and my hands shake terribly and my vision narrowed.',\n",
              " 'This happened a few weeks ago but now I just keep asking myself did it really happen or I’m just overreacting?',\n",
              " 'Or worse, maybe I want it to happen?',\n",
              " 'I just feel like I can’t trust my own judgement.',\n",
              " 'My doctor said i can take Celexa in the morning and then amitriptyline at night to help with sleep and tension headaches.',\n",
              " 'I thought your not meant to take 2 antidepressants.',\n",
              " 'This might seem pretty small but this last year has been really bad for me.',\n",
              " 'Im on sick leave for at least the rest of the year and even then I dont have a job to go back to from what it looks like now.',\n",
              " 'Basically feeling pretty useless.',\n",
              " 'All i do is sit at home and go to treatments.',\n",
              " 'But today my little brother asked me for help on his homework in sociology!',\n",
              " 'I have a university degree in science of social work so this is right up my alley.',\n",
              " 'It just made me so, so happy.',\n",
              " 'Its the small things I guess.',\n",
              " '[deleted]',\n",
              " 'When you go to school/work or even wondering in home, do you guys have need to have/make friends?',\n",
              " \"I might be asking myself, buuut- I said to myself that I don't need them, and then I question myself about it and IT always ends up that I need them.\",\n",
              " \"It's just sad because of my shyness or lack of confidence I can't get up to making new friends at all..\",\n",
              " 'For the past two years on and off I’ve had 3 periods of some really debilitating health anxiety.',\n",
              " 'It started off after I got a septoplasty, which is where they fix your deviated septum.',\n",
              " 'Before the surgery I read up online about a disease called empty nose syndrome.',\n",
              " 'It was a real scary disease that a lot of people end up committing suicide from because of the symptoms it leaves u with.',\n",
              " 'The disease is rare but looking it up it said it’s possible to get it a few years later, which is even more rare in its own.',\n",
              " 'Most people that get it later will get it a year later or so but they’ll have weird symptoms right after surgery.',\n",
              " 'I Talked to the doctor because I was so scared of that disease and he told me that he’s going to make sure I don’t get it which made me feel good at the time.',\n",
              " 'To make this story shorter basically I just did a bunch of research and looked at the people who talked about the disease and they’re experiences etc.',\n",
              " 'After this happened I had some anxiety but not much.',\n",
              " 'Well since then Anytime I have a traumatic event or feeling this health anxiety comes back.',\n",
              " 'The most recent being the breakup of me and my girlfriend.',\n",
              " 'She was so so so important to me and we dated for quite a long time.',\n",
              " 'I remember after doing it I had just a giant fucking panic attack, one of my worst if not the worst.',\n",
              " 'Since then my Breathing has felt weird.',\n",
              " 'Feels like I can’t breathe correctly through my nose and i end up breathing through my mouth and my chest is all tight and it just gets worse.',\n",
              " 'It’s like my body becomes hyper focused on my nose and feels every sensation etc.',\n",
              " 'Now i’ve dealt with this two other times yet I still am able to feel convinced i’m getting it.',\n",
              " 'I know the disease is rare and i know  it’s even more rare to get the disease unannounced years later but I still can’t shake the thought it’s awful.',\n",
              " 'Just typing this out so feel like I can’t breathe and my throat feels tight and etc.',\n",
              " 'It’s just awful because one of the symptoms of that ENS is feeling like u cant breathe but the reason for that is because the air in their nose feels to open with no resistance or it hurts to breathe or they can’t feel the air at all like they’re drowning in some way etc.',\n",
              " 'I cant have this happen a third time it’s so damn awful.',\n",
              " 'Gotta keep pushing through more matter how shot weird muddled or whatever gotta keep going!',\n",
              " '!',\n",
              " 'I did take a new drug, it’s def enhancing how I feel but this happens regardless.',\n",
              " 'Do you think these are signs of mania??',\n",
              " 'I talk alottt more than I would like to, I am indecisive and contradicting, I am very clingy and feel extra lonely, attempted suicide yesterday, my sex drive is destroyed because I don’t believe anyone can love me forreal.',\n",
              " 'I can’t stress enough about the constant chatter in my head (negative and positive battling it out) insomnia and this horrible feeling like something bad is going to happen and I’m just waiting.',\n",
              " 'Does anyone have anxiety or manic symptoms they can recognize?',\n",
              " 'Yesterday has had to be one of the worst days of my life so far.',\n",
              " 'On Saturday I moved out of my parents house to live at university halls, which I have being planning to start for a year now.',\n",
              " 'The first day there I though I was doing okay and was trying to stay positive to try and enjoy it.',\n",
              " 'The day after I woke up with butterflies in my stomach that lasted for about an hour until I calmed down, but later on during the day I was overwhelmed with thoughts and began having a panic attack.',\n",
              " \"The Tuesday followed a similar pattern as I had my first lecture which I found difficult as I couldn't understand the task at hand and another student called me stupid.\",\n",
              " \"Then Yesterday was supposed to be a day for me to try and chillout and focus on my mental health, but something inside of me changed and just couldn't stop crying.\",\n",
              " 'Yesterday was the first day I believed that I would be better off dead then face these difficult challenges as I panicked and tried to ask for help where many were turning me away.',\n",
              " \"I'm now back at home with my parents and am thinking about quitting the university I'm going to do open university where I can study at home as I don't like working with other people and my parents can keep an eye on me.\",\n",
              " 'I feel like an utter failure because I let things get on top of me and have decided to quit.',\n",
              " \"To be honest I'm scared everyday and worry about my future as I can't go to new places without my parents and my anxiety and depression is out of control.\",\n",
              " 'I need some serious help, I just want to be happy.',\n",
              " 'I am preparing for job interviews and got quite some rejection in the interview, i thought it all went good by still i failed and since then i am not able to focus at all.',\n",
              " '[deleted]',\n",
              " 'I just got my first apartment, job and a girlfriend in like three months and I know that I should feel really Happy and lucky that I have ended up in this situation.',\n",
              " 'But I am so afraid of feeling Happy because if something bad happens, it wont feel as bad if I have been expecting it already.',\n",
              " 'If I let myself feel Happy and something bad happens it will feel even worse.',\n",
              " 'And I feel like something bad will be happening because so much good has happened in the past months.',\n",
              " 'I have GAD diagnosed.',\n",
              " \"I really want to make music, videos and stream and a lot other stuff that I think would be fun however I have a fear that is stopping me from doing any of that and it's the fear someone I know will recognize me.\",\n",
              " 'The reason why I have this fear is because I think that if people that I know like ex girlfriends, old friends, family who I haven\\'t seen or spoken to in years will try to exploit me or try to damage me for example I wouldn\\'t put it past any of them to make something up and use facebook messages out of context to prove their point but I no longer have a facebook account since 2017-2018 so if I wanted to defend myself it would just be my word vs their \"evidence\" and I know everyone would believe the out of context messages because even through it\\'s out of context they would at least have something to prove their point other than just their word.',\n",
              " \"I know it's a stupid thing to worry but whenever I want to make music or a video this fear just hits me like a brick wall prevents me from doing what I want to do and I don't know what to do to combat the fear to get over it.\",\n",
              " 'Due to overwhelming wake-up anxiety.',\n",
              " 'Has always been an issue for me but has never been *this* bad.',\n",
              " 'I also can barely eat.',\n",
              " 'This can’t be good for my physical health.',\n",
              " 'Is this common?',\n",
              " 'I’m so exhausted.',\n",
              " 'I have a fear of going crazy and the last few days I’ve felt really not with it, I also have the same 5 seconds of different songs going round in my head which I cannot stop.',\n",
              " 'Help :(',\n",
              " 'I 22(F) have my very first job interview today.',\n",
              " 'After a call with the CEO of the company, he called me again and set a time and date to have a personal interview today.',\n",
              " 'Six years ago, I would have never believed I would be able to do this.',\n",
              " \"It's been a long road and I'm starting to see the way out, today is a good day.\",\n",
              " \"We need to have hope, I'm sure better days are ahead of us all.\",\n",
              " 'Keep trying!',\n",
              " 'I just don’t even know what I’m feeling right now, social anxiety?',\n",
              " 'Anxiety?',\n",
              " 'Depression?',\n",
              " 'It’s just like I have no motivation to go with my friends anymore, and when I’m with them I’m acting so much different right now.',\n",
              " 'I can’t feel normal in the conversation, I can’t be relaxed while talking to someone and I can’t just actually laugh at what people are saying.',\n",
              " 'Idk why but it feels like I never even know what to say in the conversation.',\n",
              " 'Over the past month I finally got happy, I would do random little stuff and talk to myself and hum and dance.',\n",
              " 'Now I don’t do any of that, it’s just try to act normal around friends, stress, try to do school.',\n",
              " 'I don’t even know what my problem is.',\n",
              " 'I just started college, this is supposed to be the best time of my life and only specifically right now, this is the worst I have felt in so long.',\n",
              " 'My anxiety used to always just be me being insecure about the way I look, that’s it.',\n",
              " 'Now it feels like it switches everyday, worrying about how I look some days, but others I’m just super on edge all day, maybe from school.',\n",
              " 'Then some days like today I feel like it’s either social anxiety or depression where for some reason I just can’t be or feel normal whatever I do\\n\\nThere’s like a pit in my stomach that won’t go away, it feels like it holds me back from being happy and relaxed \\n\\nI actually don’t know what to do anymore',\n",
              " 'the reason why i hate myself is because i feel like i’m not good at doing things properly, perfectionism i literally base my worth depending on how good i am with things.',\n",
              " 'like i expect myself to be perfect at almost everything, every hobby, every sport anything u could thing of.',\n",
              " 'how can i just accept myself for not being a perfect human being because it’s really hard.',\n",
              " 'I also hate myself because i’m very socially anxious and i never really defend myself so i just see my self as a loser because i can’t stand up for myself or say things i really wanna say to someone, i think also because i assume people think i’m a loser for being so shy and not talking??',\n",
              " 'I’m bad at explaining things sorry but my low confidence has ruined my life and nothing seems to help, affirmations just make me cringe 10x more.',\n",
              " 'it’s staring to get to the point where literally just walking to my car makes me want to have a cringe attack.',\n",
              " 'my whole existence is cringe.',\n",
              " 'Idk who i even am anymore',\n",
              " 'I have been taking 20mg of Propranolol daily for the past three months to help with the alleviation of the physical symptoms I deal with from anxiety.',\n",
              " 'It has truly been a life-saver.',\n",
              " 'I was wondering if anybody else takes this medication for anxiety, and if so, how many mg/daily dosage?',\n",
              " 'I am planning on talking to my doctor soon about eventually getting off of it, as my anxiety levels have come down significantly.',\n",
              " 'Any info would help, thanks!',\n",
              " '!',\n",
              " 'Title',\n",
              " 'Literally idk what this post is it’s 11 at night and I haven’t eaten dinner I finally get myself to make some and I wanted oatmeal but I’m out of clean bowls so I microwaved my leftover pasta only to discover I’m out of clean forks and I have a killer headache because I haven’t eaten but I just keep feeling like a complete failure and I’m letting my mom down',\n",
              " 'i’ve noticed that my anxiety gets about 10x worse at night time.',\n",
              " 'it feels like my body is constantly “buzzing,” feels like i can’t breathe correctly and my chest hurts.',\n",
              " 'i think part of the reason is because i have health anxiety and i always get freaked out that somethings going to happen to me in my sleep.',\n",
              " 'i toss and turn constantly before being able to fall asleep.',\n",
              " 'i also get weird adrenaline rushes in my chest when i start dozing off.',\n",
              " 'does anyone else have this issue?',\n",
              " 'any tips on how to fall asleep quicker or to stop these adrenaline rushes?',\n",
              " 'usually i count backwards from 100 every night when i’m trying to pass out to distract my mind and it works sometimes, but would like some other options',\n",
              " 'Could it be possible that everyone around me actually hates me?',\n",
              " 'Or that they think I’m stupid or worthless??',\n",
              " 'Or is this just my social anxiety, idk what to think 😅',\n",
              " 'This is a big help for me: cold room and good blankets.',\n",
              " 'Something about the warmth and safety of a bed and pile of blankets contrasting the cold air really helps calm me, especially with morning/middle of the night/wake up anxiety.',\n",
              " 'I keep my windows open as often as possible.',\n",
              " 'Would highly recommend.',\n",
              " 'I dont know when it started.',\n",
              " 'Initially, it was a feeling like \"well we haven\\'t talked for a while so I dont know if it\\'s weird or not for me to wish them a happy birthday\".',\n",
              " 'Then it went to messages.',\n",
              " \"I would have friends, where we haven't talked in a month or two, reach out to me.\",\n",
              " 'I would be busy at the time or make up excuses and say \"oh ill reply later.\"',\n",
              " 'So I leave the message there for a bit to reply.',\n",
              " 'Then a day passes by.',\n",
              " 'I get nervous every time I think about the message.',\n",
              " 'So I dont reply.',\n",
              " 'A week passes by and it just gets worse.',\n",
              " 'Then they message again, wondering where I am.',\n",
              " \"I get scared because if I reply to this one, they know I've read the other message and I just haven't replied.\",\n",
              " \"Or im scared they'll be mad at me.\",\n",
              " \"Or I'm just scared to have a conversation with them.\",\n",
              " 'This started with one person but this year, I started doing it to more people.',\n",
              " 'Even at one point, I got too nervous to reply to my landlords or even thank them for being nice after I left.',\n",
              " \"I havent been able to tell anyone because I'm so mad and embarrassed at myself for it.\",\n",
              " \"I have a friend's paintings sitting in my room that I was supposed to return a month ago but I am too scared to message her about it or even think about it.\",\n",
              " 'Recently, my old high-school created a group chat to meet up at our university.',\n",
              " \"I havent looked at the messages because for some reason I'm scared.\",\n",
              " \"I don't want to meet up with them, catch up and have to pretend like I know what I'm doing with myself.\",\n",
              " \"I'm a failure and I don't want to end up feeling exhausted after faking a smile around everyone.\",\n",
              " 'I am in therapy.',\n",
              " \"Haven't mentioned this yet but I will.\",\n",
              " \"I'm just so tired of conversation feeling like it's a giant hurdle every time.\",\n",
              " 'Basically during this past year I’ve been diagnosed with many different things I was diagnosed with Bpd but I also suffer greatly from extreme extreme anxiety and paranoia that’s to the point where I will call my friends and constantly ask them if they think someone is trying to  harm me or if I’m in a certain situation where I feel like I might be in the slightest bit of trouble I will have a massive panic attack till someone talks to me and makes me feel normal again I will lay down in my room sometimes just from waking up in the comfort and safety of it and midway through a show I will think of some thing and send myself into a never ending spiral of fear I have lost trust in people in general and I’ve come to believe that everyone I’m not already friends with eventually will hurt me My anxiety began to spiral further when I got into an argument with two girls I was friends with at one point and one of the girls threatened to harm me it’s some thing that I’m sure it happens to everyone but even to this day I still get very scared that one day they’ll text me again and will start some thing up again or that they’ll one day randomly just want to hurt me even though both of the girls are blocked and Have clearly stated that they are over the situation and want nothing to do with me  my mind will never stop I feel like I never get a moment of rest and sometimes my anxiety causes suicidal thoughts because I feel like I can’t live with this constant fear I just want to feel safe or at least be brave my anxiety has ruined my self image causing me to see myself as well for lack of a word a pussy and it makes me constantly get angry and frustrated with myself because I have no other choice but to sit and wait until I’m able to think myself out of the attack my friends always try to help me and have been the biggest support when I asked them and called them about things they try their best to reassure me but it happens more than they know I just wonder how I can get this under control so I can live normally',\n",
              " 'A few month ago I start a new account at my job.',\n",
              " 'I was told it was going to be a challenge and I was already feeling really bored with the work that I was doing at the time.',\n",
              " 'I did the stupid thing and just said \"yes\" to the new account and didn\\'t even really go in depth with what was gonna happen.',\n",
              " 'At my work there are countless stories of people getting put into new positions they know nothing about and being able to work themselves out of it.',\n",
              " \"My supervisor keeps telling me to ask for help if I need it but if I asked every time I needed help I wouldn't get anything done.\",\n",
              " 'Now I am in such whole and work is super backed up.',\n",
              " 'Now I leave my work with the worst anxiety that I can barely get anything done after work, all I do is just lay in bet and thin about the next day.',\n",
              " 'For about a month now I have just wanted to quite, but I am scared of the social / professional implication of leaving when things are in bad place because of me.',\n",
              " 'There are times that I get light headed and just space out due to the anxiety that I am in.',\n",
              " \"I know that I quite now it wouldn't be that bad, and I could live of saving for 6 months to a year easily.\",\n",
              " 'I spend most of my day cursing to myself and saying \"I can\\'t do this any more\"',\n",
              " 'Hi so I’m just curious how do you place yourself from these certain types of people.',\n",
              " 'Currently I have a huge anxiety disorder and to top it all of I have depression too.',\n",
              " 'The people I always work with are really goal oriented and would always want the best output from each other.',\n",
              " 'In the past I can keep up with their pace but due to how the pandemic has affected us, the rapid decline of my mental health has also affected my work.',\n",
              " 'I’m not saying my outputs are bad but they’re mediocre at best and because of this they tend to ask me to change my output (which in all honesty is fine and the right thing to do) but what I just don’t like about them is how they always call me out when I submit an output and my anxiety, when they call me out, rises making me incapable of communicating properly with them.',\n",
              " 'how can I keep up with these people?',\n",
              " 'I’m also reluctant to tell them of my situation for they might not understand it and I’m really not comfortable in telling anyone about this actually.',\n",
              " 'I originally found this sub because i couldnt sleep cause i was manually breathing.',\n",
              " 'Now i think that I may have untreated ocd and/or anxiety for the past 2-3 years.',\n",
              " 'Where would I go tor treatment.',\n",
              " 'Should I go to my school counsellor?',\n",
              " 'Why the fuck do I have to feel like this',\n",
              " 'Have medicine exams in few hours, and just now my brother found out my relationship with blades.',\n",
              " 'Great!',\n",
              " 'I have a friend who’s definitely interested in therapy, but the only thing that’s been stopping her for the past 2 years is sending the first few emails.',\n",
              " 'No matter how much encouragement I gave her, and even when I would help draft it with her, due to her really bad social anxiety, she could never send it.',\n",
              " 'Now again, she says she wants to see a therapist really badly, but the email is the only thing getting in the way.',\n",
              " 'Can I send the initial email on her behalf, and then direct the therapist to contact my friend afterwards for a follow up?',\n",
              " 'How would I explain that in the email?',\n",
              " 'What would I write in the email if I’m doing it on my friend’s behalf?',\n",
              " 'Any advice is appreciated.',\n",
              " '27/F.',\n",
              " 'I’m anticipating another bad panic attack because I had one last night.',\n",
              " 'I know it’s irrational.',\n",
              " 'It’s a vicious cycle.',\n",
              " 'I’m trying to remain calm but it feels like I have absolutely no control over my mind or body.',\n",
              " 'Absolutely none.',\n",
              " 'I had a severe panic attack last night, seemingly randomly, like they always are.',\n",
              " 'Most of the time I feel like nothing triggers them.',\n",
              " 'I was fine and then all of a sudden couldn’t breathe.',\n",
              " 'Felt like my breathing suddenly got too slow and too shallow.',\n",
              " 'Felt like I was just gonna stop breathing at any moment.',\n",
              " 'And then came the racing heart.',\n",
              " 'My heart rate was crazy high.',\n",
              " 'For some reason my first instinct is to jump up and run out of my house.',\n",
              " 'I always think cold, fresh air will help but it rarely does.',\n",
              " 'And then I drank a liter of water.',\n",
              " 'Don’t know why I think that’ll help.',\n",
              " 'I felt so sedated and like I was gonna lose consciousness at any minute and fought my body from going to sleep because I was scared i’d never wake up.',\n",
              " 'My heartbeat felt too weak at one point.',\n",
              " 'I ended up falling asleep against my will 5 hours later but I was in hell for those 5 hours.',\n",
              " 'Most of the time I would end up driving myself to the ER in case this is the one time my life is genuinely in danger but I forced myself to not do that.',\n",
              " 'At the ER they’d give me something like Ativan and i’d immediately calm down and be okay.',\n",
              " 'But I can’t keep doing this.',\n",
              " 'And I don’t have any benzos at home.',\n",
              " 'I just need help.',\n",
              " 'What can I do to stop lingering anxiety?',\n",
              " 'To stop a panic attack from progressing?',\n",
              " 'Anything I can take that’s easily accessible without a prescription?',\n",
              " 'Any new remedies/substances that anyone’s had success with?',\n",
              " 'I will literally try anything.',\n",
              " 'Breathing exercises and meditation do not help at all.',\n",
              " 'In fact, focusing on my breathing causes me to panic even worse.',\n",
              " 'I’m miserable and so damn tired of living in fear that I might have another random episode.',\n",
              " 'I just wish there was a way I could prevent it from happening in the first place.',\n",
              " 'I can’t call off work again.',\n",
              " 'Help :(',\n",
              " 'When I was 6 I first went to the dermatologist, when I was 7 I started getting bullied, and by 8 I was on acne medication.',\n",
              " 'All I knew is it wasn’t normal to be so young taking medication (and getting acne before puberty) and since that core memory I have always struggled with the relationship between me and medication.',\n",
              " 'It has always been something negative.',\n",
              " 'I’ve since grown and have recently started taking SSRIs to combat my anxiety.',\n",
              " 'My boyfriend and I agree there has been much improvement but as he lists all the things different about me, I can’t help but feel the me before medication, the authentic me, was not good enough.',\n",
              " 'I did not realize how much of an effect my anxiety had on others.',\n",
              " 'And while I know my medication is a good thing, it makes me feel like I need this pill to be normal, and without it I am not normal.',\n",
              " 'It makes me feel ashamed and the person I was before was tolerated.',\n",
              " 'Everyone is celebrating this “new” better me and while I admit I like this new me, it makes me feel like the person I was before was not good enough.',\n",
              " 'And I must rely on this pill or else I will become the person that isn’t celebrated and is not good enough and simply tolerated.',\n",
              " 'It makes me really sad and it’s something I think of when I take my medication every day.',\n",
              " 'I don’t know how to change the relationship I have with me and my medication.',\n",
              " 'I have to present in front of my class tomorrow, and then I have two presentations next week as well.',\n",
              " 'I only have to speak for around 5 minutes per project, but even that is way too long for my anxious brain.',\n",
              " 'Even though I know the material, and I present great in front of my friends, I forget everything and look like a stupid stuttering idiot tripping over my words and forgetting my train of thought when I’m actually up in front of people.',\n",
              " 'Can’t wait to spend the rest of the class period after I present crying in the bathroom.',\n",
              " 'I’m so fucking nervous, and next week is gonna be even worse.',\n",
              " 'Hey all.',\n",
              " 'I’ve been dealing with unexplained dizziness for the past three (3) years now and it’s been bothering my health anxious mind.',\n",
              " 'I’ve gotten countless tests done, ruling out vertigo and neurological problems .',\n",
              " 'I’ve gotten heart and blood tests done and everything has come back normal.',\n",
              " 'It’s gotten to the point where my dizziness goes on pretty much all day with only maybe an hour or two of relief.',\n",
              " 'It comes on randomly and suddenly so I’ve always had a hard time correlating it to just being anxiety but could my unexplained dizziness daily just be anxiety?',\n",
              " 'I don’t necessarily feel anxious before having these episodes but when they do come on, it does trigger my anxiety response.',\n",
              " 'It also happens when I sit in certain positions.',\n",
              " 'Getting a second opinion from a neurologist in November but wanted to ask if anyone on here has experienced this kind of dizziness daily (feeling like you’re off balance and walking on a cloud or feeling like certain parts of your body are moving when they aren’t) due to anxiety?',\n",
              " 'Do meds help?',\n",
              " 'Any advice?',\n",
              " 'I do in fact feel like I’m going a little crazy here with how much I’ve done to try and figure out what this is and not getting anywhere really.',\n",
              " 'I’m the type of person(due to my ADHD) where if an unwanted noise, even the buzzing of a light that no one else could hear WILL nearly put me into panic mode.',\n",
              " 'I’ve been this way since a kid, and it honestly sucks.',\n",
              " 'My mind can’t think of anything else but the damn noise.',\n",
              " 'My upstairs neighbor can’t walk quietly for shit and there’s always some random bangs at nearly 1-3AM.',\n",
              " 'It gives me so much anxiety, I’m losing my mind.',\n",
              " 'Edit: I never had this problem with my old neighbors and I’ve lived here for almost 3 years now.',\n",
              " '[deleted]',\n",
              " 'Currently having an intense anxiety attack.',\n",
              " 'I just feel so scared.',\n",
              " 'Probably the scariest I’ve ever felt.',\n",
              " 'It’s embarassing because I only have to speak for 1-2 minutes but honestly it’s going to feel like hours the moment I step in front of the classroom.',\n",
              " 'I’m so scared.',\n",
              " 'I want to say “I can do it” but I’m so scared I’m shaking right now and I don’t have to even present until tomorrow afternoon.',\n",
              " 'It’s not fair that I have to be so scared of something that’s not even a threat .',\n",
              " 'I realize that my classmates are probably anxious too, and just want to get it over with.',\n",
              " 'But me, I am probably overthinking this but I’m still scared.',\n",
              " 'I have been dreading this day since Monday started and now it’s here.',\n",
              " 'And I can’t take the fear.',\n",
              " 'I feel like I could faint right now writing this just thinking about this.',\n",
              " 'This is all I wanted to say I should probably get through this anxiety attack first',\n",
              " 'I’m not in too bad shape right now, but this has been a trend for a long time for me, so I was wondering if other people felt this way.',\n",
              " 'I still get like this every now and then, so I just figured I’d ask what’s up with it',\n",
              " 'i have both physical and mental illness but loneliness is the real killer.',\n",
              " \"holiday season is coming up and i don't wanna be in isolation feeling depressed.\",\n",
              " \"Halloween, thanksgiving, Christmas, and it's already cold, dark, rainy in PNW.\"]"
            ]
          },
          "metadata": {},
          "execution_count": 117
        }
      ]
    },
    {
      "cell_type": "code",
      "metadata": {
        "id": "_Q3JVPIqeDk-"
      },
      "source": [
        "sen=sentences\n",
        "sentences=list()\n",
        "for l in sen:\n",
        "  sentences.append(l)\n"
      ],
      "execution_count": 118,
      "outputs": []
    },
    {
      "cell_type": "code",
      "metadata": {
        "colab": {
          "base_uri": "https://localhost:8080/"
        },
        "id": "ZxtKJDAIeZkr",
        "outputId": "c27b7d95-b1cc-4496-91c6-5f44415420a4"
      },
      "source": [
        "len(sentences)\n"
      ],
      "execution_count": 120,
      "outputs": [
        {
          "output_type": "execute_result",
          "data": {
            "text/plain": [
              "500"
            ]
          },
          "metadata": {},
          "execution_count": 120
        }
      ]
    },
    {
      "cell_type": "code",
      "metadata": {
        "id": "Ea0oSX3LfhfR"
      },
      "source": [
        "sen1=list()\n",
        "for s in sentences:\n",
        "  sen1.append([s])"
      ],
      "execution_count": 122,
      "outputs": []
    },
    {
      "cell_type": "code",
      "metadata": {
        "colab": {
          "base_uri": "https://localhost:8080/"
        },
        "id": "1piPXtbo3WdV",
        "outputId": "7437db01-4c7d-4cea-aff1-8f55f2e49bc7"
      },
      "source": [
        "print(sen1)"
      ],
      "execution_count": 123,
      "outputs": [
        {
          "output_type": "stream",
          "name": "stdout",
          "text": [
            "[['This physical pain.'], [\"It's like there's a boulder on my chest.\"], ['There is a knot in my stomach.'], [\"I don't know how to make it go away, I'm so exhausted.\"], [\"I can't cry.\"], ['I have forgotten how to breathe properly.'], [\"I can't, I just can't anymore.\"], ['Do anyone else feel like there is an \"air bubble\" in your throat?'], ['And when you swallow saliva, it feels like it is going up then down.'], ['Is this anxiety related?'], ['Hyperacidity and acid reflux runs down in my family both sides and I have it too.'], ['I also suffer from anxiety and panic attacks.'], ['Can this be caused by anxiety or acid reflux?'], ['I also had been in an anxious situation a while ago.'], ['Any tips or techniques to get rid of this sensation?'], ['Title.'], ['And guess what?'], ['Went to the ER everything checked out.'], ['I am actually a little bit thankful that I did have these two attacks in a row because it really tells me that after all these physical symptoms and me thinking it’s a heart attack that it is quite literally me just getting myself worked up.'], ['Onwards and upwards!'], [\"I'm about to go out and I don't know how to deal with it, i already have stomachache i dont know what to do\"], ['Hey everybody!'], ['I went to my doctor on Monday and he gave me some etifoxine (stresam) to take in the morning and the evening to help with my anxiety and help me sleep.'], [\"Once I got home I started researching this on the internet and I've read a lot about how it doesn't do much and gave people very bad (and quite dangerous) side effects.\"], [\"Now I'm scared to try it in case it makes me sick.\"], ['What should I do?'], [\"That's all.\"], ['I’m 18 years old.'], ['For the last 9 months I’ve woken up in a shear panic attack that would last for a few hours if I was lucky.'], ['Within the time I wake up to when it’s over, I sit on the bathroom floor and violently throw up.'], ['I’m balling my eyes out, not wanting to be here, not wanting to continue on with it.'], ['I can’t breathe or talk, and I’ve been getting help.'], ['I was put through c-pep a month ago and shit just doesn’t get better.'], ['I’m finally trying to open up again, meet someone new.'], ['And I have, in fact I’m supposed to be seeing her tmr and stay the night.'], ['But all I fucking do when I think about it is throw up.'], ['Which makes no sense considering I want this more than anything.'], ['It’s completely ruining my life and I just need someone else, who also vomits from too much of one feeling to just help me out.'], ['Please tell me something I don’t know.'], ['I’m just exhausted..'], [\"I don't know if anyone else suffers from this.\"], [\"But I will look in the mirror on some days and think 'geez you look like your dying' I've lost weight these last few months (not underweight) and I think I look paler....\\n\\nMy weight just shocks me cause I haven't been this weight in almost 4 years!\"], [\"And I'm already super pale to begin with, and I haven't been going outside ever...\"], [\"BUT my anxiety is a bitch and when I'm looking at myself, it repeatedly tells me 'your dying.\"], [\"Google it I bet it will tell you the same thing'\\n\\nAnd it makes me even more anxious when my family randomly shows up at my house and all I can worry about is 'oh god they are going to think something serious is wrong with me' (which they never do.\"], ['They always tell me I look the same lol) \\n\\nI just wish for a break.'], ['A normal day would be wonderful.'], ['Does anyone else get dizzy?'], ['And does it come on before anxiety??'], ['Or during?'], ['?'], ['My anxiety started in in August and has progressively gotten worse.'], ['I always feel a rush of adrenaline in my chest when lying down.'], [\"Now, I've been told I suffer from depression as well.\"], ['My sleep disturbances started late August waking up a few times but able to go back to sleep.'], ['a couple of weeks ago I having trouble falling asleep.'], ['When I start to doze off my body would experience hypnic jerks and I would jolt awake.'], ['I would end up staying awake the whole night.'], ['I am unable to nap.'], ['I use a sleep aid so I can sleep and function during the day.'], ['I meditate daily, practice living in the present, exercise.'], ['Nothing seems to help.'], ['My doctor prescribed Lexapro to treat my anxiety and depression.'], ['Would the insomnia subside if I can get my anxiety ad depression under control?'], ['Or do I need to see a sleep specialist?'], ['Literally 3 minutes ago I was about to sleep then all the sudden my legs randomly started to feel weird.'], ['Like electricity was running through them.'], ['And I feel a weird needle like pain on my feet.'], ['That sensation lasted for about 10 seconds.'], ['The needle pain happened twice.'], ['It’s scary to me.'], ['Yesterday I had an okay day so now after this happened I’m feeling like I’ll just be anxious for the next couple days.'], ['It’s 5:42am for me now.'], ['I have health anxiety so anything weird happening in my body I automatically think I have something wrong with me.'], ['I’m very scared it’s something bad.'], ['I also am scared of doctors.'], ['I’m just scared 🥺🥺🥺 why are my legs feeling weird.'], ['Imma cry'], ['My anxiety has been so horrible this week.'], ['I had to quit therapy b/c I found out my Medicare type doesn’t cover it.'], ['I thought it would be a smooth transition but I’ve never felt so much horrible anxiety.'], ['That and other factors of life are making me so anxious to the point where I can’t leave my house.'], ['I can’t go to school because the thought of being anywhere that isn’t my house sets me off.'], ['This morning I was crying and hyperventilating because I was about to leave the house and walk to the bus stop but I felt paralyzed.'], ['Like even the thought of touching the door handle scared me.'], ['I know it’s my brain making the world seem scarier than it is and I know it’s irrational but I can’t.'], ['I can’t explain it well.'], ['I can’t imagine existing outside the world I’ve already made for myself inside home.'], ['My dad asked what I was wrong he was practically begging me to tell him what was wrong but I couldn’t tell him.'], ['I, myself, can’t even pinpoint it.'], ['I’ve missed school yesterday and im missing today as well .'], ['I feel pathetic.'], ['I feel burnt out to where I don’t even want to speak.'], ['I feel horrible.'], ['[deleted]'], ['I was told beforehand that they are likely to make things worse before they make them better, so this isn’t a surprise.'], ['But I’m now on my third consecutive sick day from work staying underneath my covers because I can’t handle thinking about anything else.'], ['I’m freaking out and I hate it.'], [\"I'd like to say that most days my anxiety is under control, or low.\"], ['But then there are those days where EVERYTHING makes me a worried wreck.'], [\"Right now I'm stressing myself out over a Dj-gig I have together with a friend in three weeks.\"], ['Yesterday my brain also decided to remember a few stupid things the bf told me years back, which makes me feel insecure today for some reason.'], ['Never mind why, right?'], [\"It doesn't really matter what it is, the anxiety pops up regardless how small or insignificant.\"], [\"I'm just not quite sure what to do with it.\"], ['What do you guys do?'], ['Do you shut yourself off from the world for the evening and just try to stabilize?'], ['I tried to meditate, but yeah, still sitting here with anxiety.'], ['\"This too shall pass\", I just get so angry at my brain when it does this.'], ['What could possibly be the purpose of grabbing onto one of the few mean things the bf has told me during our 8 years and obsess about it?'], [\"(I'm sure he didn't mean for it to be mean, hes a good guy.\"], ['Its just another example of a mind obsessing about some random thing in the past really.)'], ['And I KNOW the gig will be fun, just got to suffer through the three weeks of agony beforehand?'], ['Fucking sucks.'], [\"I'm suffering anxiety and my SSRIs finally started working, I feel normal again and able to keep up with my daily tasks.\"], ['Except one thing, I really cannot push myself into stuff I love doing.'], [\"I draw, and I'm also pursuing masters degree at Academy of Fine arts.\"], ['Drawing is a must for me and also my biggest passion.'], [\"But ever since my panic disorder and anxiety kicked in, I've been avoiding it to the point I cannot even be in the same room as my working tech (I'm a digital artist).\"], [\"I push myself everyday, but only after couple of minutes drawing something I'd otherwise enjoy, I start getting nauseous and my heart is going crazy.\"], [\"At this point I'm literally doing everything else beside that, I read, clean, and interact with friends and my partner, but cannot get myself to engage with my real passion.\"], ['Does anyone has thoughs on that?'], [':)'], ['[deleted]'], ['I took my first sertraline pill last night at 7pm.'], ['50mg.'], ['This morning I randomly woke up around 2am to the most intense panic attack of my life.'], ['I was so stressed and anxious she heard me say \"I want to die\" loudly as a way to expell what I was feeling from me.'], [\"I've spent the morning hyper ventilating, legs weak with a migraine and an intense weight in my chest.\"], ['I called the doctor who said this should go away after a few days, but my family is concerned for me.'], [\"Here's the thing, I don't have anxiety all the time, I only get it in certain situations where my life isn't going well, yesterday I was feeling great, and this morning I feel worse than I've ever felt in a long time.\"], [\"My family said I shouldn't take any more medication,  I'm inclined to agree, I have studies to complete and this is getting in the way.\"], [\"Right now I'm laying in bed trying to insulate myself from how cold I feel, I'm thinking all the worst thoughts about myself whereas yesterday I was fine.\"], ['What should I do?'], ['This is much more intense than I was expecting'], ['[removed]'], ['Yeah, so.'], ['Imma tell you.'], ['I have this nice combination of anxiety and add and all my life, my parents and teachers got/get super mad at me, because I forgot to do something they told me 5 minutes, or even 30 seconds ago and I get super anxious about it and in the end of the day I feel like I\\'m gonna colapse xddd \\nBut most of the time Its just this funny \"I...wanted to say something...I forgot what it was...oh my god...wtf did I want to...Aaaaaaaaa....AAAAAAA\" and it actually makes some people laugh, so I don\\'t mind it that much xddd But yeah, it\\'s a fun combination that I wasn\\'t aware of until recently, when my friend pointed out that I show all the symptoms of ADD and she was right it seems xddd\\n\\nSo yeah, just wanted to tell this to y\\'all, hope you have a nice day and remember, that I love you all!'], ['I can’t focus on anything, eat, drink, sleep.'], ['I try to read something and this horrible feeling comes over me of complete sadness and like something bad is going to happen.'], ['I am so desperate for someone to talk to I don’t even understand it 🥺'], [\"I didn't really experience real anxiety or stress until I was like 19.\"], ['I had a good upbringing with no traumatic incidents and had parents who were very lax, so I feel like there was literally nothing for me to care about.'], ['I had no concept of the future or responsibility.'], ['I remember my best friend had anxiety and I couldn\\'t even comprehend what that meant and when my friends would talk about how stressed they were I\\'d be like \"why?'], ['just stop caring?\".'], ['Then when I was 19 I moved to a city and started living alone and had to get a job of course.'], [\"I feel like the reality of life hit me all at once and since then (I'm 23 now) it's never been the same.\"], [\"It's been particularly bad the past couple years.\"], [\"I can't smoke weed anymore cause I have panic attacks every time.\"], [\"I've not been drinking very much for months cause it sends me into an unbearable depression &amp; gives me anxiety.\"], ['I just miss how stress free my life used to.'], ['Sometimes I think back to how my brain used to think about things and process stuff and I wish I could go back to bring able to think the same way and not worry so much about everything.'], ['Bums me out sometimes.'], [\"Feels like this is just life now and I'm gonna have to live with this forever and I won't ever get back to the way it used to be.\"], [\"In a way I'm grateful that I at least got to experience those 19 anxiety free years, but I just want it back so bad.\"], [\"Hi all,\\n\\nSo I've experienced brain zaps before, when I've been coming off of antidepressants or missed doses but I'm currently on antidepressants and I haven't missed any doses.\"], [\"Yesterday when I returned home, I noticed that the back garden gate was open which isn't possible because its bolt locked.\"], ['When I saw this, my body instantly starting having zaps up and down my body.'], ['I know that I had a rush of adrenaline, but when I turned my head or heard a noise or was coming around a corner, my whole body shocked from my brain to my feet.'], ['It was absolutely awful.'], [\"It didn't feel like a normal fear response, like I said there was zaps up and down my body, it felt like the jerks you get when you're falling asleep and your body jolts.\"], [\"Does this happen to anyone else when they're faced with a scary situation or threat?\"], [\"I've been feeling really depressed and anxious for the past week or so.\"], ['I truly feel awful and i am always on the verge f crying because i have that much stress.'], ['I always feel like this when a minor inconvenience  happens in my life and it throws me right into a worrying-overthinking-spiral that i cannot escape.'], [\"Especially if i don't have the any control over these situations.\"], [\"For example, my bf's wisdom teeth need to be removed in 2 weeks and for some reason i have been a total mess since i knew.\"], [\"I really don't know why but i just can't stop worrying about things that could go wrong and i don't want to see him in pain.\"], ['I know it sounds ridiculous but my anxious brain is making such a big thing out of it.'], [\"I've had 3 panic attacks in the last few days just because i cannot get it out of my head.\"], [\"It makes me feel weak and ashamed tbh 😅\\nIt's not that big of a deal and what about people who actually are dealing with much greater issues and worries?\"], [\"What must they think of me...\\nAnd If i can't handle this then what if something really major happens in the future?\"], ['It makes me even more afraid, like if my bf ever got in a serious accident i would just die i guess.'], ['Is this even normal?'], ['Am i the only one?'], ['And how do i deal with these feelings?'], ['I know my thoughts are irrational but my feelings are still real.'], [\"His surgery isn't for two more weeks but i don't want to feel like this for two more weeks.\"], [\"I also don't think that is the only reason why i am feeling so shitty but that was the triggering event i guess.\"], ['Anyway, words of advice are highly appreciated <3'], ['Hello.'], [\"It's quite common for me to feel uncomfortable about being physically close to someone, but i never really noticed it as a repeating problem, my instincts just solved it.\"], ['By that I mean I would just leave the room when i feel a bit uncomfy.'], ['But on Monday I felt really uncomfortable while in class, i Just wanted to be alone, i hugged myself, went into the fetus position, and was just constantly moving away when someone walked near me.'], ['I really feared getting touched and really wanted distance.'], ['It was the first time this happened and i ended up just crying and shaking until it passed.'], [\"Right now I'm experiencing the same, i really don't want anyone around me, but my friends are aware of this now and I'm more prepared so I don't expect it to get as bad as it did on Monday.\"], [\"I just flinched because my class mate moved their arm and they're within reach of me.\"], ['I really do not want to be touched and I fear it a  lot at the moment.'], [\"I wouldn't say I have social anxiety as I feel quite comfy with new people but atm I really just want to get away from everyone.\"], ['[deleted]'], ['I am a girl (18f) and really not sure that I love a boy or not.'], ['But I have just wanted to Time pass with him and really did it.'], ['But recently I heard that he is going to be married.'], [\"Now I am become crazy by thinking that I can't time pass with him anymore.\"], ['And he will not pay attention to me anymore.'], ['And I want to back his attention to me.'], [\"I didn't say about my love to him and he has not done it also.\"], ['[removed]'], ['Like many anxiety has stole time away from my life.'], [\"Months in fact, and I think I've seen it at it's very worst and I don't want that to happen ever again.\"], [\"A change I will make is to make time to do things which help my anxiety every day, ESPECIALLY on the days where I'm NOT feeling anxious.\"], [\"This is something I've neglected to do.\"], [\"When things are going my way I'll ride the wave rather than take stock of the situation and not get carried away.\"], ['So daily I want to take things easy, practise yoga, do breathing exercises, take more baths and walks (alone time!'], ['), eat less crap.'], [\"Hopefully that way I'm best equipped to deal with anxiety when it rears its ugly head next!\"], ['Hey guys, I am having a really tough time with my anxiety now.'], ['Always gets worse for me at the end of the year I’m not sure why.'], ['I am deathly afraid of any confrontation, so I let so much of shit slide.'], ['Basically I just ignore or act like something doesn’t affect me when it doesn’t.'], ['I remember last year I was sitting in my car, turned off and the guy next to me slammed his door against my car.'], ['I was so pissed and angry but I was too scared to confront him or say anything.'], ['After the “altercation” with me not doing anything, this anger brews in myself that I can’t even defend myself or my loved ones in the future if I am always like this, and that anger makes me so angry at the small stuff too.'], ['I tend to get very angry and worked up nowadays if I sense even the slightest sarcasm or attitude or anything besides 100% sweet and kind interactions which I expect for some reason.'], ['I can’t take any rude behaviour or any interaction that seems half arsed.'], ['I get so damn angry and depressed over the way I am being treated, and then I get depressed and angry over the fact that I am too scared to do or say anything about it, and the voice at the back of my mind says I’m not a man or I’m not normal.'], ['Has anyone else experienced this kind of mental torture?'], ['I am unable to do normal stuff people my age do because I fear these intersections and the subsequent internalised reaction my brain goes though.'], ['I need to apply for a job now as I’ve just graduated but I can’t seem to apply as I’m too afraid to get rejected for the job and destroy my already absent self esteem in addition to being afraid of the interactions that I would have to go though from the interview and during my job too\\n\\nI am just a shell of a person now \\n\\nAnd I hope this issue is not forever.'], ['I have tried therapy but I couldn’t even do the tasks I was given because it was too hard for me to do, and that was just to call and talk to my friends over the phone, which I don’t do too'], ['I decided to join this subreddit because although I don’t suffer from particular diseases I am a person who likes to see things in their place and that in difficult situations can panic, for example if I am alone in facing a problem.'], ['So I’d like to tell you when something comes to mind and especially help those in need.'], ['Thanks again for the welcome, a hug.'], ['This is the first time I’m experiencing this and I don’t know if I’m really having an episode or it’s just panic and all in my head.'], ['What happened before was I got lost in my own thought because of some triggers that makes worried sick, then I can feel my heartbeat and my hands shake terribly and my vision narrowed.'], ['This happened a few weeks ago but now I just keep asking myself did it really happen or I’m just overreacting?'], ['Or worse, maybe I want it to happen?'], ['I just feel like I can’t trust my own judgement.'], ['My doctor said i can take Celexa in the morning and then amitriptyline at night to help with sleep and tension headaches.'], ['I thought your not meant to take 2 antidepressants.'], ['This might seem pretty small but this last year has been really bad for me.'], ['Im on sick leave for at least the rest of the year and even then I dont have a job to go back to from what it looks like now.'], ['Basically feeling pretty useless.'], ['All i do is sit at home and go to treatments.'], ['But today my little brother asked me for help on his homework in sociology!'], ['I have a university degree in science of social work so this is right up my alley.'], ['It just made me so, so happy.'], ['Its the small things I guess.'], ['[deleted]'], ['When you go to school/work or even wondering in home, do you guys have need to have/make friends?'], [\"I might be asking myself, buuut- I said to myself that I don't need them, and then I question myself about it and IT always ends up that I need them.\"], [\"It's just sad because of my shyness or lack of confidence I can't get up to making new friends at all..\"], ['For the past two years on and off I’ve had 3 periods of some really debilitating health anxiety.'], ['It started off after I got a septoplasty, which is where they fix your deviated septum.'], ['Before the surgery I read up online about a disease called empty nose syndrome.'], ['It was a real scary disease that a lot of people end up committing suicide from because of the symptoms it leaves u with.'], ['The disease is rare but looking it up it said it’s possible to get it a few years later, which is even more rare in its own.'], ['Most people that get it later will get it a year later or so but they’ll have weird symptoms right after surgery.'], ['I Talked to the doctor because I was so scared of that disease and he told me that he’s going to make sure I don’t get it which made me feel good at the time.'], ['To make this story shorter basically I just did a bunch of research and looked at the people who talked about the disease and they’re experiences etc.'], ['After this happened I had some anxiety but not much.'], ['Well since then Anytime I have a traumatic event or feeling this health anxiety comes back.'], ['The most recent being the breakup of me and my girlfriend.'], ['She was so so so important to me and we dated for quite a long time.'], ['I remember after doing it I had just a giant fucking panic attack, one of my worst if not the worst.'], ['Since then my Breathing has felt weird.'], ['Feels like I can’t breathe correctly through my nose and i end up breathing through my mouth and my chest is all tight and it just gets worse.'], ['It’s like my body becomes hyper focused on my nose and feels every sensation etc.'], ['Now i’ve dealt with this two other times yet I still am able to feel convinced i’m getting it.'], ['I know the disease is rare and i know  it’s even more rare to get the disease unannounced years later but I still can’t shake the thought it’s awful.'], ['Just typing this out so feel like I can’t breathe and my throat feels tight and etc.'], ['It’s just awful because one of the symptoms of that ENS is feeling like u cant breathe but the reason for that is because the air in their nose feels to open with no resistance or it hurts to breathe or they can’t feel the air at all like they’re drowning in some way etc.'], ['I cant have this happen a third time it’s so damn awful.'], ['Gotta keep pushing through more matter how shot weird muddled or whatever gotta keep going!'], ['!'], ['I did take a new drug, it’s def enhancing how I feel but this happens regardless.'], ['Do you think these are signs of mania??'], ['I talk alottt more than I would like to, I am indecisive and contradicting, I am very clingy and feel extra lonely, attempted suicide yesterday, my sex drive is destroyed because I don’t believe anyone can love me forreal.'], ['I can’t stress enough about the constant chatter in my head (negative and positive battling it out) insomnia and this horrible feeling like something bad is going to happen and I’m just waiting.'], ['Does anyone have anxiety or manic symptoms they can recognize?'], ['Yesterday has had to be one of the worst days of my life so far.'], ['On Saturday I moved out of my parents house to live at university halls, which I have being planning to start for a year now.'], ['The first day there I though I was doing okay and was trying to stay positive to try and enjoy it.'], ['The day after I woke up with butterflies in my stomach that lasted for about an hour until I calmed down, but later on during the day I was overwhelmed with thoughts and began having a panic attack.'], [\"The Tuesday followed a similar pattern as I had my first lecture which I found difficult as I couldn't understand the task at hand and another student called me stupid.\"], [\"Then Yesterday was supposed to be a day for me to try and chillout and focus on my mental health, but something inside of me changed and just couldn't stop crying.\"], ['Yesterday was the first day I believed that I would be better off dead then face these difficult challenges as I panicked and tried to ask for help where many were turning me away.'], [\"I'm now back at home with my parents and am thinking about quitting the university I'm going to do open university where I can study at home as I don't like working with other people and my parents can keep an eye on me.\"], ['I feel like an utter failure because I let things get on top of me and have decided to quit.'], [\"To be honest I'm scared everyday and worry about my future as I can't go to new places without my parents and my anxiety and depression is out of control.\"], ['I need some serious help, I just want to be happy.'], ['I am preparing for job interviews and got quite some rejection in the interview, i thought it all went good by still i failed and since then i am not able to focus at all.'], ['[deleted]'], ['I just got my first apartment, job and a girlfriend in like three months and I know that I should feel really Happy and lucky that I have ended up in this situation.'], ['But I am so afraid of feeling Happy because if something bad happens, it wont feel as bad if I have been expecting it already.'], ['If I let myself feel Happy and something bad happens it will feel even worse.'], ['And I feel like something bad will be happening because so much good has happened in the past months.'], ['I have GAD diagnosed.'], [\"I really want to make music, videos and stream and a lot other stuff that I think would be fun however I have a fear that is stopping me from doing any of that and it's the fear someone I know will recognize me.\"], ['The reason why I have this fear is because I think that if people that I know like ex girlfriends, old friends, family who I haven\\'t seen or spoken to in years will try to exploit me or try to damage me for example I wouldn\\'t put it past any of them to make something up and use facebook messages out of context to prove their point but I no longer have a facebook account since 2017-2018 so if I wanted to defend myself it would just be my word vs their \"evidence\" and I know everyone would believe the out of context messages because even through it\\'s out of context they would at least have something to prove their point other than just their word.'], [\"I know it's a stupid thing to worry but whenever I want to make music or a video this fear just hits me like a brick wall prevents me from doing what I want to do and I don't know what to do to combat the fear to get over it.\"], ['Due to overwhelming wake-up anxiety.'], ['Has always been an issue for me but has never been *this* bad.'], ['I also can barely eat.'], ['This can’t be good for my physical health.'], ['Is this common?'], ['I’m so exhausted.'], ['I have a fear of going crazy and the last few days I’ve felt really not with it, I also have the same 5 seconds of different songs going round in my head which I cannot stop.'], ['Help :('], ['I 22(F) have my very first job interview today.'], ['After a call with the CEO of the company, he called me again and set a time and date to have a personal interview today.'], ['Six years ago, I would have never believed I would be able to do this.'], [\"It's been a long road and I'm starting to see the way out, today is a good day.\"], [\"We need to have hope, I'm sure better days are ahead of us all.\"], ['Keep trying!'], ['I just don’t even know what I’m feeling right now, social anxiety?'], ['Anxiety?'], ['Depression?'], ['It’s just like I have no motivation to go with my friends anymore, and when I’m with them I’m acting so much different right now.'], ['I can’t feel normal in the conversation, I can’t be relaxed while talking to someone and I can’t just actually laugh at what people are saying.'], ['Idk why but it feels like I never even know what to say in the conversation.'], ['Over the past month I finally got happy, I would do random little stuff and talk to myself and hum and dance.'], ['Now I don’t do any of that, it’s just try to act normal around friends, stress, try to do school.'], ['I don’t even know what my problem is.'], ['I just started college, this is supposed to be the best time of my life and only specifically right now, this is the worst I have felt in so long.'], ['My anxiety used to always just be me being insecure about the way I look, that’s it.'], ['Now it feels like it switches everyday, worrying about how I look some days, but others I’m just super on edge all day, maybe from school.'], ['Then some days like today I feel like it’s either social anxiety or depression where for some reason I just can’t be or feel normal whatever I do\\n\\nThere’s like a pit in my stomach that won’t go away, it feels like it holds me back from being happy and relaxed \\n\\nI actually don’t know what to do anymore'], ['the reason why i hate myself is because i feel like i’m not good at doing things properly, perfectionism i literally base my worth depending on how good i am with things.'], ['like i expect myself to be perfect at almost everything, every hobby, every sport anything u could thing of.'], ['how can i just accept myself for not being a perfect human being because it’s really hard.'], ['I also hate myself because i’m very socially anxious and i never really defend myself so i just see my self as a loser because i can’t stand up for myself or say things i really wanna say to someone, i think also because i assume people think i’m a loser for being so shy and not talking??'], ['I’m bad at explaining things sorry but my low confidence has ruined my life and nothing seems to help, affirmations just make me cringe 10x more.'], ['it’s staring to get to the point where literally just walking to my car makes me want to have a cringe attack.'], ['my whole existence is cringe.'], ['Idk who i even am anymore'], ['I have been taking 20mg of Propranolol daily for the past three months to help with the alleviation of the physical symptoms I deal with from anxiety.'], ['It has truly been a life-saver.'], ['I was wondering if anybody else takes this medication for anxiety, and if so, how many mg/daily dosage?'], ['I am planning on talking to my doctor soon about eventually getting off of it, as my anxiety levels have come down significantly.'], ['Any info would help, thanks!'], ['!'], ['Title'], ['Literally idk what this post is it’s 11 at night and I haven’t eaten dinner I finally get myself to make some and I wanted oatmeal but I’m out of clean bowls so I microwaved my leftover pasta only to discover I’m out of clean forks and I have a killer headache because I haven’t eaten but I just keep feeling like a complete failure and I’m letting my mom down'], ['i’ve noticed that my anxiety gets about 10x worse at night time.'], ['it feels like my body is constantly “buzzing,” feels like i can’t breathe correctly and my chest hurts.'], ['i think part of the reason is because i have health anxiety and i always get freaked out that somethings going to happen to me in my sleep.'], ['i toss and turn constantly before being able to fall asleep.'], ['i also get weird adrenaline rushes in my chest when i start dozing off.'], ['does anyone else have this issue?'], ['any tips on how to fall asleep quicker or to stop these adrenaline rushes?'], ['usually i count backwards from 100 every night when i’m trying to pass out to distract my mind and it works sometimes, but would like some other options'], ['Could it be possible that everyone around me actually hates me?'], ['Or that they think I’m stupid or worthless??'], ['Or is this just my social anxiety, idk what to think 😅'], ['This is a big help for me: cold room and good blankets.'], ['Something about the warmth and safety of a bed and pile of blankets contrasting the cold air really helps calm me, especially with morning/middle of the night/wake up anxiety.'], ['I keep my windows open as often as possible.'], ['Would highly recommend.'], ['I dont know when it started.'], ['Initially, it was a feeling like \"well we haven\\'t talked for a while so I dont know if it\\'s weird or not for me to wish them a happy birthday\".'], ['Then it went to messages.'], [\"I would have friends, where we haven't talked in a month or two, reach out to me.\"], ['I would be busy at the time or make up excuses and say \"oh ill reply later.\"'], ['So I leave the message there for a bit to reply.'], ['Then a day passes by.'], ['I get nervous every time I think about the message.'], ['So I dont reply.'], ['A week passes by and it just gets worse.'], ['Then they message again, wondering where I am.'], [\"I get scared because if I reply to this one, they know I've read the other message and I just haven't replied.\"], [\"Or im scared they'll be mad at me.\"], [\"Or I'm just scared to have a conversation with them.\"], ['This started with one person but this year, I started doing it to more people.'], ['Even at one point, I got too nervous to reply to my landlords or even thank them for being nice after I left.'], [\"I havent been able to tell anyone because I'm so mad and embarrassed at myself for it.\"], [\"I have a friend's paintings sitting in my room that I was supposed to return a month ago but I am too scared to message her about it or even think about it.\"], ['Recently, my old high-school created a group chat to meet up at our university.'], [\"I havent looked at the messages because for some reason I'm scared.\"], [\"I don't want to meet up with them, catch up and have to pretend like I know what I'm doing with myself.\"], [\"I'm a failure and I don't want to end up feeling exhausted after faking a smile around everyone.\"], ['I am in therapy.'], [\"Haven't mentioned this yet but I will.\"], [\"I'm just so tired of conversation feeling like it's a giant hurdle every time.\"], ['Basically during this past year I’ve been diagnosed with many different things I was diagnosed with Bpd but I also suffer greatly from extreme extreme anxiety and paranoia that’s to the point where I will call my friends and constantly ask them if they think someone is trying to  harm me or if I’m in a certain situation where I feel like I might be in the slightest bit of trouble I will have a massive panic attack till someone talks to me and makes me feel normal again I will lay down in my room sometimes just from waking up in the comfort and safety of it and midway through a show I will think of some thing and send myself into a never ending spiral of fear I have lost trust in people in general and I’ve come to believe that everyone I’m not already friends with eventually will hurt me My anxiety began to spiral further when I got into an argument with two girls I was friends with at one point and one of the girls threatened to harm me it’s some thing that I’m sure it happens to everyone but even to this day I still get very scared that one day they’ll text me again and will start some thing up again or that they’ll one day randomly just want to hurt me even though both of the girls are blocked and Have clearly stated that they are over the situation and want nothing to do with me  my mind will never stop I feel like I never get a moment of rest and sometimes my anxiety causes suicidal thoughts because I feel like I can’t live with this constant fear I just want to feel safe or at least be brave my anxiety has ruined my self image causing me to see myself as well for lack of a word a pussy and it makes me constantly get angry and frustrated with myself because I have no other choice but to sit and wait until I’m able to think myself out of the attack my friends always try to help me and have been the biggest support when I asked them and called them about things they try their best to reassure me but it happens more than they know I just wonder how I can get this under control so I can live normally'], ['A few month ago I start a new account at my job.'], ['I was told it was going to be a challenge and I was already feeling really bored with the work that I was doing at the time.'], ['I did the stupid thing and just said \"yes\" to the new account and didn\\'t even really go in depth with what was gonna happen.'], ['At my work there are countless stories of people getting put into new positions they know nothing about and being able to work themselves out of it.'], [\"My supervisor keeps telling me to ask for help if I need it but if I asked every time I needed help I wouldn't get anything done.\"], ['Now I am in such whole and work is super backed up.'], ['Now I leave my work with the worst anxiety that I can barely get anything done after work, all I do is just lay in bet and thin about the next day.'], ['For about a month now I have just wanted to quite, but I am scared of the social / professional implication of leaving when things are in bad place because of me.'], ['There are times that I get light headed and just space out due to the anxiety that I am in.'], [\"I know that I quite now it wouldn't be that bad, and I could live of saving for 6 months to a year easily.\"], ['I spend most of my day cursing to myself and saying \"I can\\'t do this any more\"'], ['Hi so I’m just curious how do you place yourself from these certain types of people.'], ['Currently I have a huge anxiety disorder and to top it all of I have depression too.'], ['The people I always work with are really goal oriented and would always want the best output from each other.'], ['In the past I can keep up with their pace but due to how the pandemic has affected us, the rapid decline of my mental health has also affected my work.'], ['I’m not saying my outputs are bad but they’re mediocre at best and because of this they tend to ask me to change my output (which in all honesty is fine and the right thing to do) but what I just don’t like about them is how they always call me out when I submit an output and my anxiety, when they call me out, rises making me incapable of communicating properly with them.'], ['how can I keep up with these people?'], ['I’m also reluctant to tell them of my situation for they might not understand it and I’m really not comfortable in telling anyone about this actually.'], ['I originally found this sub because i couldnt sleep cause i was manually breathing.'], ['Now i think that I may have untreated ocd and/or anxiety for the past 2-3 years.'], ['Where would I go tor treatment.'], ['Should I go to my school counsellor?'], ['Why the fuck do I have to feel like this'], ['Have medicine exams in few hours, and just now my brother found out my relationship with blades.'], ['Great!'], ['I have a friend who’s definitely interested in therapy, but the only thing that’s been stopping her for the past 2 years is sending the first few emails.'], ['No matter how much encouragement I gave her, and even when I would help draft it with her, due to her really bad social anxiety, she could never send it.'], ['Now again, she says she wants to see a therapist really badly, but the email is the only thing getting in the way.'], ['Can I send the initial email on her behalf, and then direct the therapist to contact my friend afterwards for a follow up?'], ['How would I explain that in the email?'], ['What would I write in the email if I’m doing it on my friend’s behalf?'], ['Any advice is appreciated.'], ['27/F.'], ['I’m anticipating another bad panic attack because I had one last night.'], ['I know it’s irrational.'], ['It’s a vicious cycle.'], ['I’m trying to remain calm but it feels like I have absolutely no control over my mind or body.'], ['Absolutely none.'], ['I had a severe panic attack last night, seemingly randomly, like they always are.'], ['Most of the time I feel like nothing triggers them.'], ['I was fine and then all of a sudden couldn’t breathe.'], ['Felt like my breathing suddenly got too slow and too shallow.'], ['Felt like I was just gonna stop breathing at any moment.'], ['And then came the racing heart.'], ['My heart rate was crazy high.'], ['For some reason my first instinct is to jump up and run out of my house.'], ['I always think cold, fresh air will help but it rarely does.'], ['And then I drank a liter of water.'], ['Don’t know why I think that’ll help.'], ['I felt so sedated and like I was gonna lose consciousness at any minute and fought my body from going to sleep because I was scared i’d never wake up.'], ['My heartbeat felt too weak at one point.'], ['I ended up falling asleep against my will 5 hours later but I was in hell for those 5 hours.'], ['Most of the time I would end up driving myself to the ER in case this is the one time my life is genuinely in danger but I forced myself to not do that.'], ['At the ER they’d give me something like Ativan and i’d immediately calm down and be okay.'], ['But I can’t keep doing this.'], ['And I don’t have any benzos at home.'], ['I just need help.'], ['What can I do to stop lingering anxiety?'], ['To stop a panic attack from progressing?'], ['Anything I can take that’s easily accessible without a prescription?'], ['Any new remedies/substances that anyone’s had success with?'], ['I will literally try anything.'], ['Breathing exercises and meditation do not help at all.'], ['In fact, focusing on my breathing causes me to panic even worse.'], ['I’m miserable and so damn tired of living in fear that I might have another random episode.'], ['I just wish there was a way I could prevent it from happening in the first place.'], ['I can’t call off work again.'], ['Help :('], ['When I was 6 I first went to the dermatologist, when I was 7 I started getting bullied, and by 8 I was on acne medication.'], ['All I knew is it wasn’t normal to be so young taking medication (and getting acne before puberty) and since that core memory I have always struggled with the relationship between me and medication.'], ['It has always been something negative.'], ['I’ve since grown and have recently started taking SSRIs to combat my anxiety.'], ['My boyfriend and I agree there has been much improvement but as he lists all the things different about me, I can’t help but feel the me before medication, the authentic me, was not good enough.'], ['I did not realize how much of an effect my anxiety had on others.'], ['And while I know my medication is a good thing, it makes me feel like I need this pill to be normal, and without it I am not normal.'], ['It makes me feel ashamed and the person I was before was tolerated.'], ['Everyone is celebrating this “new” better me and while I admit I like this new me, it makes me feel like the person I was before was not good enough.'], ['And I must rely on this pill or else I will become the person that isn’t celebrated and is not good enough and simply tolerated.'], ['It makes me really sad and it’s something I think of when I take my medication every day.'], ['I don’t know how to change the relationship I have with me and my medication.'], ['I have to present in front of my class tomorrow, and then I have two presentations next week as well.'], ['I only have to speak for around 5 minutes per project, but even that is way too long for my anxious brain.'], ['Even though I know the material, and I present great in front of my friends, I forget everything and look like a stupid stuttering idiot tripping over my words and forgetting my train of thought when I’m actually up in front of people.'], ['Can’t wait to spend the rest of the class period after I present crying in the bathroom.'], ['I’m so fucking nervous, and next week is gonna be even worse.'], ['Hey all.'], ['I’ve been dealing with unexplained dizziness for the past three (3) years now and it’s been bothering my health anxious mind.'], ['I’ve gotten countless tests done, ruling out vertigo and neurological problems .'], ['I’ve gotten heart and blood tests done and everything has come back normal.'], ['It’s gotten to the point where my dizziness goes on pretty much all day with only maybe an hour or two of relief.'], ['It comes on randomly and suddenly so I’ve always had a hard time correlating it to just being anxiety but could my unexplained dizziness daily just be anxiety?'], ['I don’t necessarily feel anxious before having these episodes but when they do come on, it does trigger my anxiety response.'], ['It also happens when I sit in certain positions.'], ['Getting a second opinion from a neurologist in November but wanted to ask if anyone on here has experienced this kind of dizziness daily (feeling like you’re off balance and walking on a cloud or feeling like certain parts of your body are moving when they aren’t) due to anxiety?'], ['Do meds help?'], ['Any advice?'], ['I do in fact feel like I’m going a little crazy here with how much I’ve done to try and figure out what this is and not getting anywhere really.'], ['I’m the type of person(due to my ADHD) where if an unwanted noise, even the buzzing of a light that no one else could hear WILL nearly put me into panic mode.'], ['I’ve been this way since a kid, and it honestly sucks.'], ['My mind can’t think of anything else but the damn noise.'], ['My upstairs neighbor can’t walk quietly for shit and there’s always some random bangs at nearly 1-3AM.'], ['It gives me so much anxiety, I’m losing my mind.'], ['Edit: I never had this problem with my old neighbors and I’ve lived here for almost 3 years now.'], ['[deleted]'], ['Currently having an intense anxiety attack.'], ['I just feel so scared.'], ['Probably the scariest I’ve ever felt.'], ['It’s embarassing because I only have to speak for 1-2 minutes but honestly it’s going to feel like hours the moment I step in front of the classroom.'], ['I’m so scared.'], ['I want to say “I can do it” but I’m so scared I’m shaking right now and I don’t have to even present until tomorrow afternoon.'], ['It’s not fair that I have to be so scared of something that’s not even a threat .'], ['I realize that my classmates are probably anxious too, and just want to get it over with.'], ['But me, I am probably overthinking this but I’m still scared.'], ['I have been dreading this day since Monday started and now it’s here.'], ['And I can’t take the fear.'], ['I feel like I could faint right now writing this just thinking about this.'], ['This is all I wanted to say I should probably get through this anxiety attack first'], ['I’m not in too bad shape right now, but this has been a trend for a long time for me, so I was wondering if other people felt this way.'], ['I still get like this every now and then, so I just figured I’d ask what’s up with it'], ['i have both physical and mental illness but loneliness is the real killer.'], [\"holiday season is coming up and i don't wanna be in isolation feeling depressed.\"], [\"Halloween, thanksgiving, Christmas, and it's already cold, dark, rainy in PNW.\"]]\n"
          ]
        }
      ]
    },
    {
      "cell_type": "code",
      "metadata": {
        "id": "9qEzKeW3ZigK"
      },
      "source": [
        "#Runnig algoritm on train set, before that converting into csv and then into dataframe"
      ],
      "execution_count": null,
      "outputs": []
    },
    {
      "cell_type": "code",
      "metadata": {
        "id": "ymUm0essZ0Cy"
      },
      "source": [
        "import csv \n",
        "header = ['Body']  \n",
        "with open('sencsv.csv', 'w') as f: \n",
        "    write = csv.writer(f) \n",
        "    write.writerow(header) \n",
        "    write.writerows(sen1) \n",
        "f.close()"
      ],
      "execution_count": 124,
      "outputs": []
    },
    {
      "cell_type": "code",
      "metadata": {
        "id": "SosCjKH8uFcx"
      },
      "source": [
        "csvsen=pd.read_csv(\"sencsv.csv\", error_bad_lines=False)"
      ],
      "execution_count": 125,
      "outputs": []
    },
    {
      "cell_type": "code",
      "metadata": {
        "colab": {
          "base_uri": "https://localhost:8080/",
          "height": 204
        },
        "id": "NJuV6ZV02fKU",
        "outputId": "0fbf714c-2414-4b55-e699-d69627af050f"
      },
      "source": [
        "csvsen.head()"
      ],
      "execution_count": 126,
      "outputs": [
        {
          "output_type": "execute_result",
          "data": {
            "text/html": [
              "<div>\n",
              "<style scoped>\n",
              "    .dataframe tbody tr th:only-of-type {\n",
              "        vertical-align: middle;\n",
              "    }\n",
              "\n",
              "    .dataframe tbody tr th {\n",
              "        vertical-align: top;\n",
              "    }\n",
              "\n",
              "    .dataframe thead th {\n",
              "        text-align: right;\n",
              "    }\n",
              "</style>\n",
              "<table border=\"1\" class=\"dataframe\">\n",
              "  <thead>\n",
              "    <tr style=\"text-align: right;\">\n",
              "      <th></th>\n",
              "      <th>Body</th>\n",
              "    </tr>\n",
              "  </thead>\n",
              "  <tbody>\n",
              "    <tr>\n",
              "      <th>0</th>\n",
              "      <td>This physical pain.</td>\n",
              "    </tr>\n",
              "    <tr>\n",
              "      <th>1</th>\n",
              "      <td>It's like there's a boulder on my chest.</td>\n",
              "    </tr>\n",
              "    <tr>\n",
              "      <th>2</th>\n",
              "      <td>There is a knot in my stomach.</td>\n",
              "    </tr>\n",
              "    <tr>\n",
              "      <th>3</th>\n",
              "      <td>I don't know how to make it go away, I'm so ex...</td>\n",
              "    </tr>\n",
              "    <tr>\n",
              "      <th>4</th>\n",
              "      <td>I can't cry.</td>\n",
              "    </tr>\n",
              "  </tbody>\n",
              "</table>\n",
              "</div>"
            ],
            "text/plain": [
              "                                                Body\n",
              "0                                This physical pain.\n",
              "1           It's like there's a boulder on my chest.\n",
              "2                     There is a knot in my stomach.\n",
              "3  I don't know how to make it go away, I'm so ex...\n",
              "4                                       I can't cry."
            ]
          },
          "metadata": {},
          "execution_count": 126
        }
      ]
    },
    {
      "cell_type": "code",
      "metadata": {
        "colab": {
          "base_uri": "https://localhost:8080/",
          "height": 391
        },
        "id": "bPvwQszR3p7T",
        "outputId": "35bcfa83-74f7-4878-d273-1be3e75d54e4"
      },
      "source": [
        "## Getting the number of words by splitting them by a space\n",
        "words_per_sentence = csvsen.Body.apply(lambda x: len(x.split(\" \")))\n",
        "words_per_sentence.hist(bins = 100)\n",
        "plt.xlabel('Sentence Length (words)')\n",
        "plt.ylabel('Frequency')\n",
        "plt.show()"
      ],
      "execution_count": 128,
      "outputs": [
        {
          "output_type": "display_data",
          "data": {
            "image/png": "[encoded data removed]",
            "text/plain": [
              "<Figure size 1008x432 with 1 Axes>"
            ]
          },
          "metadata": {}
        }
      ]
    },
    {
      "cell_type": "code",
      "metadata": {
        "colab": {
          "base_uri": "https://localhost:8080/"
        },
        "id": "TzC7yRgZ35pa",
        "outputId": "62720c17-93f8-4dfa-b16c-9e6207fd8f3c"
      },
      "source": [
        "print('Average words:', words_per_sentence.mean())\n",
        "print('Skewness:', words_per_sentence.skew())"
      ],
      "execution_count": 129,
      "outputs": [
        {
          "output_type": "stream",
          "name": "stdout",
          "text": [
            "Average words: 17.626\n",
            "Skewness: 11.362136856247018\n"
          ]
        }
      ]
    },
    {
      "cell_type": "code",
      "metadata": {
        "colab": {
          "base_uri": "https://localhost:8080/",
          "height": 357
        },
        "id": "P4P6TZu24G-3",
        "outputId": "e0a2b692-c294-4732-a559-fa0899912423"
      },
      "source": [
        "word_cloud_text = ''.join(csvsen['Body'])\n",
        "\n",
        "wordcloud = WordCloud(max_font_size=100, # Maximum font size for the largest word\n",
        "                      max_words=100, # The maximum number of words\n",
        "                      background_color=\"white\", # Background color for the word cloud image\n",
        "                      scale = 10, # Scaling between computation and drawing\n",
        "                      width=800, # Width of the canvas\n",
        "                      height=400 # Height of the canvas\n",
        "                     ).generate(word_cloud_text)\n",
        "\n",
        "plt.figure()\n",
        "plt.imshow(wordcloud, \n",
        "           interpolation=\"bilinear\") # to make the displayed image appear more smoothly\n",
        "plt.axis(\"off\")\n",
        "plt.show()"
      ],
      "execution_count": 130,
      "outputs": [
        {
          "output_type": "display_data",
          "data": {
            "image/png": "[encoded data removed]",
            "text/plain": [
              "<Figure size 1008x432 with 1 Axes>"
            ]
          },
          "metadata": {}
        }
      ]
    },
    {
      "cell_type": "code",
      "metadata": {
        "id": "Jg763SwS4cKy"
      },
      "source": [
        "csvsen['text_new'] = csvsen['Body'].str.lower()"
      ],
      "execution_count": 131,
      "outputs": []
    },
    {
      "cell_type": "code",
      "metadata": {
        "id": "3RGSr0hDWaex",
        "colab": {
          "base_uri": "https://localhost:8080/"
        },
        "outputId": "bdf1cd04-2477-4a62-ce25-8124bc4fb1ad"
      },
      "source": [
        "from nltk import word_tokenize\n",
        "\n",
        "# Word tokenization example:\n",
        "word_tokenize(\"Sharique is cool\")\n",
        "\n",
        "\n",
        "  "
      ],
      "execution_count": 132,
      "outputs": [
        {
          "output_type": "execute_result",
          "data": {
            "text/plain": [
              "['Sharique', 'is', 'cool']"
            ]
          },
          "metadata": {},
          "execution_count": 132
        }
      ]
    },
    {
      "cell_type": "code",
      "metadata": {
        "id": "V0UDoULlEfNT"
      },
      "source": [
        "csvsen1=csvsen[:200]"
      ],
      "execution_count": 164,
      "outputs": []
    },
    {
      "cell_type": "code",
      "metadata": {
        "id": "HMyWgYoA_OGe"
      },
      "source": [
        "csvsen1['target']=[1,1,1,1,1,1,1,1,1,0,1,1,0,1,1,0,0,0,0,1,0,0,0,0,0,0,0,0,1,1,1,1,1,0,1,1,0,1,1,0,1,0,1,1,0,1,0,0,1,0,0,1,0,1,1,1,1,1,1,1,0,1,1,1,1,1,1,1,1,1,1,1,0,1,1,1,1,1,1,0,1,1,1,1,1,1,1,0,1,1,1,1,1,0,1,1,1,1,1,1,1,1,1,1,0,0,1,1,1,1,1,1,1,1,1,1,0,1,1,1,1,0,0,0,1,0,1,1,1,1,0,1,0,1,0,1,0,0,0,1,1,1,1,0,0,0,1,0,1,1,1,1,1,0,0,1,1,1,1,1,1,1,1,1,1,0,1,1,1,1,0,1,1,1,1,0,1,1,1,1,1,0,0,0,1,1,0,0,0,1,0,1,1,1,1,1,1,1,1,1]"
      ],
      "execution_count": 194,
      "outputs": []
    },
    {
      "cell_type": "code",
      "metadata": {
        "colab": {
          "base_uri": "https://localhost:8080/"
        },
        "id": "ksKoIgi7TPRA",
        "outputId": "49df6563-3644-4a2b-9d25-b3ccbab94921"
      },
      "source": [
        "type(csvsen1)"
      ],
      "execution_count": 195,
      "outputs": [
        {
          "output_type": "execute_result",
          "data": {
            "text/plain": [
              "pandas.core.frame.DataFrame"
            ]
          },
          "metadata": {},
          "execution_count": 195
        }
      ]
    },
    {
      "cell_type": "code",
      "metadata": {
        "colab": {
          "base_uri": "https://localhost:8080/",
          "height": 204
        },
        "id": "PN9ySxvYTBwv",
        "outputId": "1265eb97-e7d5-48b3-c526-c6c00fb23cf8"
      },
      "source": [
        "csvsen1.sample(5)"
      ],
      "execution_count": 196,
      "outputs": [
        {
          "output_type": "execute_result",
          "data": {
            "text/html": [
              "<div>\n",
              "<style scoped>\n",
              "    .dataframe tbody tr th:only-of-type {\n",
              "        vertical-align: middle;\n",
              "    }\n",
              "\n",
              "    .dataframe tbody tr th {\n",
              "        vertical-align: top;\n",
              "    }\n",
              "\n",
              "    .dataframe thead th {\n",
              "        text-align: right;\n",
              "    }\n",
              "</style>\n",
              "<table border=\"1\" class=\"dataframe\">\n",
              "  <thead>\n",
              "    <tr style=\"text-align: right;\">\n",
              "      <th></th>\n",
              "      <th>Body</th>\n",
              "      <th>text_new</th>\n",
              "      <th>target</th>\n",
              "    </tr>\n",
              "  </thead>\n",
              "  <tbody>\n",
              "    <tr>\n",
              "      <th>140</th>\n",
              "      <td>I try to read something and this horrible feel...</td>\n",
              "      <td>i try to read something and this horrible feel...</td>\n",
              "      <td>1</td>\n",
              "    </tr>\n",
              "    <tr>\n",
              "      <th>136</th>\n",
              "      <td>Yeah, so.</td>\n",
              "      <td>yeah, so.</td>\n",
              "      <td>0</td>\n",
              "    </tr>\n",
              "    <tr>\n",
              "      <th>101</th>\n",
              "      <td>Yesterday my brain also decided to remember a ...</td>\n",
              "      <td>yesterday my brain also decided to remember a ...</td>\n",
              "      <td>1</td>\n",
              "    </tr>\n",
              "    <tr>\n",
              "      <th>16</th>\n",
              "      <td>And guess what?</td>\n",
              "      <td>and guess what?</td>\n",
              "      <td>0</td>\n",
              "    </tr>\n",
              "    <tr>\n",
              "      <th>70</th>\n",
              "      <td>It’s scary to me.</td>\n",
              "      <td>it’s scary to me.</td>\n",
              "      <td>1</td>\n",
              "    </tr>\n",
              "  </tbody>\n",
              "</table>\n",
              "</div>"
            ],
            "text/plain": [
              "                                                  Body  ... target\n",
              "140  I try to read something and this horrible feel...  ...      1\n",
              "136                                          Yeah, so.  ...      0\n",
              "101  Yesterday my brain also decided to remember a ...  ...      1\n",
              "16                                     And guess what?  ...      0\n",
              "70                                   It’s scary to me.  ...      1\n",
              "\n",
              "[5 rows x 3 columns]"
            ]
          },
          "metadata": {},
          "execution_count": 196
        }
      ]
    },
    {
      "cell_type": "code",
      "metadata": {
        "colab": {
          "base_uri": "https://localhost:8080/"
        },
        "id": "9HV9nuRsmUtZ",
        "outputId": "4e1749e3-ac93-449d-8fca-7cb6f901e92b"
      },
      "source": [
        "# For sentences not converted to lower case\n",
        "token_lists = [word_tokenize(each) for each in csvsen1['Body']]\n",
        "tokens = [item for sublist in token_lists for item in sublist]\n",
        "print(\"Number of unique tokens then: \",len(set(tokens)))\n",
        "\n",
        "# For reviews converted to lowe case\n",
        "token_lists_lower = [word_tokenize(each) for each in csvsen1['text_new']]\n",
        "tokens_lower = [item for sublist in token_lists_lower for item in sublist]\n",
        "print(\"Number of unique tokens now: \",len(set(tokens_lower)))"
      ],
      "execution_count": 200,
      "outputs": [
        {
          "output_type": "stream",
          "name": "stdout",
          "text": [
            "Number of unique tokens then:  872\n",
            "Number of unique tokens now:  818\n"
          ]
        }
      ]
    },
    {
      "cell_type": "code",
      "metadata": {
        "colab": {
          "base_uri": "https://localhost:8080/"
        },
        "id": "fWENiFWyubNM",
        "outputId": "a5a737ea-ee70-4b33-ca0a-ec3b01dfd0f3"
      },
      "source": [
        "### Selecting non alpha numeric charactes that are not spaces\n",
        "spl_chars = csvsen1['text_new'].apply(lambda review: \n",
        "                                                     [char for char in list(review) if not char.isalnum() and char != ' '])\n",
        "\n",
        "## Getting list of list into a single list\n",
        "flat_list = [item for sublist in spl_chars for item in sublist]\n",
        "\n",
        "## Unique special characters\n",
        "set(flat_list)"
      ],
      "execution_count": 201,
      "outputs": [
        {
          "output_type": "execute_result",
          "data": {
            "text/plain": [
              "{'\\n',\n",
              " '!',\n",
              " '\"',\n",
              " '&',\n",
              " \"'\",\n",
              " '(',\n",
              " ')',\n",
              " ',',\n",
              " '-',\n",
              " '.',\n",
              " '/',\n",
              " ':',\n",
              " ';',\n",
              " '<',\n",
              " '?',\n",
              " '[',\n",
              " ']',\n",
              " '’',\n",
              " '😅',\n",
              " '🥺'}"
            ]
          },
          "metadata": {},
          "execution_count": 201
        }
      ]
    },
    {
      "cell_type": "code",
      "metadata": {
        "id": "LM3w9h775KqY"
      },
      "source": [
        "sentences_backup = csvsen1['text_new'].copy()\n",
        "csvsen1['text_new'] = csvsen1['text_new'].str.replace(r'[^A-Za-z0-9 ]+', ' ')"
      ],
      "execution_count": 202,
      "outputs": []
    },
    {
      "cell_type": "code",
      "metadata": {
        "colab": {
          "base_uri": "https://localhost:8080/"
        },
        "id": "Oo8z8X_8vLQP",
        "outputId": "b40613f5-1801-4d34-ca75-270e8388e1be"
      },
      "source": [
        "print(\"- Old Review -\")\n",
        "print(sentences_backup.values[6])\n",
        "print(\"\\n- New Review -\")\n",
        "print(csvsen1['text_new'][6])"
      ],
      "execution_count": 203,
      "outputs": [
        {
          "output_type": "stream",
          "name": "stdout",
          "text": [
            "- Old Review -\n",
            "i can't, i just can't anymore.\n",
            "\n",
            "- New Review -\n",
            "i can t  i just can t anymore \n"
          ]
        }
      ]
    },
    {
      "cell_type": "code",
      "metadata": {
        "colab": {
          "base_uri": "https://localhost:8080/"
        },
        "id": "q79dLOdf5ogO",
        "outputId": "af08413b-3ead-4a0c-dacf-40a085dcd009"
      },
      "source": [
        "token_lists = [word_tokenize(each) for each in csvsen1['Body']]\n",
        "tokens = [item for sublist in token_lists for item in sublist]\n",
        "print(\"Number of unique tokens then: \",len(set(tokens)))\n",
        "\n",
        "token_lists = [word_tokenize(each) for each in csvsen1['text_new']]\n",
        "tokens = [item for sublist in token_lists for item in sublist]\n",
        "print(\"Number of unique tokens now: \",len(set(tokens)))"
      ],
      "execution_count": 204,
      "outputs": [
        {
          "output_type": "stream",
          "name": "stdout",
          "text": [
            "Number of unique tokens then:  872\n",
            "Number of unique tokens now:  795\n"
          ]
        }
      ]
    },
    {
      "cell_type": "markdown",
      "metadata": {
        "id": "Nj8WY7Yt5_HE"
      },
      "source": [
        "##Stopwords and high/low frequency words"
      ]
    },
    {
      "cell_type": "code",
      "metadata": {
        "colab": {
          "base_uri": "https://localhost:8080/"
        },
        "id": "YNL3f6Xs51rM",
        "outputId": "8bfe8903-9f91-48fb-9891-4c0641e670c0"
      },
      "source": [
        "import nltk\n",
        "nltk.download('stopwords')\n",
        "\n",
        "print('Available languages for NLTK v.3.4.5: ')\n",
        "print(stopwords.fileids())"
      ],
      "execution_count": 205,
      "outputs": [
        {
          "output_type": "stream",
          "name": "stdout",
          "text": [
            "[nltk_data] Downloading package stopwords to /root/nltk_data...\n",
            "[nltk_data]   Package stopwords is already up-to-date!\n",
            "Available languages for NLTK v.3.4.5: \n",
            "['arabic', 'azerbaijani', 'danish', 'dutch', 'english', 'finnish', 'french', 'german', 'greek', 'hungarian', 'indonesian', 'italian', 'kazakh', 'nepali', 'norwegian', 'portuguese', 'romanian', 'russian', 'slovene', 'spanish', 'swedish', 'tajik', 'turkish']\n"
          ]
        }
      ]
    },
    {
      "cell_type": "markdown",
      "metadata": {
        "id": "42flHJd-6cBH"
      },
      "source": [
        "Let's now review the list of English stopwords:"
      ]
    },
    {
      "cell_type": "code",
      "metadata": {
        "colab": {
          "base_uri": "https://localhost:8080/"
        },
        "id": "eoZGdpkg6dfu",
        "outputId": "f0e00681-d042-4146-ddf7-c0fb269da617"
      },
      "source": [
        "noise_words = []\n",
        "eng_stop_words = stopwords.words('english')\n",
        "eng_stop_words\n"
      ],
      "execution_count": 206,
      "outputs": [
        {
          "output_type": "execute_result",
          "data": {
            "text/plain": [
              "['i',\n",
              " 'me',\n",
              " 'my',\n",
              " 'myself',\n",
              " 'we',\n",
              " 'our',\n",
              " 'ours',\n",
              " 'ourselves',\n",
              " 'you',\n",
              " \"you're\",\n",
              " \"you've\",\n",
              " \"you'll\",\n",
              " \"you'd\",\n",
              " 'your',\n",
              " 'yours',\n",
              " 'yourself',\n",
              " 'yourselves',\n",
              " 'he',\n",
              " 'him',\n",
              " 'his',\n",
              " 'himself',\n",
              " 'she',\n",
              " \"she's\",\n",
              " 'her',\n",
              " 'hers',\n",
              " 'herself',\n",
              " 'it',\n",
              " \"it's\",\n",
              " 'its',\n",
              " 'itself',\n",
              " 'they',\n",
              " 'them',\n",
              " 'their',\n",
              " 'theirs',\n",
              " 'themselves',\n",
              " 'what',\n",
              " 'which',\n",
              " 'who',\n",
              " 'whom',\n",
              " 'this',\n",
              " 'that',\n",
              " \"that'll\",\n",
              " 'these',\n",
              " 'those',\n",
              " 'am',\n",
              " 'is',\n",
              " 'are',\n",
              " 'was',\n",
              " 'were',\n",
              " 'be',\n",
              " 'been',\n",
              " 'being',\n",
              " 'have',\n",
              " 'has',\n",
              " 'had',\n",
              " 'having',\n",
              " 'do',\n",
              " 'does',\n",
              " 'did',\n",
              " 'doing',\n",
              " 'a',\n",
              " 'an',\n",
              " 'the',\n",
              " 'and',\n",
              " 'but',\n",
              " 'if',\n",
              " 'or',\n",
              " 'because',\n",
              " 'as',\n",
              " 'until',\n",
              " 'while',\n",
              " 'of',\n",
              " 'at',\n",
              " 'by',\n",
              " 'for',\n",
              " 'with',\n",
              " 'about',\n",
              " 'against',\n",
              " 'between',\n",
              " 'into',\n",
              " 'through',\n",
              " 'during',\n",
              " 'before',\n",
              " 'after',\n",
              " 'above',\n",
              " 'below',\n",
              " 'to',\n",
              " 'from',\n",
              " 'up',\n",
              " 'down',\n",
              " 'in',\n",
              " 'out',\n",
              " 'on',\n",
              " 'off',\n",
              " 'over',\n",
              " 'under',\n",
              " 'again',\n",
              " 'further',\n",
              " 'then',\n",
              " 'once',\n",
              " 'here',\n",
              " 'there',\n",
              " 'when',\n",
              " 'where',\n",
              " 'why',\n",
              " 'how',\n",
              " 'all',\n",
              " 'any',\n",
              " 'both',\n",
              " 'each',\n",
              " 'few',\n",
              " 'more',\n",
              " 'most',\n",
              " 'other',\n",
              " 'some',\n",
              " 'such',\n",
              " 'no',\n",
              " 'nor',\n",
              " 'not',\n",
              " 'only',\n",
              " 'own',\n",
              " 'same',\n",
              " 'so',\n",
              " 'than',\n",
              " 'too',\n",
              " 'very',\n",
              " 's',\n",
              " 't',\n",
              " 'can',\n",
              " 'will',\n",
              " 'just',\n",
              " 'don',\n",
              " \"don't\",\n",
              " 'should',\n",
              " \"should've\",\n",
              " 'now',\n",
              " 'd',\n",
              " 'll',\n",
              " 'm',\n",
              " 'o',\n",
              " 're',\n",
              " 've',\n",
              " 'y',\n",
              " 'ain',\n",
              " 'aren',\n",
              " \"aren't\",\n",
              " 'couldn',\n",
              " \"couldn't\",\n",
              " 'didn',\n",
              " \"didn't\",\n",
              " 'doesn',\n",
              " \"doesn't\",\n",
              " 'hadn',\n",
              " \"hadn't\",\n",
              " 'hasn',\n",
              " \"hasn't\",\n",
              " 'haven',\n",
              " \"haven't\",\n",
              " 'isn',\n",
              " \"isn't\",\n",
              " 'ma',\n",
              " 'mightn',\n",
              " \"mightn't\",\n",
              " 'mustn',\n",
              " \"mustn't\",\n",
              " 'needn',\n",
              " \"needn't\",\n",
              " 'shan',\n",
              " \"shan't\",\n",
              " 'shouldn',\n",
              " \"shouldn't\",\n",
              " 'wasn',\n",
              " \"wasn't\",\n",
              " 'weren',\n",
              " \"weren't\",\n",
              " 'won',\n",
              " \"won't\",\n",
              " 'wouldn',\n",
              " \"wouldn't\"]"
            ]
          },
          "metadata": {},
          "execution_count": 206
        }
      ]
    },
    {
      "cell_type": "markdown",
      "metadata": {
        "id": "jf-pL-PR6i0H"
      },
      "source": [
        "Remove stopwords"
      ]
    },
    {
      "cell_type": "code",
      "metadata": {
        "colab": {
          "base_uri": "https://localhost:8080/"
        },
        "id": "JpaHkUrx6ft-",
        "outputId": "034be39d-a255-4455-a418-b95f33e8e400"
      },
      "source": [
        "stop_words = set(eng_stop_words)\n",
        "without_stop_words = []\n",
        "stopword = []\n",
        "sentence = csvsen1['text_new'][0]\n",
        "words = nltk.word_tokenize(sentence)\n",
        "\n",
        "for word in words:\n",
        "    if word in stop_words:\n",
        "        stopword.append(word)\n",
        "    else:\n",
        "        without_stop_words.append(word)\n",
        "\n",
        "print('-- Original Sentence --\\n', sentence)\n",
        "print('\\n-- Stopwords in the sentence --\\n', stopword)\n",
        "print('\\n-- Non-stopwords in the sentence --\\n', without_stop_words)"
      ],
      "execution_count": 208,
      "outputs": [
        {
          "output_type": "stream",
          "name": "stdout",
          "text": [
            "-- Original Sentence --\n",
            " this physical pain \n",
            "\n",
            "-- Stopwords in the sentence --\n",
            " ['this']\n",
            "\n",
            "-- Non-stopwords in the sentence --\n",
            " ['physical', 'pain']\n"
          ]
        }
      ]
    },
    {
      "cell_type": "code",
      "metadata": {
        "colab": {
          "base_uri": "https://localhost:8080/",
          "height": 419
        },
        "id": "WergAsdT6u6N",
        "outputId": "03f8120d-1410-4fe4-b987-19e9ce6f740f"
      },
      "source": [
        "def stopwords_removal(stop_words, sentence):\n",
        "    return [word for word in nltk.word_tokenize(sentence) if word not in stop_words]\n",
        "\n",
        "csvsen1['text_nonstop'] = csvsen1['text_new'].apply(lambda row: stopwords_removal(stop_words, row))\n",
        "csvsen1[['text_new','text_nonstop']]"
      ],
      "execution_count": 209,
      "outputs": [
        {
          "output_type": "execute_result",
          "data": {
            "text/html": [
              "<div>\n",
              "<style scoped>\n",
              "    .dataframe tbody tr th:only-of-type {\n",
              "        vertical-align: middle;\n",
              "    }\n",
              "\n",
              "    .dataframe tbody tr th {\n",
              "        vertical-align: top;\n",
              "    }\n",
              "\n",
              "    .dataframe thead th {\n",
              "        text-align: right;\n",
              "    }\n",
              "</style>\n",
              "<table border=\"1\" class=\"dataframe\">\n",
              "  <thead>\n",
              "    <tr style=\"text-align: right;\">\n",
              "      <th></th>\n",
              "      <th>text_new</th>\n",
              "      <th>text_nonstop</th>\n",
              "    </tr>\n",
              "  </thead>\n",
              "  <tbody>\n",
              "    <tr>\n",
              "      <th>0</th>\n",
              "      <td>this physical pain</td>\n",
              "      <td>[physical, pain]</td>\n",
              "    </tr>\n",
              "    <tr>\n",
              "      <th>1</th>\n",
              "      <td>it s like there s a boulder on my chest</td>\n",
              "      <td>[like, boulder, chest]</td>\n",
              "    </tr>\n",
              "    <tr>\n",
              "      <th>2</th>\n",
              "      <td>there is a knot in my stomach</td>\n",
              "      <td>[knot, stomach]</td>\n",
              "    </tr>\n",
              "    <tr>\n",
              "      <th>3</th>\n",
              "      <td>i don t know how to make it go away  i m so ex...</td>\n",
              "      <td>[know, make, go, away, exhausted]</td>\n",
              "    </tr>\n",
              "    <tr>\n",
              "      <th>4</th>\n",
              "      <td>i can t cry</td>\n",
              "      <td>[cry]</td>\n",
              "    </tr>\n",
              "    <tr>\n",
              "      <th>...</th>\n",
              "      <td>...</td>\n",
              "      <td>...</td>\n",
              "    </tr>\n",
              "    <tr>\n",
              "      <th>195</th>\n",
              "      <td>but recently i heard that he is going to be ma...</td>\n",
              "      <td>[recently, heard, going, married]</td>\n",
              "    </tr>\n",
              "    <tr>\n",
              "      <th>196</th>\n",
              "      <td>now i am become crazy by thinking that i can t...</td>\n",
              "      <td>[become, crazy, thinking, time, pass, anymore]</td>\n",
              "    </tr>\n",
              "    <tr>\n",
              "      <th>197</th>\n",
              "      <td>and he will not pay attention to me anymore</td>\n",
              "      <td>[pay, attention, anymore]</td>\n",
              "    </tr>\n",
              "    <tr>\n",
              "      <th>198</th>\n",
              "      <td>and i want to back his attention to me</td>\n",
              "      <td>[want, back, attention]</td>\n",
              "    </tr>\n",
              "    <tr>\n",
              "      <th>199</th>\n",
              "      <td>i didn t say about my love to him and he has n...</td>\n",
              "      <td>[say, love, done, also]</td>\n",
              "    </tr>\n",
              "  </tbody>\n",
              "</table>\n",
              "<p>200 rows × 2 columns</p>\n",
              "</div>"
            ],
            "text/plain": [
              "                                              text_new                                    text_nonstop\n",
              "0                                  this physical pain                                 [physical, pain]\n",
              "1             it s like there s a boulder on my chest                           [like, boulder, chest]\n",
              "2                       there is a knot in my stomach                                  [knot, stomach]\n",
              "3    i don t know how to make it go away  i m so ex...               [know, make, go, away, exhausted]\n",
              "4                                         i can t cry                                            [cry]\n",
              "..                                                 ...                                             ...\n",
              "195  but recently i heard that he is going to be ma...               [recently, heard, going, married]\n",
              "196  now i am become crazy by thinking that i can t...  [become, crazy, thinking, time, pass, anymore]\n",
              "197       and he will not pay attention to me anymore                        [pay, attention, anymore]\n",
              "198            and i want to back his attention to me                          [want, back, attention]\n",
              "199  i didn t say about my love to him and he has n...                         [say, love, done, also]\n",
              "\n",
              "[200 rows x 2 columns]"
            ]
          },
          "metadata": {},
          "execution_count": 209
        }
      ]
    },
    {
      "cell_type": "markdown",
      "metadata": {
        "id": "F1gTVMC-7Ex5"
      },
      "source": [
        "#Stemming and Lemmatization\n"
      ]
    },
    {
      "cell_type": "code",
      "metadata": {
        "colab": {
          "base_uri": "https://localhost:8080/"
        },
        "id": "WZ-8fHGi7LDt",
        "outputId": "381fd8c8-0c1a-43bd-86d1-e7062fbf30cc"
      },
      "source": [
        "from nltk.stem import PorterStemmer, LancasterStemmer # Common stemmers\n",
        "from nltk.stem import WordNetLemmatizer # Common Lematizer\n",
        "nltk.download('wordnet')\n",
        "from nltk.corpus import wordnet\n",
        "\n",
        "porter = PorterStemmer()\n",
        "lancaster = LancasterStemmer()\n",
        "lemmatizer = WordNetLemmatizer()"
      ],
      "execution_count": 210,
      "outputs": [
        {
          "output_type": "stream",
          "name": "stdout",
          "text": [
            "[nltk_data] Downloading package wordnet to /root/nltk_data...\n",
            "[nltk_data]   Package wordnet is already up-to-date!\n"
          ]
        }
      ]
    },
    {
      "cell_type": "code",
      "metadata": {
        "colab": {
          "base_uri": "https://localhost:8080/"
        },
        "id": "32caHOs57K08",
        "outputId": "4b6688e5-a353-407d-c369-e1e403632c6f"
      },
      "source": [
        "print(\"Lancaster Stemmer\")\n",
        "print(lancaster.stem(\"trouble\"))\n",
        "print(lancaster.stem(\"troubling\"))\n",
        "print(lancaster.stem(\"troubled\"))\n",
        "\n",
        "# Provide a word to be lemmatized\n",
        "print(\"WordNet Lemmatizer\")\n",
        "print(lemmatizer.lemmatize(\"trouble\", wordnet.NOUN))\n",
        "print(lemmatizer.lemmatize(\"troubling\", wordnet.VERB))\n",
        "print(lemmatizer.lemmatize(\"troubled\", wordnet.VERB))"
      ],
      "execution_count": 211,
      "outputs": [
        {
          "output_type": "stream",
          "name": "stdout",
          "text": [
            "Lancaster Stemmer\n",
            "troubl\n",
            "troubl\n",
            "troubl\n",
            "WordNet Lemmatizer\n",
            "trouble\n",
            "trouble\n",
            "trouble\n"
          ]
        }
      ]
    },
    {
      "cell_type": "code",
      "metadata": {
        "colab": {
          "base_uri": "https://localhost:8080/",
          "height": 419
        },
        "id": "k3ZWcop37T_t",
        "outputId": "1d310d79-3a50-4710-e6b5-a450c27c07e7"
      },
      "source": [
        "def stemm_terms(row):\n",
        "    return [lancaster.stem(term) for term in row]\n",
        "def lemmatize_terms(row):\n",
        "    return [lemmatizer.lemmatize(term) for term in row]\n",
        "    \n",
        "csvsen1['text_stemm'] = csvsen1['text_nonstop'].apply(lambda row: stemm_terms(row))\n",
        "csvsen1['text_lemm'] = csvsen1['text_nonstop'].apply(lambda row: lemmatize_terms(row))\n",
        "csvsen1[['text_nonstop','text_stemm','text_lemm']]"
      ],
      "execution_count": 213,
      "outputs": [
        {
          "output_type": "execute_result",
          "data": {
            "text/html": [
              "<div>\n",
              "<style scoped>\n",
              "    .dataframe tbody tr th:only-of-type {\n",
              "        vertical-align: middle;\n",
              "    }\n",
              "\n",
              "    .dataframe tbody tr th {\n",
              "        vertical-align: top;\n",
              "    }\n",
              "\n",
              "    .dataframe thead th {\n",
              "        text-align: right;\n",
              "    }\n",
              "</style>\n",
              "<table border=\"1\" class=\"dataframe\">\n",
              "  <thead>\n",
              "    <tr style=\"text-align: right;\">\n",
              "      <th></th>\n",
              "      <th>text_nonstop</th>\n",
              "      <th>text_stemm</th>\n",
              "      <th>text_lemm</th>\n",
              "    </tr>\n",
              "  </thead>\n",
              "  <tbody>\n",
              "    <tr>\n",
              "      <th>0</th>\n",
              "      <td>[physical, pain]</td>\n",
              "      <td>[phys, pain]</td>\n",
              "      <td>[physical, pain]</td>\n",
              "    </tr>\n",
              "    <tr>\n",
              "      <th>1</th>\n",
              "      <td>[like, boulder, chest]</td>\n",
              "      <td>[lik, bould, chest]</td>\n",
              "      <td>[like, boulder, chest]</td>\n",
              "    </tr>\n",
              "    <tr>\n",
              "      <th>2</th>\n",
              "      <td>[knot, stomach]</td>\n",
              "      <td>[knot, stomach]</td>\n",
              "      <td>[knot, stomach]</td>\n",
              "    </tr>\n",
              "    <tr>\n",
              "      <th>3</th>\n",
              "      <td>[know, make, go, away, exhausted]</td>\n",
              "      <td>[know, mak, go, away, exhaust]</td>\n",
              "      <td>[know, make, go, away, exhausted]</td>\n",
              "    </tr>\n",
              "    <tr>\n",
              "      <th>4</th>\n",
              "      <td>[cry]</td>\n",
              "      <td>[cry]</td>\n",
              "      <td>[cry]</td>\n",
              "    </tr>\n",
              "    <tr>\n",
              "      <th>...</th>\n",
              "      <td>...</td>\n",
              "      <td>...</td>\n",
              "      <td>...</td>\n",
              "    </tr>\n",
              "    <tr>\n",
              "      <th>195</th>\n",
              "      <td>[recently, heard, going, married]</td>\n",
              "      <td>[rec, heard, going, marry]</td>\n",
              "      <td>[recently, heard, going, married]</td>\n",
              "    </tr>\n",
              "    <tr>\n",
              "      <th>196</th>\n",
              "      <td>[become, crazy, thinking, time, pass, anymore]</td>\n",
              "      <td>[becom, crazy, think, tim, pass, anym]</td>\n",
              "      <td>[become, crazy, thinking, time, pas, anymore]</td>\n",
              "    </tr>\n",
              "    <tr>\n",
              "      <th>197</th>\n",
              "      <td>[pay, attention, anymore]</td>\n",
              "      <td>[pay, at, anym]</td>\n",
              "      <td>[pay, attention, anymore]</td>\n",
              "    </tr>\n",
              "    <tr>\n",
              "      <th>198</th>\n",
              "      <td>[want, back, attention]</td>\n",
              "      <td>[want, back, at]</td>\n",
              "      <td>[want, back, attention]</td>\n",
              "    </tr>\n",
              "    <tr>\n",
              "      <th>199</th>\n",
              "      <td>[say, love, done, also]</td>\n",
              "      <td>[say, lov, don, also]</td>\n",
              "      <td>[say, love, done, also]</td>\n",
              "    </tr>\n",
              "  </tbody>\n",
              "</table>\n",
              "<p>200 rows × 3 columns</p>\n",
              "</div>"
            ],
            "text/plain": [
              "                                       text_nonstop  ...                                      text_lemm\n",
              "0                                  [physical, pain]  ...                               [physical, pain]\n",
              "1                            [like, boulder, chest]  ...                         [like, boulder, chest]\n",
              "2                                   [knot, stomach]  ...                                [knot, stomach]\n",
              "3                 [know, make, go, away, exhausted]  ...              [know, make, go, away, exhausted]\n",
              "4                                             [cry]  ...                                          [cry]\n",
              "..                                              ...  ...                                            ...\n",
              "195               [recently, heard, going, married]  ...              [recently, heard, going, married]\n",
              "196  [become, crazy, thinking, time, pass, anymore]  ...  [become, crazy, thinking, time, pas, anymore]\n",
              "197                       [pay, attention, anymore]  ...                      [pay, attention, anymore]\n",
              "198                         [want, back, attention]  ...                        [want, back, attention]\n",
              "199                         [say, love, done, also]  ...                        [say, love, done, also]\n",
              "\n",
              "[200 rows x 3 columns]"
            ]
          },
          "metadata": {},
          "execution_count": 213
        }
      ]
    },
    {
      "cell_type": "markdown",
      "metadata": {
        "id": "u4yCWpbp8GJM"
      },
      "source": [
        "### Building a Machine Learning Model now!\n"
      ]
    },
    {
      "cell_type": "code",
      "metadata": {
        "colab": {
          "base_uri": "https://localhost:8080/"
        },
        "id": "BblvL8Lo8LIb",
        "outputId": "487f9f86-ef20-4060-ba6c-90e8b3b628a3"
      },
      "source": [
        "from nltk import ngrams\n",
        "\n",
        "sentence = 'A bird in the hand worths two in the bush'\n",
        "\n",
        "for n in range(1, 6):\n",
        "    print(str(n) + '-grams:\\n', list(ngrams(sentence.split(), n)))"
      ],
      "execution_count": 214,
      "outputs": [
        {
          "output_type": "stream",
          "name": "stdout",
          "text": [
            "1-grams:\n",
            " [('A',), ('bird',), ('in',), ('the',), ('hand',), ('worths',), ('two',), ('in',), ('the',), ('bush',)]\n",
            "2-grams:\n",
            " [('A', 'bird'), ('bird', 'in'), ('in', 'the'), ('the', 'hand'), ('hand', 'worths'), ('worths', 'two'), ('two', 'in'), ('in', 'the'), ('the', 'bush')]\n",
            "3-grams:\n",
            " [('A', 'bird', 'in'), ('bird', 'in', 'the'), ('in', 'the', 'hand'), ('the', 'hand', 'worths'), ('hand', 'worths', 'two'), ('worths', 'two', 'in'), ('two', 'in', 'the'), ('in', 'the', 'bush')]\n",
            "4-grams:\n",
            " [('A', 'bird', 'in', 'the'), ('bird', 'in', 'the', 'hand'), ('in', 'the', 'hand', 'worths'), ('the', 'hand', 'worths', 'two'), ('hand', 'worths', 'two', 'in'), ('worths', 'two', 'in', 'the'), ('two', 'in', 'the', 'bush')]\n",
            "5-grams:\n",
            " [('A', 'bird', 'in', 'the', 'hand'), ('bird', 'in', 'the', 'hand', 'worths'), ('in', 'the', 'hand', 'worths', 'two'), ('the', 'hand', 'worths', 'two', 'in'), ('hand', 'worths', 'two', 'in', 'the'), ('worths', 'two', 'in', 'the', 'bush')]\n"
          ]
        }
      ]
    },
    {
      "cell_type": "markdown",
      "metadata": {
        "id": "JHeZk_mA8Zen"
      },
      "source": [
        "##Bag of words!\n"
      ]
    },
    {
      "cell_type": "code",
      "metadata": {
        "colab": {
          "base_uri": "https://localhost:8080/",
          "height": 253
        },
        "id": "l3C_gbMx8csd",
        "outputId": "da9046df-b70e-4ab5-b88f-8bcec47845e0"
      },
      "source": [
        "# The following code creates a word-document matrix.\n",
        "from sklearn.feature_extraction.text import CountVectorizer\n",
        "\n",
        "vec = CountVectorizer()\n",
        "X = vec.fit_transform(csvsen1['text_new'])\n",
        "df = pd.DataFrame(X.toarray(), columns = vec.get_feature_names())\n",
        "df.head()"
      ],
      "execution_count": 215,
      "outputs": [
        {
          "output_type": "execute_result",
          "data": {
            "text/html": [
              "<div>\n",
              "<style scoped>\n",
              "    .dataframe tbody tr th:only-of-type {\n",
              "        vertical-align: middle;\n",
              "    }\n",
              "\n",
              "    .dataframe tbody tr th {\n",
              "        vertical-align: top;\n",
              "    }\n",
              "\n",
              "    .dataframe thead th {\n",
              "        text-align: right;\n",
              "    }\n",
              "</style>\n",
              "<table border=\"1\" class=\"dataframe\">\n",
              "  <thead>\n",
              "    <tr style=\"text-align: right;\">\n",
              "      <th></th>\n",
              "      <th>10</th>\n",
              "      <th>18</th>\n",
              "      <th>18f</th>\n",
              "      <th>19</th>\n",
              "      <th>23</th>\n",
              "      <th>2am</th>\n",
              "      <th>30</th>\n",
              "      <th>42am</th>\n",
              "      <th>50mg</th>\n",
              "      <th>7pm</th>\n",
              "      <th>aaaaaaa</th>\n",
              "      <th>aaaaaaaaa</th>\n",
              "      <th>able</th>\n",
              "      <th>about</th>\n",
              "      <th>absolutely</th>\n",
              "      <th>academy</th>\n",
              "      <th>accident</th>\n",
              "      <th>acid</th>\n",
              "      <th>actually</th>\n",
              "      <th>ad</th>\n",
              "      <th>add</th>\n",
              "      <th>adrenaline</th>\n",
              "      <th>advice</th>\n",
              "      <th>afraid</th>\n",
              "      <th>after</th>\n",
              "      <th>again</th>\n",
              "      <th>ago</th>\n",
              "      <th>agony</th>\n",
              "      <th>agree</th>\n",
              "      <th>aid</th>\n",
              "      <th>air</th>\n",
              "      <th>all</th>\n",
              "      <th>almost</th>\n",
              "      <th>alone</th>\n",
              "      <th>already</th>\n",
              "      <th>also</th>\n",
              "      <th>always</th>\n",
              "      <th>am</th>\n",
              "      <th>amp</th>\n",
              "      <th>an</th>\n",
              "      <th>...</th>\n",
              "      <th>where</th>\n",
              "      <th>whereas</th>\n",
              "      <th>which</th>\n",
              "      <th>while</th>\n",
              "      <th>who</th>\n",
              "      <th>whole</th>\n",
              "      <th>why</th>\n",
              "      <th>will</th>\n",
              "      <th>wisdom</th>\n",
              "      <th>wish</th>\n",
              "      <th>with</th>\n",
              "      <th>within</th>\n",
              "      <th>woke</th>\n",
              "      <th>woken</th>\n",
              "      <th>won</th>\n",
              "      <th>wonderful</th>\n",
              "      <th>words</th>\n",
              "      <th>work</th>\n",
              "      <th>worked</th>\n",
              "      <th>working</th>\n",
              "      <th>world</th>\n",
              "      <th>worried</th>\n",
              "      <th>worries</th>\n",
              "      <th>worry</th>\n",
              "      <th>worrying</th>\n",
              "      <th>worse</th>\n",
              "      <th>worst</th>\n",
              "      <th>would</th>\n",
              "      <th>wouldn</th>\n",
              "      <th>wreck</th>\n",
              "      <th>wrong</th>\n",
              "      <th>wtf</th>\n",
              "      <th>xddd</th>\n",
              "      <th>yeah</th>\n",
              "      <th>years</th>\n",
              "      <th>yesterday</th>\n",
              "      <th>you</th>\n",
              "      <th>your</th>\n",
              "      <th>yourself</th>\n",
              "      <th>zaps</th>\n",
              "    </tr>\n",
              "  </thead>\n",
              "  <tbody>\n",
              "    <tr>\n",
              "      <th>0</th>\n",
              "      <td>0</td>\n",
              "      <td>0</td>\n",
              "      <td>0</td>\n",
              "      <td>0</td>\n",
              "      <td>0</td>\n",
              "      <td>0</td>\n",
              "      <td>0</td>\n",
              "      <td>0</td>\n",
              "      <td>0</td>\n",
              "      <td>0</td>\n",
              "      <td>0</td>\n",
              "      <td>0</td>\n",
              "      <td>0</td>\n",
              "      <td>0</td>\n",
              "      <td>0</td>\n",
              "      <td>0</td>\n",
              "      <td>0</td>\n",
              "      <td>0</td>\n",
              "      <td>0</td>\n",
              "      <td>0</td>\n",
              "      <td>0</td>\n",
              "      <td>0</td>\n",
              "      <td>0</td>\n",
              "      <td>0</td>\n",
              "      <td>0</td>\n",
              "      <td>0</td>\n",
              "      <td>0</td>\n",
              "      <td>0</td>\n",
              "      <td>0</td>\n",
              "      <td>0</td>\n",
              "      <td>0</td>\n",
              "      <td>0</td>\n",
              "      <td>0</td>\n",
              "      <td>0</td>\n",
              "      <td>0</td>\n",
              "      <td>0</td>\n",
              "      <td>0</td>\n",
              "      <td>0</td>\n",
              "      <td>0</td>\n",
              "      <td>0</td>\n",
              "      <td>...</td>\n",
              "      <td>0</td>\n",
              "      <td>0</td>\n",
              "      <td>0</td>\n",
              "      <td>0</td>\n",
              "      <td>0</td>\n",
              "      <td>0</td>\n",
              "      <td>0</td>\n",
              "      <td>0</td>\n",
              "      <td>0</td>\n",
              "      <td>0</td>\n",
              "      <td>0</td>\n",
              "      <td>0</td>\n",
              "      <td>0</td>\n",
              "      <td>0</td>\n",
              "      <td>0</td>\n",
              "      <td>0</td>\n",
              "      <td>0</td>\n",
              "      <td>0</td>\n",
              "      <td>0</td>\n",
              "      <td>0</td>\n",
              "      <td>0</td>\n",
              "      <td>0</td>\n",
              "      <td>0</td>\n",
              "      <td>0</td>\n",
              "      <td>0</td>\n",
              "      <td>0</td>\n",
              "      <td>0</td>\n",
              "      <td>0</td>\n",
              "      <td>0</td>\n",
              "      <td>0</td>\n",
              "      <td>0</td>\n",
              "      <td>0</td>\n",
              "      <td>0</td>\n",
              "      <td>0</td>\n",
              "      <td>0</td>\n",
              "      <td>0</td>\n",
              "      <td>0</td>\n",
              "      <td>0</td>\n",
              "      <td>0</td>\n",
              "      <td>0</td>\n",
              "    </tr>\n",
              "    <tr>\n",
              "      <th>1</th>\n",
              "      <td>0</td>\n",
              "      <td>0</td>\n",
              "      <td>0</td>\n",
              "      <td>0</td>\n",
              "      <td>0</td>\n",
              "      <td>0</td>\n",
              "      <td>0</td>\n",
              "      <td>0</td>\n",
              "      <td>0</td>\n",
              "      <td>0</td>\n",
              "      <td>0</td>\n",
              "      <td>0</td>\n",
              "      <td>0</td>\n",
              "      <td>0</td>\n",
              "      <td>0</td>\n",
              "      <td>0</td>\n",
              "      <td>0</td>\n",
              "      <td>0</td>\n",
              "      <td>0</td>\n",
              "      <td>0</td>\n",
              "      <td>0</td>\n",
              "      <td>0</td>\n",
              "      <td>0</td>\n",
              "      <td>0</td>\n",
              "      <td>0</td>\n",
              "      <td>0</td>\n",
              "      <td>0</td>\n",
              "      <td>0</td>\n",
              "      <td>0</td>\n",
              "      <td>0</td>\n",
              "      <td>0</td>\n",
              "      <td>0</td>\n",
              "      <td>0</td>\n",
              "      <td>0</td>\n",
              "      <td>0</td>\n",
              "      <td>0</td>\n",
              "      <td>0</td>\n",
              "      <td>0</td>\n",
              "      <td>0</td>\n",
              "      <td>0</td>\n",
              "      <td>...</td>\n",
              "      <td>0</td>\n",
              "      <td>0</td>\n",
              "      <td>0</td>\n",
              "      <td>0</td>\n",
              "      <td>0</td>\n",
              "      <td>0</td>\n",
              "      <td>0</td>\n",
              "      <td>0</td>\n",
              "      <td>0</td>\n",
              "      <td>0</td>\n",
              "      <td>0</td>\n",
              "      <td>0</td>\n",
              "      <td>0</td>\n",
              "      <td>0</td>\n",
              "      <td>0</td>\n",
              "      <td>0</td>\n",
              "      <td>0</td>\n",
              "      <td>0</td>\n",
              "      <td>0</td>\n",
              "      <td>0</td>\n",
              "      <td>0</td>\n",
              "      <td>0</td>\n",
              "      <td>0</td>\n",
              "      <td>0</td>\n",
              "      <td>0</td>\n",
              "      <td>0</td>\n",
              "      <td>0</td>\n",
              "      <td>0</td>\n",
              "      <td>0</td>\n",
              "      <td>0</td>\n",
              "      <td>0</td>\n",
              "      <td>0</td>\n",
              "      <td>0</td>\n",
              "      <td>0</td>\n",
              "      <td>0</td>\n",
              "      <td>0</td>\n",
              "      <td>0</td>\n",
              "      <td>0</td>\n",
              "      <td>0</td>\n",
              "      <td>0</td>\n",
              "    </tr>\n",
              "    <tr>\n",
              "      <th>2</th>\n",
              "      <td>0</td>\n",
              "      <td>0</td>\n",
              "      <td>0</td>\n",
              "      <td>0</td>\n",
              "      <td>0</td>\n",
              "      <td>0</td>\n",
              "      <td>0</td>\n",
              "      <td>0</td>\n",
              "      <td>0</td>\n",
              "      <td>0</td>\n",
              "      <td>0</td>\n",
              "      <td>0</td>\n",
              "      <td>0</td>\n",
              "      <td>0</td>\n",
              "      <td>0</td>\n",
              "      <td>0</td>\n",
              "      <td>0</td>\n",
              "      <td>0</td>\n",
              "      <td>0</td>\n",
              "      <td>0</td>\n",
              "      <td>0</td>\n",
              "      <td>0</td>\n",
              "      <td>0</td>\n",
              "      <td>0</td>\n",
              "      <td>0</td>\n",
              "      <td>0</td>\n",
              "      <td>0</td>\n",
              "      <td>0</td>\n",
              "      <td>0</td>\n",
              "      <td>0</td>\n",
              "      <td>0</td>\n",
              "      <td>0</td>\n",
              "      <td>0</td>\n",
              "      <td>0</td>\n",
              "      <td>0</td>\n",
              "      <td>0</td>\n",
              "      <td>0</td>\n",
              "      <td>0</td>\n",
              "      <td>0</td>\n",
              "      <td>0</td>\n",
              "      <td>...</td>\n",
              "      <td>0</td>\n",
              "      <td>0</td>\n",
              "      <td>0</td>\n",
              "      <td>0</td>\n",
              "      <td>0</td>\n",
              "      <td>0</td>\n",
              "      <td>0</td>\n",
              "      <td>0</td>\n",
              "      <td>0</td>\n",
              "      <td>0</td>\n",
              "      <td>0</td>\n",
              "      <td>0</td>\n",
              "      <td>0</td>\n",
              "      <td>0</td>\n",
              "      <td>0</td>\n",
              "      <td>0</td>\n",
              "      <td>0</td>\n",
              "      <td>0</td>\n",
              "      <td>0</td>\n",
              "      <td>0</td>\n",
              "      <td>0</td>\n",
              "      <td>0</td>\n",
              "      <td>0</td>\n",
              "      <td>0</td>\n",
              "      <td>0</td>\n",
              "      <td>0</td>\n",
              "      <td>0</td>\n",
              "      <td>0</td>\n",
              "      <td>0</td>\n",
              "      <td>0</td>\n",
              "      <td>0</td>\n",
              "      <td>0</td>\n",
              "      <td>0</td>\n",
              "      <td>0</td>\n",
              "      <td>0</td>\n",
              "      <td>0</td>\n",
              "      <td>0</td>\n",
              "      <td>0</td>\n",
              "      <td>0</td>\n",
              "      <td>0</td>\n",
              "    </tr>\n",
              "    <tr>\n",
              "      <th>3</th>\n",
              "      <td>0</td>\n",
              "      <td>0</td>\n",
              "      <td>0</td>\n",
              "      <td>0</td>\n",
              "      <td>0</td>\n",
              "      <td>0</td>\n",
              "      <td>0</td>\n",
              "      <td>0</td>\n",
              "      <td>0</td>\n",
              "      <td>0</td>\n",
              "      <td>0</td>\n",
              "      <td>0</td>\n",
              "      <td>0</td>\n",
              "      <td>0</td>\n",
              "      <td>0</td>\n",
              "      <td>0</td>\n",
              "      <td>0</td>\n",
              "      <td>0</td>\n",
              "      <td>0</td>\n",
              "      <td>0</td>\n",
              "      <td>0</td>\n",
              "      <td>0</td>\n",
              "      <td>0</td>\n",
              "      <td>0</td>\n",
              "      <td>0</td>\n",
              "      <td>0</td>\n",
              "      <td>0</td>\n",
              "      <td>0</td>\n",
              "      <td>0</td>\n",
              "      <td>0</td>\n",
              "      <td>0</td>\n",
              "      <td>0</td>\n",
              "      <td>0</td>\n",
              "      <td>0</td>\n",
              "      <td>0</td>\n",
              "      <td>0</td>\n",
              "      <td>0</td>\n",
              "      <td>0</td>\n",
              "      <td>0</td>\n",
              "      <td>0</td>\n",
              "      <td>...</td>\n",
              "      <td>0</td>\n",
              "      <td>0</td>\n",
              "      <td>0</td>\n",
              "      <td>0</td>\n",
              "      <td>0</td>\n",
              "      <td>0</td>\n",
              "      <td>0</td>\n",
              "      <td>0</td>\n",
              "      <td>0</td>\n",
              "      <td>0</td>\n",
              "      <td>0</td>\n",
              "      <td>0</td>\n",
              "      <td>0</td>\n",
              "      <td>0</td>\n",
              "      <td>0</td>\n",
              "      <td>0</td>\n",
              "      <td>0</td>\n",
              "      <td>0</td>\n",
              "      <td>0</td>\n",
              "      <td>0</td>\n",
              "      <td>0</td>\n",
              "      <td>0</td>\n",
              "      <td>0</td>\n",
              "      <td>0</td>\n",
              "      <td>0</td>\n",
              "      <td>0</td>\n",
              "      <td>0</td>\n",
              "      <td>0</td>\n",
              "      <td>0</td>\n",
              "      <td>0</td>\n",
              "      <td>0</td>\n",
              "      <td>0</td>\n",
              "      <td>0</td>\n",
              "      <td>0</td>\n",
              "      <td>0</td>\n",
              "      <td>0</td>\n",
              "      <td>0</td>\n",
              "      <td>0</td>\n",
              "      <td>0</td>\n",
              "      <td>0</td>\n",
              "    </tr>\n",
              "    <tr>\n",
              "      <th>4</th>\n",
              "      <td>0</td>\n",
              "      <td>0</td>\n",
              "      <td>0</td>\n",
              "      <td>0</td>\n",
              "      <td>0</td>\n",
              "      <td>0</td>\n",
              "      <td>0</td>\n",
              "      <td>0</td>\n",
              "      <td>0</td>\n",
              "      <td>0</td>\n",
              "      <td>0</td>\n",
              "      <td>0</td>\n",
              "      <td>0</td>\n",
              "      <td>0</td>\n",
              "      <td>0</td>\n",
              "      <td>0</td>\n",
              "      <td>0</td>\n",
              "      <td>0</td>\n",
              "      <td>0</td>\n",
              "      <td>0</td>\n",
              "      <td>0</td>\n",
              "      <td>0</td>\n",
              "      <td>0</td>\n",
              "      <td>0</td>\n",
              "      <td>0</td>\n",
              "      <td>0</td>\n",
              "      <td>0</td>\n",
              "      <td>0</td>\n",
              "      <td>0</td>\n",
              "      <td>0</td>\n",
              "      <td>0</td>\n",
              "      <td>0</td>\n",
              "      <td>0</td>\n",
              "      <td>0</td>\n",
              "      <td>0</td>\n",
              "      <td>0</td>\n",
              "      <td>0</td>\n",
              "      <td>0</td>\n",
              "      <td>0</td>\n",
              "      <td>0</td>\n",
              "      <td>...</td>\n",
              "      <td>0</td>\n",
              "      <td>0</td>\n",
              "      <td>0</td>\n",
              "      <td>0</td>\n",
              "      <td>0</td>\n",
              "      <td>0</td>\n",
              "      <td>0</td>\n",
              "      <td>0</td>\n",
              "      <td>0</td>\n",
              "      <td>0</td>\n",
              "      <td>0</td>\n",
              "      <td>0</td>\n",
              "      <td>0</td>\n",
              "      <td>0</td>\n",
              "      <td>0</td>\n",
              "      <td>0</td>\n",
              "      <td>0</td>\n",
              "      <td>0</td>\n",
              "      <td>0</td>\n",
              "      <td>0</td>\n",
              "      <td>0</td>\n",
              "      <td>0</td>\n",
              "      <td>0</td>\n",
              "      <td>0</td>\n",
              "      <td>0</td>\n",
              "      <td>0</td>\n",
              "      <td>0</td>\n",
              "      <td>0</td>\n",
              "      <td>0</td>\n",
              "      <td>0</td>\n",
              "      <td>0</td>\n",
              "      <td>0</td>\n",
              "      <td>0</td>\n",
              "      <td>0</td>\n",
              "      <td>0</td>\n",
              "      <td>0</td>\n",
              "      <td>0</td>\n",
              "      <td>0</td>\n",
              "      <td>0</td>\n",
              "      <td>0</td>\n",
              "    </tr>\n",
              "  </tbody>\n",
              "</table>\n",
              "<p>5 rows × 779 columns</p>\n",
              "</div>"
            ],
            "text/plain": [
              "   10  18  18f  19  23  2am  ...  years  yesterday  you  your  yourself  zaps\n",
              "0   0   0    0   0   0    0  ...      0          0    0     0         0     0\n",
              "1   0   0    0   0   0    0  ...      0          0    0     0         0     0\n",
              "2   0   0    0   0   0    0  ...      0          0    0     0         0     0\n",
              "3   0   0    0   0   0    0  ...      0          0    0     0         0     0\n",
              "4   0   0    0   0   0    0  ...      0          0    0     0         0     0\n",
              "\n",
              "[5 rows x 779 columns]"
            ]
          },
          "metadata": {},
          "execution_count": 215
        }
      ]
    },
    {
      "cell_type": "code",
      "metadata": {
        "id": "YZwBFGcs8gs9"
      },
      "source": [
        "### Creating a python object of the class CountVectorizer\n",
        "\n",
        "bow_counts = CountVectorizer(tokenizer= word_tokenize, # type of tokenization\n",
        "                           stop_words=noise_words, # List of stopwords\n",
        "                             ngram_range=(1,1)) # number of n-grams\n",
        "\n",
        "bow_data = bow_counts.fit_transform(csvsen1['text_new'])"
      ],
      "execution_count": 217,
      "outputs": []
    },
    {
      "cell_type": "code",
      "metadata": {
        "colab": {
          "base_uri": "https://localhost:8080/"
        },
        "id": "Hp4r8Dso8qS_",
        "outputId": "37c15768-7e09-43e1-cf7a-11f60c79bde2"
      },
      "source": [
        "bow_data"
      ],
      "execution_count": 218,
      "outputs": [
        {
          "output_type": "execute_result",
          "data": {
            "text/plain": [
              "<200x795 sparse matrix of type '<class 'numpy.int64'>'\n",
              "\twith 2800 stored elements in Compressed Sparse Row format>"
            ]
          },
          "metadata": {},
          "execution_count": 218
        }
      ]
    },
    {
      "cell_type": "code",
      "metadata": {
        "colab": {
          "base_uri": "https://localhost:8080/"
        },
        "id": "iWPTNLpx8tV6",
        "outputId": "3857a1e8-8c15-4f37-9c9d-57404a248306"
      },
      "source": [
        "csvsen1['target'].nunique()"
      ],
      "execution_count": 219,
      "outputs": [
        {
          "output_type": "execute_result",
          "data": {
            "text/plain": [
              "2"
            ]
          },
          "metadata": {},
          "execution_count": 219
        }
      ]
    },
    {
      "cell_type": "code",
      "metadata": {
        "colab": {
          "base_uri": "https://localhost:8080/",
          "height": 408
        },
        "id": "kkGf0IQ9UCSD",
        "outputId": "34f6650d-6c77-4f59-f13c-0a1e2641fbd6"
      },
      "source": [
        "# Plotting the distribution for dataset.\n",
        "ax = csvsen1.groupby('target').count().plot(kind='bar', title='Distribution of data',legend=False)\n",
        "ax.set_xticklabels(['Not anxious','Anxious'], rotation=0)\n",
        "# Storing data in lists.\n",
        "text, sentiment = list(csvsen1['text_new']), list(csvsen1['target'])"
      ],
      "execution_count": 220,
      "outputs": [
        {
          "output_type": "display_data",
          "data": {
            "image/png": "[encoded data removed]",
            "text/plain": [
              "<Figure size 1008x432 with 1 Axes>"
            ]
          },
          "metadata": {}
        }
      ]
    },
    {
      "cell_type": "code",
      "metadata": {
        "colab": {
          "base_uri": "https://localhost:8080/",
          "height": 408
        },
        "id": "JxyhU2QHUiqN",
        "outputId": "b833a4e4-467f-4600-bebd-247ac9d315ba"
      },
      "source": [
        "import seaborn as sns\n",
        "sns.countplot(x='target', data=csvsen1)"
      ],
      "execution_count": 221,
      "outputs": [
        {
          "output_type": "execute_result",
          "data": {
            "text/plain": [
              "<matplotlib.axes._subplots.AxesSubplot at 0x7f0730971b10>"
            ]
          },
          "metadata": {},
          "execution_count": 221
        },
        {
          "output_type": "display_data",
          "data": {
            "image/png": "[encoded data removed]",
            "text/plain": [
              "<Figure size 1008x432 with 1 Axes>"
            ]
          },
          "metadata": {}
        }
      ]
    },
    {
      "cell_type": "code",
      "metadata": {
        "id": "zWKomnYrU4md"
      },
      "source": [
        "data=csvsen1[['text_new','target']]"
      ],
      "execution_count": 222,
      "outputs": []
    },
    {
      "cell_type": "code",
      "metadata": {
        "colab": {
          "base_uri": "https://localhost:8080/"
        },
        "id": "8PvHMzsHVEO4",
        "outputId": "3dc2b991-8db7-45e5-f287-328dea7d7a37"
      },
      "source": [
        "data['target'].unique()\n"
      ],
      "execution_count": 223,
      "outputs": [
        {
          "output_type": "execute_result",
          "data": {
            "text/plain": [
              "array([1, 0])"
            ]
          },
          "metadata": {},
          "execution_count": 223
        }
      ]
    },
    {
      "cell_type": "code",
      "metadata": {
        "id": "CN3hZbEVVmVF"
      },
      "source": [
        "data_pos = data[data['target'] == 1]\n",
        "data_neg = data[data['target'] == 0]"
      ],
      "execution_count": 224,
      "outputs": []
    },
    {
      "cell_type": "code",
      "metadata": {
        "colab": {
          "base_uri": "https://localhost:8080/",
          "height": 419
        },
        "id": "gsDUV1ztZRP7",
        "outputId": "eae4ca84-8e10-4f1a-c05f-490e52681558"
      },
      "source": [
        "dataset = pd.concat([data_pos, data_neg])\n",
        "dataset"
      ],
      "execution_count": 227,
      "outputs": [
        {
          "output_type": "execute_result",
          "data": {
            "text/html": [
              "<div>\n",
              "<style scoped>\n",
              "    .dataframe tbody tr th:only-of-type {\n",
              "        vertical-align: middle;\n",
              "    }\n",
              "\n",
              "    .dataframe tbody tr th {\n",
              "        vertical-align: top;\n",
              "    }\n",
              "\n",
              "    .dataframe thead th {\n",
              "        text-align: right;\n",
              "    }\n",
              "</style>\n",
              "<table border=\"1\" class=\"dataframe\">\n",
              "  <thead>\n",
              "    <tr style=\"text-align: right;\">\n",
              "      <th></th>\n",
              "      <th>text_new</th>\n",
              "      <th>target</th>\n",
              "    </tr>\n",
              "  </thead>\n",
              "  <tbody>\n",
              "    <tr>\n",
              "      <th>0</th>\n",
              "      <td>this physical pain</td>\n",
              "      <td>1</td>\n",
              "    </tr>\n",
              "    <tr>\n",
              "      <th>1</th>\n",
              "      <td>it s like there s a boulder on my chest</td>\n",
              "      <td>1</td>\n",
              "    </tr>\n",
              "    <tr>\n",
              "      <th>2</th>\n",
              "      <td>there is a knot in my stomach</td>\n",
              "      <td>1</td>\n",
              "    </tr>\n",
              "    <tr>\n",
              "      <th>3</th>\n",
              "      <td>i don t know how to make it go away  i m so ex...</td>\n",
              "      <td>1</td>\n",
              "    </tr>\n",
              "    <tr>\n",
              "      <th>4</th>\n",
              "      <td>i can t cry</td>\n",
              "      <td>1</td>\n",
              "    </tr>\n",
              "    <tr>\n",
              "      <th>...</th>\n",
              "      <td>...</td>\n",
              "      <td>...</td>\n",
              "    </tr>\n",
              "    <tr>\n",
              "      <th>183</th>\n",
              "      <td>it s quite common for me to feel uncomfortable...</td>\n",
              "      <td>0</td>\n",
              "    </tr>\n",
              "    <tr>\n",
              "      <th>186</th>\n",
              "      <td>i really feared getting touched and really wan...</td>\n",
              "      <td>0</td>\n",
              "    </tr>\n",
              "    <tr>\n",
              "      <th>187</th>\n",
              "      <td>it was the first time this happened and i ende...</td>\n",
              "      <td>0</td>\n",
              "    </tr>\n",
              "    <tr>\n",
              "      <th>188</th>\n",
              "      <td>right now i m experiencing the same  i really ...</td>\n",
              "      <td>0</td>\n",
              "    </tr>\n",
              "    <tr>\n",
              "      <th>190</th>\n",
              "      <td>i really do not want to be touched and i fear ...</td>\n",
              "      <td>0</td>\n",
              "    </tr>\n",
              "  </tbody>\n",
              "</table>\n",
              "<p>200 rows × 2 columns</p>\n",
              "</div>"
            ],
            "text/plain": [
              "                                              text_new  target\n",
              "0                                  this physical pain        1\n",
              "1             it s like there s a boulder on my chest        1\n",
              "2                       there is a knot in my stomach        1\n",
              "3    i don t know how to make it go away  i m so ex...       1\n",
              "4                                         i can t cry        1\n",
              "..                                                 ...     ...\n",
              "183  it s quite common for me to feel uncomfortable...       0\n",
              "186  i really feared getting touched and really wan...       0\n",
              "187  it was the first time this happened and i ende...       0\n",
              "188  right now i m experiencing the same  i really ...       0\n",
              "190  i really do not want to be touched and i fear ...       0\n",
              "\n",
              "[200 rows x 2 columns]"
            ]
          },
          "metadata": {},
          "execution_count": 227
        }
      ]
    },
    {
      "cell_type": "code",
      "metadata": {
        "colab": {
          "base_uri": "https://localhost:8080/"
        },
        "id": "FkTKKfLWZYti",
        "outputId": "cf71e3a0-d93f-43c7-fedf-1252f23266d8"
      },
      "source": [
        "dataset['text']=dataset['text_new'].str.lower()\n",
        "dataset['text'].tail()"
      ],
      "execution_count": 237,
      "outputs": [
        {
          "output_type": "execute_result",
          "data": {
            "text/plain": [
              "183    it s quite common for me to feel uncomfortable...\n",
              "186    i really feared getting touched and really wan...\n",
              "187    it was the first time this happened and i ende...\n",
              "188    right now i m experiencing the same  i really ...\n",
              "190    i really do not want to be touched and i fear ...\n",
              "Name: text, dtype: object"
            ]
          },
          "metadata": {},
          "execution_count": 237
        }
      ]
    },
    {
      "cell_type": "code",
      "metadata": {
        "id": "XK0qsXh7aULP"
      },
      "source": [
        "stopwordlist = ['a', 'about', 'above', 'after', 'again', 'ain', 'all', 'am', 'an',\n",
        "             'and','any','are', 'as', 'at', 'be', 'because', 'been', 'before',\n",
        "             'being', 'below', 'between','both', 'by', 'can', 'd', 'did', 'do',\n",
        "             'does', 'doing', 'down', 'during', 'each','few', 'for', 'from',\n",
        "             'further', 'had', 'has', 'have', 'having', 'he', 'her', 'here',\n",
        "             'hers', 'herself', 'him', 'himself', 'his', 'how', 'i', 'if', 'in',\n",
        "             'into','is', 'it', 'its', 'itself', 'just', 'll', 'm', 'ma',\n",
        "             'me', 'more', 'most','my', 'myself', 'now', 'o', 'of', 'on', 'once',\n",
        "             'only', 'or', 'other', 'our', 'ours','ourselves', 'out', 'own', 're','s', 'same', 'she', \"shes\", 'should', \"shouldve\",'so', 'some', 'such',\n",
        "             't', 'than', 'that', \"thatll\", 'the', 'their', 'theirs', 'them',\n",
        "             'themselves', 'then', 'there', 'these', 'they', 'this', 'those',\n",
        "             'through', 'to', 'too','under', 'until', 'up', 've', 'very', 'was',\n",
        "             'we', 'were', 'what', 'when', 'where','which','while', 'who', 'whom',\n",
        "             'why', 'will', 'with', 'won', 'y', 'you', \"youd\",\"youll\", \"youre\",\n",
        "             \"youve\", 'your', 'yours', 'yourself', 'yourselves']"
      ],
      "execution_count": 238,
      "outputs": []
    },
    {
      "cell_type": "code",
      "metadata": {
        "colab": {
          "base_uri": "https://localhost:8080/"
        },
        "id": "SuxgniRzaV76",
        "outputId": "6cf12b82-9da7-4097-d906-d3d9bfd85ca2"
      },
      "source": [
        "STOPWORDS = set(stopwordlist)\n",
        "def cleaning_stopwords(text):\n",
        "    return \" \".join([word for word in str(text).split() if word not in STOPWORDS])\n",
        "dataset['text'] = dataset['text'].apply(lambda text: cleaning_stopwords(text))\n",
        "dataset['text'].head()"
      ],
      "execution_count": 239,
      "outputs": [
        {
          "output_type": "execute_result",
          "data": {
            "text/plain": [
              "0                      physical pain\n",
              "1                 like boulder chest\n",
              "2                       knot stomach\n",
              "3    don know make go away exhausted\n",
              "4                                cry\n",
              "Name: text, dtype: object"
            ]
          },
          "metadata": {},
          "execution_count": 239
        }
      ]
    },
    {
      "cell_type": "code",
      "metadata": {
        "colab": {
          "base_uri": "https://localhost:8080/"
        },
        "id": "Cv054AO5aaHY",
        "outputId": "bd6eb35e-29bc-4b51-ac83-bf029a3cf5d6"
      },
      "source": [
        "import string\n",
        "english_punctuations = string.punctuation\n",
        "punctuations_list = english_punctuations\n",
        "def cleaning_punctuations(text):\n",
        "    translator = str.maketrans('', '', punctuations_list)\n",
        "    return text.translate(translator)\n",
        "dataset['text']= dataset['text'].apply(lambda x: cleaning_punctuations(x))\n",
        "dataset['text'].tail()"
      ],
      "execution_count": 240,
      "outputs": [
        {
          "output_type": "execute_result",
          "data": {
            "text/plain": [
              "183    quite common feel uncomfortable physically clo...\n",
              "186    really feared getting touched really wanted di...\n",
              "187      first time happened ended crying shaking passed\n",
              "188    right experiencing really don want anyone arou...\n",
              "190              really not want touched fear lot moment\n",
              "Name: text, dtype: object"
            ]
          },
          "metadata": {},
          "execution_count": 240
        }
      ]
    },
    {
      "cell_type": "code",
      "metadata": {
        "colab": {
          "base_uri": "https://localhost:8080/"
        },
        "id": "cp89O6vpa611",
        "outputId": "13705ee4-3d09-4645-cf8a-790bf2246a7d"
      },
      "source": [
        "lm = nltk.WordNetLemmatizer()\n",
        "def lemmatizer_on_text(data):\n",
        "    text = [lm.lemmatize(word) for word in data]\n",
        "    return data\n",
        "dataset['text'] = dataset['text'].apply(lambda x: lemmatizer_on_text(x))\n",
        "dataset['text'].head()"
      ],
      "execution_count": 241,
      "outputs": [
        {
          "output_type": "execute_result",
          "data": {
            "text/plain": [
              "0                      physical pain\n",
              "1                 like boulder chest\n",
              "2                       knot stomach\n",
              "3    don know make go away exhausted\n",
              "4                                cry\n",
              "Name: text, dtype: object"
            ]
          },
          "metadata": {},
          "execution_count": 241
        }
      ]
    },
    {
      "cell_type": "code",
      "metadata": {
        "id": "sUkTkKAGazw1"
      },
      "source": [
        "X=dataset.text\n",
        "y=dataset.target"
      ],
      "execution_count": 245,
      "outputs": []
    },
    {
      "cell_type": "code",
      "metadata": {
        "id": "07vXYitbaKB7"
      },
      "source": [
        "# Separating the 95% data for training data and 5% for testing data\n",
        "X_train, X_test, y_train, y_test = train_test_split(X,y,test_size = 0.05, random_state =26105111)"
      ],
      "execution_count": 246,
      "outputs": []
    },
    {
      "cell_type": "code",
      "metadata": {
        "colab": {
          "base_uri": "https://localhost:8080/"
        },
        "id": "dTht6bXlcWBM",
        "outputId": "3364bf60-6979-4f27-9f28-6fa44794b2e9"
      },
      "source": [
        "vectoriser = TfidfVectorizer(ngram_range=(1,2), max_features=500000)\n",
        "vectoriser.fit(X_train)\n",
        "print('No. of feature_words: ', len(vectoriser.get_feature_names()))"
      ],
      "execution_count": 247,
      "outputs": [
        {
          "output_type": "stream",
          "name": "stdout",
          "text": [
            "No. of feature_words:  1813\n"
          ]
        }
      ]
    },
    {
      "cell_type": "code",
      "metadata": {
        "id": "eqEVlh2NcZSG"
      },
      "source": [
        "X_train = vectoriser.transform(X_train)\n",
        "X_test  = vectoriser.transform(X_test)"
      ],
      "execution_count": 248,
      "outputs": []
    },
    {
      "cell_type": "code",
      "metadata": {
        "id": "Zu9EkF5Kccsy"
      },
      "source": [
        "def model_Evaluate(model):\n",
        "# Predict values for Test dataset\n",
        "  y_pred = model.predict(X_test)\n",
        "# Print the evaluation metrics for the dataset.\n",
        "  print(classification_report(y_test, y_pred))\n",
        "# Compute and plot the Confusion matrix\n",
        "  cf_matrix = confusion_matrix(y_test, y_pred)\n",
        "  categories = ['Negative','Positive']\n",
        "  group_names = ['True Neg','False Pos', 'False Neg','True Pos']\n",
        "  group_percentages = ['{0:.2%}'.format(value) for value in cf_matrix.flatten() / np.sum(cf_matrix)]\n",
        "  labels = [f'{v1}n{v2}' for v1, v2 in zip(group_names,group_percentages)]\n",
        "  labels = np.asarray(labels).reshape(2,2)\n",
        "  sns.heatmap(cf_matrix, annot = labels, cmap = 'Blues',fmt = '',\n",
        "  xticklabels = categories, yticklabels = categories)\n",
        "  plt.xlabel(\"Predicted values\", fontdict = {'size':14}, labelpad = 10)\n",
        "  plt.ylabel(\"Actual values\" , fontdict = {'size':14}, labelpad = 10)\n",
        "  plt.title (\"Confusion Matrix\", fontdict = {'size':18}, pad = 20)"
      ],
      "execution_count": 250,
      "outputs": []
    },
    {
      "cell_type": "markdown",
      "metadata": {
        "id": "UQObjD-3dOZf"
      },
      "source": [
        "## Applying Logistic Regression"
      ]
    },
    {
      "cell_type": "code",
      "metadata": {
        "colab": {
          "base_uri": "https://localhost:8080/",
          "height": 585
        },
        "id": "RSCgtKwfdTtr",
        "outputId": "e81213f4-43f6-42fe-bf48-4cb144292041"
      },
      "source": [
        "LRmodel = LogisticRegression(C = 2, max_iter = 1000, n_jobs=-1)\n",
        "LRmodel.fit(X_train, y_train)\n",
        "model_Evaluate(LRmodel)\n",
        "y_pred3 = LRmodel.predict(X_test)"
      ],
      "execution_count": 254,
      "outputs": [
        {
          "output_type": "stream",
          "name": "stdout",
          "text": [
            "              precision    recall  f1-score   support\n",
            "\n",
            "           0       0.00      0.00      0.00         4\n",
            "           1       0.60      1.00      0.75         6\n",
            "\n",
            "    accuracy                           0.60        10\n",
            "   macro avg       0.30      0.50      0.37        10\n",
            "weighted avg       0.36      0.60      0.45        10\n",
            "\n"
          ]
        },
        {
          "output_type": "display_data",
          "data": {
            "image/png": "[encoded data removed]",
            "text/plain": [
              "<Figure size 1008x432 with 2 Axes>"
            ]
          },
          "metadata": {}
        }
      ]
    },
    {
      "cell_type": "code",
      "metadata": {
        "colab": {
          "base_uri": "https://localhost:8080/",
          "height": 408
        },
        "id": "EL6QRY9JdXuO",
        "outputId": "20cc5a5f-69a3-42e8-ec5c-5e0ee030da49"
      },
      "source": [
        "from sklearn.metrics import roc_curve, auc\n",
        "fpr, tpr, thresholds = roc_curve(y_test, y_pred3)\n",
        "roc_auc = auc(fpr, tpr)\n",
        "plt.figure()\n",
        "plt.plot(fpr, tpr, color='darkorange', lw=1, label='ROC curve (area = %0.2f)' % roc_auc)\n",
        "plt.xlim([0.0, 1.0])\n",
        "plt.ylim([0.0, 1.05])\n",
        "plt.xlabel('False Positive Rate')\n",
        "plt.ylabel('True Positive Rate')\n",
        "plt.title('ROC CURVE')\n",
        "plt.legend(loc=\"lower right\")\n",
        "plt.show()"
      ],
      "execution_count": 255,
      "outputs": [
        {
          "output_type": "display_data",
          "data": {
            "image/png": "[encoded data removed]",
            "text/plain": [
              "<Figure size 1008x432 with 1 Axes>"
            ]
          },
          "metadata": {}
        }
      ]
    },
    {
      "cell_type": "code",
      "metadata": {
        "id": "KdpXqyWte3Dj"
      },
      "source": [
        ""
      ],
      "execution_count": null,
      "outputs": []
    }
  ]
}